{
  "nbformat": 4,
  "nbformat_minor": 0,
  "metadata": {
    "colab": {
      "provenance": []
    },
    "kernelspec": {
      "name": "python3",
      "display_name": "Python 3"
    },
    "language_info": {
      "name": "python"
    }
  },
  "cells": [
    {
      "cell_type": "code",
      "execution_count": 252,
      "metadata": {
        "id": "uuwWrU3Nb9uE",
        "colab": {
          "base_uri": "https://localhost:8080/"
        },
        "outputId": "8f8586c1-edc0-439b-c99d-210acab4486f"
      },
      "outputs": [
        {
          "output_type": "stream",
          "name": "stdout",
          "text": [
            "Drive already mounted at /content/drive; to attempt to forcibly remount, call drive.mount(\"/content/drive\", force_remount=True).\n"
          ]
        }
      ],
      "source": [
        "import pandas as pd, numpy as np, os\n",
        "import matplotlib.pyplot as plt\n",
        "from google.colab import drive\n",
        "import seaborn as sns\n",
        "from sklearn.preprocessing import OneHotEncoder, MinMaxScaler, StandardScaler, PolynomialFeatures\n",
        "from sklearn.pipeline import Pipeline\n",
        "from sklearn.linear_model import LinearRegression, Lasso\n",
        "from sklearn.ensemble import RandomForestRegressor\n",
        "from sklearn.metrics import mean_squared_error, r2_score\n",
        "from sklearn.model_selection import cross_val_score\n",
        "\n",
        "\n",
        "drive.mount('/content/drive')"
      ]
    },
    {
      "cell_type": "markdown",
      "source": [
        "## Import Data"
      ],
      "metadata": {
        "id": "sUf5RgHRCXF9"
      }
    },
    {
      "cell_type": "code",
      "source": [
        "train = pd.read_csv('/content/drive/MyDrive/Flatiron/Capstone/Train.csv')\n",
        "test = pd.read_csv('/content/drive/MyDrive/Flatiron/Capstone/Test.csv')\n",
        "\n",
        "train.head()"
      ],
      "metadata": {
        "id": "fNTTCk6tcQnO",
        "colab": {
          "base_uri": "https://localhost:8080/",
          "height": 355
        },
        "outputId": "74bf6dd8-31c5-4fb2-f27c-503759a533c0"
      },
      "execution_count": 187,
      "outputs": [
        {
          "output_type": "execute_result",
          "data": {
            "text/plain": [
              "                ID District      Block  CultLand  CropCultLand  \\\n",
              "0  ID_GTFAC7PEVWQ9  Nalanda  Noorsarai        45            40   \n",
              "1  ID_TK40ARLSPOKS  Nalanda     Rajgir        26            26   \n",
              "2  ID_1FJY2CRIMLZZ     Gaya      Gurua        10            10   \n",
              "3  ID_I3IPXS4DB7NE     Gaya      Gurua        15            15   \n",
              "4  ID_4T8YQWXWHB4A  Nalanda  Noorsarai        60            60   \n",
              "\n",
              "                               LandPreparationMethod CropTillageDate  \\\n",
              "0               TractorPlough FourWheelTracRotavator      2022-07-20   \n",
              "1  WetTillagePuddling TractorPlough FourWheelTrac...      2022-07-18   \n",
              "2               TractorPlough FourWheelTracRotavator      2022-06-30   \n",
              "3               TractorPlough FourWheelTracRotavator      2022-06-16   \n",
              "4                   TractorPlough WetTillagePuddling      2022-07-19   \n",
              "\n",
              "   CropTillageDepth         CropEstMethod RcNursEstDate  ... Harv_method  \\\n",
              "0                 5  Manual_PuddledRandom    2022-06-27  ...     machine   \n",
              "1                 5  Manual_PuddledRandom    2022-06-20  ...        hand   \n",
              "2                 6  Manual_PuddledRandom    2022-06-20  ...        hand   \n",
              "3                 6  Manual_PuddledRandom    2022-06-17  ...        hand   \n",
              "4                 4  Manual_PuddledRandom    2022-06-21  ...     machine   \n",
              "\n",
              "    Harv_date Harv_hand_rent Threshing_date  Threshing_method Residue_length  \\\n",
              "0  2022-11-16            NaN     2022-11-16           machine             30   \n",
              "1  2022-11-25            3.0     2022-12-24           machine             24   \n",
              "2  2022-12-12          480.0     2023-01-11           machine             30   \n",
              "3  2022-12-02          240.0     2022-12-29              hand             26   \n",
              "4  2022-11-30            NaN     2022-12-02           machine             24   \n",
              "\n",
              "  Residue_perc     Stubble_use      Acre Yield  \n",
              "0           40  plowed_in_soil  0.312500   600  \n",
              "1           10  plowed_in_soil  0.312500   600  \n",
              "2           10  plowed_in_soil  0.148148   225  \n",
              "3           10  plowed_in_soil  0.222222   468  \n",
              "4           40  plowed_in_soil  0.468750   550  \n",
              "\n",
              "[5 rows x 44 columns]"
            ],
            "text/html": [
              "\n",
              "  <div id=\"df-df733a7e-3f78-4093-95fe-9e6dc5004c10\" class=\"colab-df-container\">\n",
              "    <div>\n",
              "<style scoped>\n",
              "    .dataframe tbody tr th:only-of-type {\n",
              "        vertical-align: middle;\n",
              "    }\n",
              "\n",
              "    .dataframe tbody tr th {\n",
              "        vertical-align: top;\n",
              "    }\n",
              "\n",
              "    .dataframe thead th {\n",
              "        text-align: right;\n",
              "    }\n",
              "</style>\n",
              "<table border=\"1\" class=\"dataframe\">\n",
              "  <thead>\n",
              "    <tr style=\"text-align: right;\">\n",
              "      <th></th>\n",
              "      <th>ID</th>\n",
              "      <th>District</th>\n",
              "      <th>Block</th>\n",
              "      <th>CultLand</th>\n",
              "      <th>CropCultLand</th>\n",
              "      <th>LandPreparationMethod</th>\n",
              "      <th>CropTillageDate</th>\n",
              "      <th>CropTillageDepth</th>\n",
              "      <th>CropEstMethod</th>\n",
              "      <th>RcNursEstDate</th>\n",
              "      <th>...</th>\n",
              "      <th>Harv_method</th>\n",
              "      <th>Harv_date</th>\n",
              "      <th>Harv_hand_rent</th>\n",
              "      <th>Threshing_date</th>\n",
              "      <th>Threshing_method</th>\n",
              "      <th>Residue_length</th>\n",
              "      <th>Residue_perc</th>\n",
              "      <th>Stubble_use</th>\n",
              "      <th>Acre</th>\n",
              "      <th>Yield</th>\n",
              "    </tr>\n",
              "  </thead>\n",
              "  <tbody>\n",
              "    <tr>\n",
              "      <th>0</th>\n",
              "      <td>ID_GTFAC7PEVWQ9</td>\n",
              "      <td>Nalanda</td>\n",
              "      <td>Noorsarai</td>\n",
              "      <td>45</td>\n",
              "      <td>40</td>\n",
              "      <td>TractorPlough FourWheelTracRotavator</td>\n",
              "      <td>2022-07-20</td>\n",
              "      <td>5</td>\n",
              "      <td>Manual_PuddledRandom</td>\n",
              "      <td>2022-06-27</td>\n",
              "      <td>...</td>\n",
              "      <td>machine</td>\n",
              "      <td>2022-11-16</td>\n",
              "      <td>NaN</td>\n",
              "      <td>2022-11-16</td>\n",
              "      <td>machine</td>\n",
              "      <td>30</td>\n",
              "      <td>40</td>\n",
              "      <td>plowed_in_soil</td>\n",
              "      <td>0.312500</td>\n",
              "      <td>600</td>\n",
              "    </tr>\n",
              "    <tr>\n",
              "      <th>1</th>\n",
              "      <td>ID_TK40ARLSPOKS</td>\n",
              "      <td>Nalanda</td>\n",
              "      <td>Rajgir</td>\n",
              "      <td>26</td>\n",
              "      <td>26</td>\n",
              "      <td>WetTillagePuddling TractorPlough FourWheelTrac...</td>\n",
              "      <td>2022-07-18</td>\n",
              "      <td>5</td>\n",
              "      <td>Manual_PuddledRandom</td>\n",
              "      <td>2022-06-20</td>\n",
              "      <td>...</td>\n",
              "      <td>hand</td>\n",
              "      <td>2022-11-25</td>\n",
              "      <td>3.0</td>\n",
              "      <td>2022-12-24</td>\n",
              "      <td>machine</td>\n",
              "      <td>24</td>\n",
              "      <td>10</td>\n",
              "      <td>plowed_in_soil</td>\n",
              "      <td>0.312500</td>\n",
              "      <td>600</td>\n",
              "    </tr>\n",
              "    <tr>\n",
              "      <th>2</th>\n",
              "      <td>ID_1FJY2CRIMLZZ</td>\n",
              "      <td>Gaya</td>\n",
              "      <td>Gurua</td>\n",
              "      <td>10</td>\n",
              "      <td>10</td>\n",
              "      <td>TractorPlough FourWheelTracRotavator</td>\n",
              "      <td>2022-06-30</td>\n",
              "      <td>6</td>\n",
              "      <td>Manual_PuddledRandom</td>\n",
              "      <td>2022-06-20</td>\n",
              "      <td>...</td>\n",
              "      <td>hand</td>\n",
              "      <td>2022-12-12</td>\n",
              "      <td>480.0</td>\n",
              "      <td>2023-01-11</td>\n",
              "      <td>machine</td>\n",
              "      <td>30</td>\n",
              "      <td>10</td>\n",
              "      <td>plowed_in_soil</td>\n",
              "      <td>0.148148</td>\n",
              "      <td>225</td>\n",
              "    </tr>\n",
              "    <tr>\n",
              "      <th>3</th>\n",
              "      <td>ID_I3IPXS4DB7NE</td>\n",
              "      <td>Gaya</td>\n",
              "      <td>Gurua</td>\n",
              "      <td>15</td>\n",
              "      <td>15</td>\n",
              "      <td>TractorPlough FourWheelTracRotavator</td>\n",
              "      <td>2022-06-16</td>\n",
              "      <td>6</td>\n",
              "      <td>Manual_PuddledRandom</td>\n",
              "      <td>2022-06-17</td>\n",
              "      <td>...</td>\n",
              "      <td>hand</td>\n",
              "      <td>2022-12-02</td>\n",
              "      <td>240.0</td>\n",
              "      <td>2022-12-29</td>\n",
              "      <td>hand</td>\n",
              "      <td>26</td>\n",
              "      <td>10</td>\n",
              "      <td>plowed_in_soil</td>\n",
              "      <td>0.222222</td>\n",
              "      <td>468</td>\n",
              "    </tr>\n",
              "    <tr>\n",
              "      <th>4</th>\n",
              "      <td>ID_4T8YQWXWHB4A</td>\n",
              "      <td>Nalanda</td>\n",
              "      <td>Noorsarai</td>\n",
              "      <td>60</td>\n",
              "      <td>60</td>\n",
              "      <td>TractorPlough WetTillagePuddling</td>\n",
              "      <td>2022-07-19</td>\n",
              "      <td>4</td>\n",
              "      <td>Manual_PuddledRandom</td>\n",
              "      <td>2022-06-21</td>\n",
              "      <td>...</td>\n",
              "      <td>machine</td>\n",
              "      <td>2022-11-30</td>\n",
              "      <td>NaN</td>\n",
              "      <td>2022-12-02</td>\n",
              "      <td>machine</td>\n",
              "      <td>24</td>\n",
              "      <td>40</td>\n",
              "      <td>plowed_in_soil</td>\n",
              "      <td>0.468750</td>\n",
              "      <td>550</td>\n",
              "    </tr>\n",
              "  </tbody>\n",
              "</table>\n",
              "<p>5 rows × 44 columns</p>\n",
              "</div>\n",
              "    <div class=\"colab-df-buttons\">\n",
              "\n",
              "  <div class=\"colab-df-container\">\n",
              "    <button class=\"colab-df-convert\" onclick=\"convertToInteractive('df-df733a7e-3f78-4093-95fe-9e6dc5004c10')\"\n",
              "            title=\"Convert this dataframe to an interactive table.\"\n",
              "            style=\"display:none;\">\n",
              "\n",
              "  <svg xmlns=\"http://www.w3.org/2000/svg\" height=\"24px\" viewBox=\"0 -960 960 960\">\n",
              "    <path d=\"M120-120v-720h720v720H120Zm60-500h600v-160H180v160Zm220 220h160v-160H400v160Zm0 220h160v-160H400v160ZM180-400h160v-160H180v160Zm440 0h160v-160H620v160ZM180-180h160v-160H180v160Zm440 0h160v-160H620v160Z\"/>\n",
              "  </svg>\n",
              "    </button>\n",
              "\n",
              "  <style>\n",
              "    .colab-df-container {\n",
              "      display:flex;\n",
              "      gap: 12px;\n",
              "    }\n",
              "\n",
              "    .colab-df-convert {\n",
              "      background-color: #E8F0FE;\n",
              "      border: none;\n",
              "      border-radius: 50%;\n",
              "      cursor: pointer;\n",
              "      display: none;\n",
              "      fill: #1967D2;\n",
              "      height: 32px;\n",
              "      padding: 0 0 0 0;\n",
              "      width: 32px;\n",
              "    }\n",
              "\n",
              "    .colab-df-convert:hover {\n",
              "      background-color: #E2EBFA;\n",
              "      box-shadow: 0px 1px 2px rgba(60, 64, 67, 0.3), 0px 1px 3px 1px rgba(60, 64, 67, 0.15);\n",
              "      fill: #174EA6;\n",
              "    }\n",
              "\n",
              "    .colab-df-buttons div {\n",
              "      margin-bottom: 4px;\n",
              "    }\n",
              "\n",
              "    [theme=dark] .colab-df-convert {\n",
              "      background-color: #3B4455;\n",
              "      fill: #D2E3FC;\n",
              "    }\n",
              "\n",
              "    [theme=dark] .colab-df-convert:hover {\n",
              "      background-color: #434B5C;\n",
              "      box-shadow: 0px 1px 3px 1px rgba(0, 0, 0, 0.15);\n",
              "      filter: drop-shadow(0px 1px 2px rgba(0, 0, 0, 0.3));\n",
              "      fill: #FFFFFF;\n",
              "    }\n",
              "  </style>\n",
              "\n",
              "    <script>\n",
              "      const buttonEl =\n",
              "        document.querySelector('#df-df733a7e-3f78-4093-95fe-9e6dc5004c10 button.colab-df-convert');\n",
              "      buttonEl.style.display =\n",
              "        google.colab.kernel.accessAllowed ? 'block' : 'none';\n",
              "\n",
              "      async function convertToInteractive(key) {\n",
              "        const element = document.querySelector('#df-df733a7e-3f78-4093-95fe-9e6dc5004c10');\n",
              "        const dataTable =\n",
              "          await google.colab.kernel.invokeFunction('convertToInteractive',\n",
              "                                                    [key], {});\n",
              "        if (!dataTable) return;\n",
              "\n",
              "        const docLinkHtml = 'Like what you see? Visit the ' +\n",
              "          '<a target=\"_blank\" href=https://colab.research.google.com/notebooks/data_table.ipynb>data table notebook</a>'\n",
              "          + ' to learn more about interactive tables.';\n",
              "        element.innerHTML = '';\n",
              "        dataTable['output_type'] = 'display_data';\n",
              "        await google.colab.output.renderOutput(dataTable, element);\n",
              "        const docLink = document.createElement('div');\n",
              "        docLink.innerHTML = docLinkHtml;\n",
              "        element.appendChild(docLink);\n",
              "      }\n",
              "    </script>\n",
              "  </div>\n",
              "\n",
              "\n",
              "<div id=\"df-dc2b1b0a-ea97-428a-8077-7db65f121c7c\">\n",
              "  <button class=\"colab-df-quickchart\" onclick=\"quickchart('df-dc2b1b0a-ea97-428a-8077-7db65f121c7c')\"\n",
              "            title=\"Suggest charts\"\n",
              "            style=\"display:none;\">\n",
              "\n",
              "<svg xmlns=\"http://www.w3.org/2000/svg\" height=\"24px\"viewBox=\"0 0 24 24\"\n",
              "     width=\"24px\">\n",
              "    <g>\n",
              "        <path d=\"M19 3H5c-1.1 0-2 .9-2 2v14c0 1.1.9 2 2 2h14c1.1 0 2-.9 2-2V5c0-1.1-.9-2-2-2zM9 17H7v-7h2v7zm4 0h-2V7h2v10zm4 0h-2v-4h2v4z\"/>\n",
              "    </g>\n",
              "</svg>\n",
              "  </button>\n",
              "\n",
              "<style>\n",
              "  .colab-df-quickchart {\n",
              "      --bg-color: #E8F0FE;\n",
              "      --fill-color: #1967D2;\n",
              "      --hover-bg-color: #E2EBFA;\n",
              "      --hover-fill-color: #174EA6;\n",
              "      --disabled-fill-color: #AAA;\n",
              "      --disabled-bg-color: #DDD;\n",
              "  }\n",
              "\n",
              "  [theme=dark] .colab-df-quickchart {\n",
              "      --bg-color: #3B4455;\n",
              "      --fill-color: #D2E3FC;\n",
              "      --hover-bg-color: #434B5C;\n",
              "      --hover-fill-color: #FFFFFF;\n",
              "      --disabled-bg-color: #3B4455;\n",
              "      --disabled-fill-color: #666;\n",
              "  }\n",
              "\n",
              "  .colab-df-quickchart {\n",
              "    background-color: var(--bg-color);\n",
              "    border: none;\n",
              "    border-radius: 50%;\n",
              "    cursor: pointer;\n",
              "    display: none;\n",
              "    fill: var(--fill-color);\n",
              "    height: 32px;\n",
              "    padding: 0;\n",
              "    width: 32px;\n",
              "  }\n",
              "\n",
              "  .colab-df-quickchart:hover {\n",
              "    background-color: var(--hover-bg-color);\n",
              "    box-shadow: 0 1px 2px rgba(60, 64, 67, 0.3), 0 1px 3px 1px rgba(60, 64, 67, 0.15);\n",
              "    fill: var(--button-hover-fill-color);\n",
              "  }\n",
              "\n",
              "  .colab-df-quickchart-complete:disabled,\n",
              "  .colab-df-quickchart-complete:disabled:hover {\n",
              "    background-color: var(--disabled-bg-color);\n",
              "    fill: var(--disabled-fill-color);\n",
              "    box-shadow: none;\n",
              "  }\n",
              "\n",
              "  .colab-df-spinner {\n",
              "    border: 2px solid var(--fill-color);\n",
              "    border-color: transparent;\n",
              "    border-bottom-color: var(--fill-color);\n",
              "    animation:\n",
              "      spin 1s steps(1) infinite;\n",
              "  }\n",
              "\n",
              "  @keyframes spin {\n",
              "    0% {\n",
              "      border-color: transparent;\n",
              "      border-bottom-color: var(--fill-color);\n",
              "      border-left-color: var(--fill-color);\n",
              "    }\n",
              "    20% {\n",
              "      border-color: transparent;\n",
              "      border-left-color: var(--fill-color);\n",
              "      border-top-color: var(--fill-color);\n",
              "    }\n",
              "    30% {\n",
              "      border-color: transparent;\n",
              "      border-left-color: var(--fill-color);\n",
              "      border-top-color: var(--fill-color);\n",
              "      border-right-color: var(--fill-color);\n",
              "    }\n",
              "    40% {\n",
              "      border-color: transparent;\n",
              "      border-right-color: var(--fill-color);\n",
              "      border-top-color: var(--fill-color);\n",
              "    }\n",
              "    60% {\n",
              "      border-color: transparent;\n",
              "      border-right-color: var(--fill-color);\n",
              "    }\n",
              "    80% {\n",
              "      border-color: transparent;\n",
              "      border-right-color: var(--fill-color);\n",
              "      border-bottom-color: var(--fill-color);\n",
              "    }\n",
              "    90% {\n",
              "      border-color: transparent;\n",
              "      border-bottom-color: var(--fill-color);\n",
              "    }\n",
              "  }\n",
              "</style>\n",
              "\n",
              "  <script>\n",
              "    async function quickchart(key) {\n",
              "      const quickchartButtonEl =\n",
              "        document.querySelector('#' + key + ' button');\n",
              "      quickchartButtonEl.disabled = true;  // To prevent multiple clicks.\n",
              "      quickchartButtonEl.classList.add('colab-df-spinner');\n",
              "      try {\n",
              "        const charts = await google.colab.kernel.invokeFunction(\n",
              "            'suggestCharts', [key], {});\n",
              "      } catch (error) {\n",
              "        console.error('Error during call to suggestCharts:', error);\n",
              "      }\n",
              "      quickchartButtonEl.classList.remove('colab-df-spinner');\n",
              "      quickchartButtonEl.classList.add('colab-df-quickchart-complete');\n",
              "    }\n",
              "    (() => {\n",
              "      let quickchartButtonEl =\n",
              "        document.querySelector('#df-dc2b1b0a-ea97-428a-8077-7db65f121c7c button');\n",
              "      quickchartButtonEl.style.display =\n",
              "        google.colab.kernel.accessAllowed ? 'block' : 'none';\n",
              "    })();\n",
              "  </script>\n",
              "</div>\n",
              "\n",
              "    </div>\n",
              "  </div>\n"
            ],
            "application/vnd.google.colaboratory.intrinsic+json": {
              "type": "dataframe",
              "variable_name": "train"
            }
          },
          "metadata": {},
          "execution_count": 187
        }
      ]
    },
    {
      "cell_type": "code",
      "source": [
        "plt.hist(train.Yield, bins = 10)"
      ],
      "metadata": {
        "id": "qnyAWV62gM8-",
        "colab": {
          "base_uri": "https://localhost:8080/",
          "height": 532
        },
        "outputId": "6f8f1c9f-1f79-4daf-d5e2-855fc06107f0"
      },
      "execution_count": 188,
      "outputs": [
        {
          "output_type": "execute_result",
          "data": {
            "text/plain": [
              "(array([3.736e+03, 1.110e+02, 1.300e+01, 4.000e+00, 4.000e+00, 0.000e+00,\n",
              "        0.000e+00, 0.000e+00, 1.000e+00, 1.000e+00]),\n",
              " array([4.00000e+00, 1.68360e+03, 3.36320e+03, 5.04280e+03, 6.72240e+03,\n",
              "        8.40200e+03, 1.00816e+04, 1.17612e+04, 1.34408e+04, 1.51204e+04,\n",
              "        1.68000e+04]),\n",
              " <BarContainer object of 10 artists>)"
            ]
          },
          "metadata": {},
          "execution_count": 188
        },
        {
          "output_type": "display_data",
          "data": {
            "text/plain": [
              "<Figure size 640x480 with 1 Axes>"
            ],
            "image/png": "[encoded data removed]"
          },
          "metadata": {}
        }
      ]
    },
    {
      "cell_type": "code",
      "source": [
        "train.info()"
      ],
      "metadata": {
        "id": "jqOJz3Ghcvcl"
      },
      "execution_count": null,
      "outputs": []
    },
    {
      "cell_type": "code",
      "source": [
        "train.describe()"
      ],
      "metadata": {
        "id": "Bd1dd8ECd1Ah",
        "colab": {
          "base_uri": "https://localhost:8080/",
          "height": 346
        },
        "outputId": "86c5dbd4-5f26-4b89-db45-2b601e653cfb"
      },
      "execution_count": 190,
      "outputs": [
        {
          "output_type": "execute_result",
          "data": {
            "text/plain": [
              "          CultLand  CropCultLand  CropTillageDepth  SeedlingsPerPit  \\\n",
              "count  3870.000000   3870.000000       3870.000000      3581.000000   \n",
              "mean     28.527907     24.727132          4.488372         2.706507   \n",
              "std      30.454218     27.994802          1.133044         7.624397   \n",
              "min       1.000000      1.000000          1.000000         1.000000   \n",
              "25%      12.000000     10.000000          4.000000         2.000000   \n",
              "50%      20.000000     20.000000          4.000000         2.000000   \n",
              "75%      35.000000     30.000000          5.000000         3.000000   \n",
              "max     800.000000    800.000000          8.000000       442.000000   \n",
              "\n",
              "       TransplantingIrrigationHours  TransIrriCost  StandingWater  \\\n",
              "count                   3677.000000    2988.000000    3632.000000   \n",
              "mean                       8.017677     379.726908       3.247522   \n",
              "std                       42.612470     419.724782       2.207276   \n",
              "min                        1.000000       1.000000       1.000000   \n",
              "25%                        2.000000     150.000000       2.000000   \n",
              "50%                        4.000000     250.000000       3.000000   \n",
              "75%                        6.000000     450.000000       4.000000   \n",
              "max                     2000.000000    6000.000000      15.000000   \n",
              "\n",
              "           Ganaura   CropOrgFYM  NoFertilizerAppln  ...    BasalUrea  \\\n",
              "count  1453.000000  1196.000000        3870.000000  ...  2166.000000   \n",
              "mean     29.731590    57.445652           2.184496  ...    13.351801   \n",
              "std     122.680882   328.251615           0.634632  ...     9.701597   \n",
              "min       1.000000     1.000000           1.000000  ...     1.000000   \n",
              "25%       1.000000     1.000000           2.000000  ...     7.000000   \n",
              "50%       3.000000     2.000000           2.000000  ...    10.000000   \n",
              "75%       4.000000     5.000000           3.000000  ...    16.000000   \n",
              "max    1400.000000  4000.000000           4.000000  ...    90.000000   \n",
              "\n",
              "           1tdUrea  1appDaysUrea      2tdUrea  2appDaysUrea  Harv_hand_rent  \\\n",
              "count  3314.000000   3314.000000  1176.000000   1170.000000     3618.000000   \n",
              "mean     11.513881     29.200362     7.375000     58.764957      536.622443   \n",
              "std       8.715856     12.139109     5.932502     11.356588     1138.613827   \n",
              "min       1.000000      1.000000     1.000000      1.000000        1.000000   \n",
              "25%       6.000000     23.000000     4.000000     58.000000      150.000000   \n",
              "50%      10.000000     28.000000     6.000000     60.000000      400.000000   \n",
              "75%      15.000000     36.000000    10.000000     65.000000      700.000000   \n",
              "max      90.000000    332.000000    67.000000     97.000000    60000.000000   \n",
              "\n",
              "       Residue_length  Residue_perc         Acre         Yield  \n",
              "count     3870.000000   3870.000000  3870.000000   3870.000000  \n",
              "mean        26.517829     11.767442     0.292826    594.269251  \n",
              "std          3.192873      7.064864     0.206918    651.916953  \n",
              "min          2.000000     10.000000     0.045455      4.000000  \n",
              "25%         25.000000     10.000000     0.156250    300.000000  \n",
              "50%         26.000000     10.000000     0.227273    425.000000  \n",
              "75%         30.000000     10.000000     0.370370    740.000000  \n",
              "max         30.000000     40.000000     2.187500  16800.000000  \n",
              "\n",
              "[8 rows x 21 columns]"
            ],
            "text/html": [
              "\n",
              "  <div id=\"df-70d0549e-9d01-4ec5-9d98-8f99a3ccced3\" class=\"colab-df-container\">\n",
              "    <div>\n",
              "<style scoped>\n",
              "    .dataframe tbody tr th:only-of-type {\n",
              "        vertical-align: middle;\n",
              "    }\n",
              "\n",
              "    .dataframe tbody tr th {\n",
              "        vertical-align: top;\n",
              "    }\n",
              "\n",
              "    .dataframe thead th {\n",
              "        text-align: right;\n",
              "    }\n",
              "</style>\n",
              "<table border=\"1\" class=\"dataframe\">\n",
              "  <thead>\n",
              "    <tr style=\"text-align: right;\">\n",
              "      <th></th>\n",
              "      <th>CultLand</th>\n",
              "      <th>CropCultLand</th>\n",
              "      <th>CropTillageDepth</th>\n",
              "      <th>SeedlingsPerPit</th>\n",
              "      <th>TransplantingIrrigationHours</th>\n",
              "      <th>TransIrriCost</th>\n",
              "      <th>StandingWater</th>\n",
              "      <th>Ganaura</th>\n",
              "      <th>CropOrgFYM</th>\n",
              "      <th>NoFertilizerAppln</th>\n",
              "      <th>...</th>\n",
              "      <th>BasalUrea</th>\n",
              "      <th>1tdUrea</th>\n",
              "      <th>1appDaysUrea</th>\n",
              "      <th>2tdUrea</th>\n",
              "      <th>2appDaysUrea</th>\n",
              "      <th>Harv_hand_rent</th>\n",
              "      <th>Residue_length</th>\n",
              "      <th>Residue_perc</th>\n",
              "      <th>Acre</th>\n",
              "      <th>Yield</th>\n",
              "    </tr>\n",
              "  </thead>\n",
              "  <tbody>\n",
              "    <tr>\n",
              "      <th>count</th>\n",
              "      <td>3870.000000</td>\n",
              "      <td>3870.000000</td>\n",
              "      <td>3870.000000</td>\n",
              "      <td>3581.000000</td>\n",
              "      <td>3677.000000</td>\n",
              "      <td>2988.000000</td>\n",
              "      <td>3632.000000</td>\n",
              "      <td>1453.000000</td>\n",
              "      <td>1196.000000</td>\n",
              "      <td>3870.000000</td>\n",
              "      <td>...</td>\n",
              "      <td>2166.000000</td>\n",
              "      <td>3314.000000</td>\n",
              "      <td>3314.000000</td>\n",
              "      <td>1176.000000</td>\n",
              "      <td>1170.000000</td>\n",
              "      <td>3618.000000</td>\n",
              "      <td>3870.000000</td>\n",
              "      <td>3870.000000</td>\n",
              "      <td>3870.000000</td>\n",
              "      <td>3870.000000</td>\n",
              "    </tr>\n",
              "    <tr>\n",
              "      <th>mean</th>\n",
              "      <td>28.527907</td>\n",
              "      <td>24.727132</td>\n",
              "      <td>4.488372</td>\n",
              "      <td>2.706507</td>\n",
              "      <td>8.017677</td>\n",
              "      <td>379.726908</td>\n",
              "      <td>3.247522</td>\n",
              "      <td>29.731590</td>\n",
              "      <td>57.445652</td>\n",
              "      <td>2.184496</td>\n",
              "      <td>...</td>\n",
              "      <td>13.351801</td>\n",
              "      <td>11.513881</td>\n",
              "      <td>29.200362</td>\n",
              "      <td>7.375000</td>\n",
              "      <td>58.764957</td>\n",
              "      <td>536.622443</td>\n",
              "      <td>26.517829</td>\n",
              "      <td>11.767442</td>\n",
              "      <td>0.292826</td>\n",
              "      <td>594.269251</td>\n",
              "    </tr>\n",
              "    <tr>\n",
              "      <th>std</th>\n",
              "      <td>30.454218</td>\n",
              "      <td>27.994802</td>\n",
              "      <td>1.133044</td>\n",
              "      <td>7.624397</td>\n",
              "      <td>42.612470</td>\n",
              "      <td>419.724782</td>\n",
              "      <td>2.207276</td>\n",
              "      <td>122.680882</td>\n",
              "      <td>328.251615</td>\n",
              "      <td>0.634632</td>\n",
              "      <td>...</td>\n",
              "      <td>9.701597</td>\n",
              "      <td>8.715856</td>\n",
              "      <td>12.139109</td>\n",
              "      <td>5.932502</td>\n",
              "      <td>11.356588</td>\n",
              "      <td>1138.613827</td>\n",
              "      <td>3.192873</td>\n",
              "      <td>7.064864</td>\n",
              "      <td>0.206918</td>\n",
              "      <td>651.916953</td>\n",
              "    </tr>\n",
              "    <tr>\n",
              "      <th>min</th>\n",
              "      <td>1.000000</td>\n",
              "      <td>1.000000</td>\n",
              "      <td>1.000000</td>\n",
              "      <td>1.000000</td>\n",
              "      <td>1.000000</td>\n",
              "      <td>1.000000</td>\n",
              "      <td>1.000000</td>\n",
              "      <td>1.000000</td>\n",
              "      <td>1.000000</td>\n",
              "      <td>1.000000</td>\n",
              "      <td>...</td>\n",
              "      <td>1.000000</td>\n",
              "      <td>1.000000</td>\n",
              "      <td>1.000000</td>\n",
              "      <td>1.000000</td>\n",
              "      <td>1.000000</td>\n",
              "      <td>1.000000</td>\n",
              "      <td>2.000000</td>\n",
              "      <td>10.000000</td>\n",
              "      <td>0.045455</td>\n",
              "      <td>4.000000</td>\n",
              "    </tr>\n",
              "    <tr>\n",
              "      <th>25%</th>\n",
              "      <td>12.000000</td>\n",
              "      <td>10.000000</td>\n",
              "      <td>4.000000</td>\n",
              "      <td>2.000000</td>\n",
              "      <td>2.000000</td>\n",
              "      <td>150.000000</td>\n",
              "      <td>2.000000</td>\n",
              "      <td>1.000000</td>\n",
              "      <td>1.000000</td>\n",
              "      <td>2.000000</td>\n",
              "      <td>...</td>\n",
              "      <td>7.000000</td>\n",
              "      <td>6.000000</td>\n",
              "      <td>23.000000</td>\n",
              "      <td>4.000000</td>\n",
              "      <td>58.000000</td>\n",
              "      <td>150.000000</td>\n",
              "      <td>25.000000</td>\n",
              "      <td>10.000000</td>\n",
              "      <td>0.156250</td>\n",
              "      <td>300.000000</td>\n",
              "    </tr>\n",
              "    <tr>\n",
              "      <th>50%</th>\n",
              "      <td>20.000000</td>\n",
              "      <td>20.000000</td>\n",
              "      <td>4.000000</td>\n",
              "      <td>2.000000</td>\n",
              "      <td>4.000000</td>\n",
              "      <td>250.000000</td>\n",
              "      <td>3.000000</td>\n",
              "      <td>3.000000</td>\n",
              "      <td>2.000000</td>\n",
              "      <td>2.000000</td>\n",
              "      <td>...</td>\n",
              "      <td>10.000000</td>\n",
              "      <td>10.000000</td>\n",
              "      <td>28.000000</td>\n",
              "      <td>6.000000</td>\n",
              "      <td>60.000000</td>\n",
              "      <td>400.000000</td>\n",
              "      <td>26.000000</td>\n",
              "      <td>10.000000</td>\n",
              "      <td>0.227273</td>\n",
              "      <td>425.000000</td>\n",
              "    </tr>\n",
              "    <tr>\n",
              "      <th>75%</th>\n",
              "      <td>35.000000</td>\n",
              "      <td>30.000000</td>\n",
              "      <td>5.000000</td>\n",
              "      <td>3.000000</td>\n",
              "      <td>6.000000</td>\n",
              "      <td>450.000000</td>\n",
              "      <td>4.000000</td>\n",
              "      <td>4.000000</td>\n",
              "      <td>5.000000</td>\n",
              "      <td>3.000000</td>\n",
              "      <td>...</td>\n",
              "      <td>16.000000</td>\n",
              "      <td>15.000000</td>\n",
              "      <td>36.000000</td>\n",
              "      <td>10.000000</td>\n",
              "      <td>65.000000</td>\n",
              "      <td>700.000000</td>\n",
              "      <td>30.000000</td>\n",
              "      <td>10.000000</td>\n",
              "      <td>0.370370</td>\n",
              "      <td>740.000000</td>\n",
              "    </tr>\n",
              "    <tr>\n",
              "      <th>max</th>\n",
              "      <td>800.000000</td>\n",
              "      <td>800.000000</td>\n",
              "      <td>8.000000</td>\n",
              "      <td>442.000000</td>\n",
              "      <td>2000.000000</td>\n",
              "      <td>6000.000000</td>\n",
              "      <td>15.000000</td>\n",
              "      <td>1400.000000</td>\n",
              "      <td>4000.000000</td>\n",
              "      <td>4.000000</td>\n",
              "      <td>...</td>\n",
              "      <td>90.000000</td>\n",
              "      <td>90.000000</td>\n",
              "      <td>332.000000</td>\n",
              "      <td>67.000000</td>\n",
              "      <td>97.000000</td>\n",
              "      <td>60000.000000</td>\n",
              "      <td>30.000000</td>\n",
              "      <td>40.000000</td>\n",
              "      <td>2.187500</td>\n",
              "      <td>16800.000000</td>\n",
              "    </tr>\n",
              "  </tbody>\n",
              "</table>\n",
              "<p>8 rows × 21 columns</p>\n",
              "</div>\n",
              "    <div class=\"colab-df-buttons\">\n",
              "\n",
              "  <div class=\"colab-df-container\">\n",
              "    <button class=\"colab-df-convert\" onclick=\"convertToInteractive('df-70d0549e-9d01-4ec5-9d98-8f99a3ccced3')\"\n",
              "            title=\"Convert this dataframe to an interactive table.\"\n",
              "            style=\"display:none;\">\n",
              "\n",
              "  <svg xmlns=\"http://www.w3.org/2000/svg\" height=\"24px\" viewBox=\"0 -960 960 960\">\n",
              "    <path d=\"M120-120v-720h720v720H120Zm60-500h600v-160H180v160Zm220 220h160v-160H400v160Zm0 220h160v-160H400v160ZM180-400h160v-160H180v160Zm440 0h160v-160H620v160ZM180-180h160v-160H180v160Zm440 0h160v-160H620v160Z\"/>\n",
              "  </svg>\n",
              "    </button>\n",
              "\n",
              "  <style>\n",
              "    .colab-df-container {\n",
              "      display:flex;\n",
              "      gap: 12px;\n",
              "    }\n",
              "\n",
              "    .colab-df-convert {\n",
              "      background-color: #E8F0FE;\n",
              "      border: none;\n",
              "      border-radius: 50%;\n",
              "      cursor: pointer;\n",
              "      display: none;\n",
              "      fill: #1967D2;\n",
              "      height: 32px;\n",
              "      padding: 0 0 0 0;\n",
              "      width: 32px;\n",
              "    }\n",
              "\n",
              "    .colab-df-convert:hover {\n",
              "      background-color: #E2EBFA;\n",
              "      box-shadow: 0px 1px 2px rgba(60, 64, 67, 0.3), 0px 1px 3px 1px rgba(60, 64, 67, 0.15);\n",
              "      fill: #174EA6;\n",
              "    }\n",
              "\n",
              "    .colab-df-buttons div {\n",
              "      margin-bottom: 4px;\n",
              "    }\n",
              "\n",
              "    [theme=dark] .colab-df-convert {\n",
              "      background-color: #3B4455;\n",
              "      fill: #D2E3FC;\n",
              "    }\n",
              "\n",
              "    [theme=dark] .colab-df-convert:hover {\n",
              "      background-color: #434B5C;\n",
              "      box-shadow: 0px 1px 3px 1px rgba(0, 0, 0, 0.15);\n",
              "      filter: drop-shadow(0px 1px 2px rgba(0, 0, 0, 0.3));\n",
              "      fill: #FFFFFF;\n",
              "    }\n",
              "  </style>\n",
              "\n",
              "    <script>\n",
              "      const buttonEl =\n",
              "        document.querySelector('#df-70d0549e-9d01-4ec5-9d98-8f99a3ccced3 button.colab-df-convert');\n",
              "      buttonEl.style.display =\n",
              "        google.colab.kernel.accessAllowed ? 'block' : 'none';\n",
              "\n",
              "      async function convertToInteractive(key) {\n",
              "        const element = document.querySelector('#df-70d0549e-9d01-4ec5-9d98-8f99a3ccced3');\n",
              "        const dataTable =\n",
              "          await google.colab.kernel.invokeFunction('convertToInteractive',\n",
              "                                                    [key], {});\n",
              "        if (!dataTable) return;\n",
              "\n",
              "        const docLinkHtml = 'Like what you see? Visit the ' +\n",
              "          '<a target=\"_blank\" href=https://colab.research.google.com/notebooks/data_table.ipynb>data table notebook</a>'\n",
              "          + ' to learn more about interactive tables.';\n",
              "        element.innerHTML = '';\n",
              "        dataTable['output_type'] = 'display_data';\n",
              "        await google.colab.output.renderOutput(dataTable, element);\n",
              "        const docLink = document.createElement('div');\n",
              "        docLink.innerHTML = docLinkHtml;\n",
              "        element.appendChild(docLink);\n",
              "      }\n",
              "    </script>\n",
              "  </div>\n",
              "\n",
              "\n",
              "<div id=\"df-8f365cb8-4595-4f29-a863-696ffac38f19\">\n",
              "  <button class=\"colab-df-quickchart\" onclick=\"quickchart('df-8f365cb8-4595-4f29-a863-696ffac38f19')\"\n",
              "            title=\"Suggest charts\"\n",
              "            style=\"display:none;\">\n",
              "\n",
              "<svg xmlns=\"http://www.w3.org/2000/svg\" height=\"24px\"viewBox=\"0 0 24 24\"\n",
              "     width=\"24px\">\n",
              "    <g>\n",
              "        <path d=\"M19 3H5c-1.1 0-2 .9-2 2v14c0 1.1.9 2 2 2h14c1.1 0 2-.9 2-2V5c0-1.1-.9-2-2-2zM9 17H7v-7h2v7zm4 0h-2V7h2v10zm4 0h-2v-4h2v4z\"/>\n",
              "    </g>\n",
              "</svg>\n",
              "  </button>\n",
              "\n",
              "<style>\n",
              "  .colab-df-quickchart {\n",
              "      --bg-color: #E8F0FE;\n",
              "      --fill-color: #1967D2;\n",
              "      --hover-bg-color: #E2EBFA;\n",
              "      --hover-fill-color: #174EA6;\n",
              "      --disabled-fill-color: #AAA;\n",
              "      --disabled-bg-color: #DDD;\n",
              "  }\n",
              "\n",
              "  [theme=dark] .colab-df-quickchart {\n",
              "      --bg-color: #3B4455;\n",
              "      --fill-color: #D2E3FC;\n",
              "      --hover-bg-color: #434B5C;\n",
              "      --hover-fill-color: #FFFFFF;\n",
              "      --disabled-bg-color: #3B4455;\n",
              "      --disabled-fill-color: #666;\n",
              "  }\n",
              "\n",
              "  .colab-df-quickchart {\n",
              "    background-color: var(--bg-color);\n",
              "    border: none;\n",
              "    border-radius: 50%;\n",
              "    cursor: pointer;\n",
              "    display: none;\n",
              "    fill: var(--fill-color);\n",
              "    height: 32px;\n",
              "    padding: 0;\n",
              "    width: 32px;\n",
              "  }\n",
              "\n",
              "  .colab-df-quickchart:hover {\n",
              "    background-color: var(--hover-bg-color);\n",
              "    box-shadow: 0 1px 2px rgba(60, 64, 67, 0.3), 0 1px 3px 1px rgba(60, 64, 67, 0.15);\n",
              "    fill: var(--button-hover-fill-color);\n",
              "  }\n",
              "\n",
              "  .colab-df-quickchart-complete:disabled,\n",
              "  .colab-df-quickchart-complete:disabled:hover {\n",
              "    background-color: var(--disabled-bg-color);\n",
              "    fill: var(--disabled-fill-color);\n",
              "    box-shadow: none;\n",
              "  }\n",
              "\n",
              "  .colab-df-spinner {\n",
              "    border: 2px solid var(--fill-color);\n",
              "    border-color: transparent;\n",
              "    border-bottom-color: var(--fill-color);\n",
              "    animation:\n",
              "      spin 1s steps(1) infinite;\n",
              "  }\n",
              "\n",
              "  @keyframes spin {\n",
              "    0% {\n",
              "      border-color: transparent;\n",
              "      border-bottom-color: var(--fill-color);\n",
              "      border-left-color: var(--fill-color);\n",
              "    }\n",
              "    20% {\n",
              "      border-color: transparent;\n",
              "      border-left-color: var(--fill-color);\n",
              "      border-top-color: var(--fill-color);\n",
              "    }\n",
              "    30% {\n",
              "      border-color: transparent;\n",
              "      border-left-color: var(--fill-color);\n",
              "      border-top-color: var(--fill-color);\n",
              "      border-right-color: var(--fill-color);\n",
              "    }\n",
              "    40% {\n",
              "      border-color: transparent;\n",
              "      border-right-color: var(--fill-color);\n",
              "      border-top-color: var(--fill-color);\n",
              "    }\n",
              "    60% {\n",
              "      border-color: transparent;\n",
              "      border-right-color: var(--fill-color);\n",
              "    }\n",
              "    80% {\n",
              "      border-color: transparent;\n",
              "      border-right-color: var(--fill-color);\n",
              "      border-bottom-color: var(--fill-color);\n",
              "    }\n",
              "    90% {\n",
              "      border-color: transparent;\n",
              "      border-bottom-color: var(--fill-color);\n",
              "    }\n",
              "  }\n",
              "</style>\n",
              "\n",
              "  <script>\n",
              "    async function quickchart(key) {\n",
              "      const quickchartButtonEl =\n",
              "        document.querySelector('#' + key + ' button');\n",
              "      quickchartButtonEl.disabled = true;  // To prevent multiple clicks.\n",
              "      quickchartButtonEl.classList.add('colab-df-spinner');\n",
              "      try {\n",
              "        const charts = await google.colab.kernel.invokeFunction(\n",
              "            'suggestCharts', [key], {});\n",
              "      } catch (error) {\n",
              "        console.error('Error during call to suggestCharts:', error);\n",
              "      }\n",
              "      quickchartButtonEl.classList.remove('colab-df-spinner');\n",
              "      quickchartButtonEl.classList.add('colab-df-quickchart-complete');\n",
              "    }\n",
              "    (() => {\n",
              "      let quickchartButtonEl =\n",
              "        document.querySelector('#df-8f365cb8-4595-4f29-a863-696ffac38f19 button');\n",
              "      quickchartButtonEl.style.display =\n",
              "        google.colab.kernel.accessAllowed ? 'block' : 'none';\n",
              "    })();\n",
              "  </script>\n",
              "</div>\n",
              "\n",
              "    </div>\n",
              "  </div>\n"
            ],
            "application/vnd.google.colaboratory.intrinsic+json": {
              "type": "dataframe"
            }
          },
          "metadata": {},
          "execution_count": 190
        }
      ]
    },
    {
      "cell_type": "code",
      "source": [
        "train.isna().sum()"
      ],
      "metadata": {
        "id": "-jSAcsVKDFId"
      },
      "execution_count": null,
      "outputs": []
    },
    {
      "cell_type": "markdown",
      "source": [
        "## Filling NANs\n",
        "\n",
        "\n"
      ],
      "metadata": {
        "id": "tskW3w4RCjfM"
      }
    },
    {
      "cell_type": "code",
      "source": [
        "train[train['SeedlingsPerPit'].isna()]\n",
        "plt.hist(train['SeedlingsPerPit'])\n",
        "train['SeedlingsPerPit'] = train['SeedlingsPerPit'].fillna(train['SeedlingsPerPit'].median())\n",
        "train['SeedlingsPerPit'].value_counts()"
      ],
      "metadata": {
        "id": "IfSpW9tQehfr",
        "colab": {
          "base_uri": "https://localhost:8080/",
          "height": 804
        },
        "outputId": "5fead0de-8702-4956-a09f-00cb06f34d68"
      },
      "execution_count": 192,
      "outputs": [
        {
          "output_type": "execute_result",
          "data": {
            "text/plain": [
              "2.0      1804\n",
              "1.0       860\n",
              "3.0       509\n",
              "4.0       468\n",
              "5.0        62\n",
              "8.0        41\n",
              "10.0       32\n",
              "6.0        24\n",
              "7.0        11\n",
              "9.0        11\n",
              "12.0       10\n",
              "14.0       10\n",
              "11.0        5\n",
              "16.0        5\n",
              "13.0        5\n",
              "20.0        4\n",
              "18.0        4\n",
              "15.0        2\n",
              "442.0       1\n",
              "22.0        1\n",
              "19.0        1\n",
              "Name: SeedlingsPerPit, dtype: int64"
            ]
          },
          "metadata": {},
          "execution_count": 192
        },
        {
          "output_type": "display_data",
          "data": {
            "text/plain": [
              "<Figure size 640x480 with 1 Axes>"
            ],
            "image/png": "[encoded data removed]"
          },
          "metadata": {}
        }
      ]
    },
    {
      "cell_type": "code",
      "source": [
        "train['NursDetFactor'] = train['NursDetFactor'].fillna('Unknown')\n",
        "train['TransDetFactor'] = train['TransDetFactor'].fillna('Unknown')"
      ],
      "metadata": {
        "id": "9KoSZJ7YOBcA"
      },
      "execution_count": 193,
      "outputs": []
    },
    {
      "cell_type": "code",
      "source": [
        "train['TransplantingIrrigationHours'] = train['TransplantingIrrigationHours'].fillna(train['TransplantingIrrigationHours'].median())\n",
        "train['TransplantingIrrigationSource'] = train['TransplantingIrrigationSource'].fillna('Unknown')\n",
        "train['TransplantingIrrigationPowerSource'] = train['TransplantingIrrigationPowerSource'].fillna('Unknown')"
      ],
      "metadata": {
        "id": "FK06T2skO3DR"
      },
      "execution_count": 194,
      "outputs": []
    },
    {
      "cell_type": "code",
      "source": [
        "train.isna().sum()"
      ],
      "metadata": {
        "id": "gfRy8m3tRRqX"
      },
      "execution_count": null,
      "outputs": []
    },
    {
      "cell_type": "code",
      "source": [
        "plt.hist(train['TransIrriCost'])\n",
        "plt.hist(train['StandingWater'])\n",
        "\n",
        "\n",
        "train['TransIrriCost'] = train['TransIrriCost'].fillna(train['TransIrriCost'].median())\n",
        "train['StandingWater'] = train['StandingWater'].fillna(train['StandingWater'].median())\n",
        "\n",
        "train = train.drop(columns = ['Ganaura', 'OrgFertilizers', 'CropOrgFYM', 'PCropSolidOrgFertAppMethod', 'BasalUrea', 'BasalDAP', '1tdUrea', '1appDaysUrea','2tdUrea', '2appDaysUrea'])"
      ],
      "metadata": {
        "id": "5mYa4ZCoP0Dn"
      },
      "execution_count": null,
      "outputs": []
    },
    {
      "cell_type": "code",
      "source": [
        "train.isna().sum()"
      ],
      "metadata": {
        "id": "B68HkqbYRnYF"
      },
      "execution_count": null,
      "outputs": []
    },
    {
      "cell_type": "code",
      "source": [
        "train['CropbasalFerts'] = train['CropbasalFerts'].fillna('Unknown')\n",
        "train['FirstTopDressFert'] = train['FirstTopDressFert'].fillna('Unknown')\n",
        "train['MineralFertAppMethod.1'] = train['MineralFertAppMethod.1'].fillna('Unknown')\n",
        "train['RcNursEstDate'] = train['RcNursEstDate'].fillna('Unknown')\n",
        "\n",
        "\n",
        "train['Harv_hand_rent'] = train['Harv_hand_rent'].fillna(train['Harv_hand_rent'].median())"
      ],
      "metadata": {
        "id": "5Lu-A4-KRuww"
      },
      "execution_count": 198,
      "outputs": []
    },
    {
      "cell_type": "code",
      "source": [
        "train.isna().sum()"
      ],
      "metadata": {
        "id": "VNSfLT_-SgmB",
        "colab": {
          "base_uri": "https://localhost:8080/"
        },
        "outputId": "e13f57c2-984e-47ff-9949-93dc36739833"
      },
      "execution_count": 199,
      "outputs": [
        {
          "output_type": "execute_result",
          "data": {
            "text/plain": [
              "ID                                    0\n",
              "District                              0\n",
              "Block                                 0\n",
              "CultLand                              0\n",
              "CropCultLand                          0\n",
              "LandPreparationMethod                 0\n",
              "CropTillageDate                       0\n",
              "CropTillageDepth                      0\n",
              "CropEstMethod                         0\n",
              "RcNursEstDate                         0\n",
              "SeedingSowingTransplanting            0\n",
              "SeedlingsPerPit                       0\n",
              "NursDetFactor                         0\n",
              "TransDetFactor                        0\n",
              "TransplantingIrrigationHours          0\n",
              "TransplantingIrrigationSource         0\n",
              "TransplantingIrrigationPowerSource    0\n",
              "TransIrriCost                         0\n",
              "StandingWater                         0\n",
              "NoFertilizerAppln                     0\n",
              "CropbasalFerts                        0\n",
              "MineralFertAppMethod                  0\n",
              "FirstTopDressFert                     0\n",
              "MineralFertAppMethod.1                0\n",
              "Harv_method                           0\n",
              "Harv_date                             0\n",
              "Harv_hand_rent                        0\n",
              "Threshing_date                        0\n",
              "Threshing_method                      0\n",
              "Residue_length                        0\n",
              "Residue_perc                          0\n",
              "Stubble_use                           0\n",
              "Acre                                  0\n",
              "Yield                                 0\n",
              "dtype: int64"
            ]
          },
          "metadata": {},
          "execution_count": 199
        }
      ]
    },
    {
      "cell_type": "markdown",
      "source": [
        "## Split Into Categorical and Numerical"
      ],
      "metadata": {
        "id": "-KjcSar_DZBS"
      }
    },
    {
      "cell_type": "code",
      "source": [
        "train_num = train.select_dtypes(include=['number'])\n",
        "train_cat = train.select_dtypes(include=['object'])\n",
        "corr = train_num.corr()\n",
        "plt.figure(figsize=(10, 8))  # Adjust the figure size as needed\n",
        "sns.heatmap(corr, cmap='coolwarm', vmin=-1, vmax=1, fmt=\".2f\",\n",
        "            linewidths=.05, cbar_kws={\"shrink\": .8})\n",
        "plt.title('Correlation Matrix Heatmap')\n",
        "plt.show()"
      ],
      "metadata": {
        "id": "vF2gHyqyeAgj",
        "colab": {
          "base_uri": "https://localhost:8080/",
          "height": 882
        },
        "outputId": "c434ff92-88fe-4282-808b-f49b624fa4c4"
      },
      "execution_count": 200,
      "outputs": [
        {
          "output_type": "display_data",
          "data": {
            "text/plain": [
              "<Figure size 1000x800 with 2 Axes>"
            ],
            "image/png": "[encoded data removed]"
          },
          "metadata": {}
        }
      ]
    },
    {
      "cell_type": "code",
      "source": [
        "train_cat.info()"
      ],
      "metadata": {
        "id": "tgcGFsqzeacy",
        "colab": {
          "base_uri": "https://localhost:8080/"
        },
        "outputId": "18159ebf-5c13-49ec-ef13-8d302fd792f7"
      },
      "execution_count": 201,
      "outputs": [
        {
          "output_type": "stream",
          "name": "stdout",
          "text": [
            "<class 'pandas.core.frame.DataFrame'>\n",
            "RangeIndex: 3870 entries, 0 to 3869\n",
            "Data columns (total 21 columns):\n",
            " #   Column                              Non-Null Count  Dtype \n",
            "---  ------                              --------------  ----- \n",
            " 0   ID                                  3870 non-null   object\n",
            " 1   District                            3870 non-null   object\n",
            " 2   Block                               3870 non-null   object\n",
            " 3   LandPreparationMethod               3870 non-null   object\n",
            " 4   CropTillageDate                     3870 non-null   object\n",
            " 5   CropEstMethod                       3870 non-null   object\n",
            " 6   RcNursEstDate                       3870 non-null   object\n",
            " 7   SeedingSowingTransplanting          3870 non-null   object\n",
            " 8   NursDetFactor                       3870 non-null   object\n",
            " 9   TransDetFactor                      3870 non-null   object\n",
            " 10  TransplantingIrrigationSource       3870 non-null   object\n",
            " 11  TransplantingIrrigationPowerSource  3870 non-null   object\n",
            " 12  CropbasalFerts                      3870 non-null   object\n",
            " 13  MineralFertAppMethod                3870 non-null   object\n",
            " 14  FirstTopDressFert                   3870 non-null   object\n",
            " 15  MineralFertAppMethod.1              3870 non-null   object\n",
            " 16  Harv_method                         3870 non-null   object\n",
            " 17  Harv_date                           3870 non-null   object\n",
            " 18  Threshing_date                      3870 non-null   object\n",
            " 19  Threshing_method                    3870 non-null   object\n",
            " 20  Stubble_use                         3870 non-null   object\n",
            "dtypes: object(21)\n",
            "memory usage: 635.0+ KB\n"
          ]
        }
      ]
    },
    {
      "cell_type": "markdown",
      "source": [
        "## Categorical Grouping"
      ],
      "metadata": {
        "id": "rPXmFls2DpTG"
      }
    },
    {
      "cell_type": "code",
      "source": [
        "train_cat.District.value_counts()"
      ],
      "metadata": {
        "id": "1-_CHyYBUhL5",
        "colab": {
          "base_uri": "https://localhost:8080/"
        },
        "outputId": "abecc70c-f955-452f-bf4c-1438b8af0b06"
      },
      "execution_count": 202,
      "outputs": [
        {
          "output_type": "execute_result",
          "data": {
            "text/plain": [
              "Nalanda     1193\n",
              "Jamui       1127\n",
              "Vaishali     980\n",
              "Gaya         570\n",
              "Name: District, dtype: int64"
            ]
          },
          "metadata": {},
          "execution_count": 202
        }
      ]
    },
    {
      "cell_type": "code",
      "source": [
        "train_cat.Block.value_counts()"
      ],
      "metadata": {
        "id": "E9Ut0wNAVFVr",
        "colab": {
          "base_uri": "https://localhost:8080/"
        },
        "outputId": "d368bad9-39e6-4468-f2d5-80d674c80b79"
      },
      "execution_count": 203,
      "outputs": [
        {
          "output_type": "execute_result",
          "data": {
            "text/plain": [
              "Rajgir        850\n",
              "Jamui         626\n",
              "Mahua         607\n",
              "Khaira        500\n",
              "Gurua         358\n",
              "Noorsarai     343\n",
              "Chehrakala    239\n",
              "Wazirganj     213\n",
              "Garoul        134\n",
              "Name: Block, dtype: int64"
            ]
          },
          "metadata": {},
          "execution_count": 203
        }
      ]
    },
    {
      "cell_type": "code",
      "source": [
        "prep_vals =list(train_cat.LandPreparationMethod.unique())"
      ],
      "metadata": {
        "id": "zaMSO1wggmbI"
      },
      "execution_count": 204,
      "outputs": []
    },
    {
      "cell_type": "code",
      "source": [
        "def group_by_length(list):\n",
        "    length_dict = {}\n",
        "    for string in list:\n",
        "        length = len(string)\n",
        "        if length not in length_dict:\n",
        "            length_dict[length] = [string]\n",
        "        else:\n",
        "            length_dict[length].append(string)\n",
        "    return length_dict\n",
        "\n",
        "group_by_length(prep_vals)\n",
        "\n"
      ],
      "metadata": {
        "id": "wqarx0WOf9E1",
        "colab": {
          "base_uri": "https://localhost:8080/"
        },
        "outputId": "f0745d90-4bff-41e9-a100-f743431cc734"
      },
      "execution_count": 205,
      "outputs": [
        {
          "output_type": "execute_result",
          "data": {
            "text/plain": [
              "{36: ['TractorPlough FourWheelTracRotavator',\n",
              "  'FourWheelTracRotavator TractorPlough',\n",
              "  'FourWheelTracRotavator BullockPlough'],\n",
              " 55: ['WetTillagePuddling TractorPlough FourWheelTracRotavator',\n",
              "  'TractorPlough WetTillagePuddling FourWheelTracRotavator',\n",
              "  'WetTillagePuddling FourWheelTracRotavator TractorPlough',\n",
              "  'TractorPlough FourWheelTracRotavator WetTillagePuddling',\n",
              "  'FourWheelTracRotavator TractorPlough WetTillagePuddling',\n",
              "  'FourWheelTracRotavator WetTillagePuddling TractorPlough'],\n",
              " 32: ['TractorPlough WetTillagePuddling',\n",
              "  'WetTillagePuddling TractorPlough',\n",
              "  'BullockPlough WetTillagePuddling'],\n",
              " 13: ['TractorPlough', 'BullockPlough'],\n",
              " 22: ['FourWheelTracRotavator'],\n",
              " 18: ['WetTillagePuddling'],\n",
              " 27: ['TractorPlough BullockPlough', 'BullockPlough TractorPlough'],\n",
              " 69: ['WetTillagePuddling TractorPlough FourWheelTracRotavator BullockPlough',\n",
              "  'WetTillagePuddling FourWheelTracRotavator BullockPlough TractorPlough',\n",
              "  'WetTillagePuddling BullockPlough TractorPlough FourWheelTracRotavator',\n",
              "  'BullockPlough TractorPlough WetTillagePuddling FourWheelTracRotavator',\n",
              "  'WetTillagePuddling FourWheelTracRotavator TractorPlough BullockPlough',\n",
              "  'TractorPlough WetTillagePuddling FourWheelTracRotavator BullockPlough',\n",
              "  'WetTillagePuddling TractorPlough BullockPlough FourWheelTracRotavator',\n",
              "  'BullockPlough FourWheelTracRotavator TractorPlough WetTillagePuddling',\n",
              "  'WetTillagePuddling BullockPlough FourWheelTracRotavator TractorPlough',\n",
              "  'FourWheelTracRotavator BullockPlough WetTillagePuddling TractorPlough',\n",
              "  'FourWheelTracRotavator WetTillagePuddling BullockPlough TractorPlough',\n",
              "  'TractorPlough WetTillagePuddling BullockPlough FourWheelTracRotavator',\n",
              "  'TractorPlough FourWheelTracRotavator BullockPlough WetTillagePuddling',\n",
              "  'TractorPlough FourWheelTracRotavator WetTillagePuddling BullockPlough'],\n",
              " 46: ['WetTillagePuddling TractorPlough BullockPlough',\n",
              "  'TractorPlough WetTillagePuddling BullockPlough',\n",
              "  'WetTillagePuddling BullockPlough TractorPlough',\n",
              "  'TractorPlough BullockPlough WetTillagePuddling',\n",
              "  'BullockPlough TractorPlough WetTillagePuddling'],\n",
              " 41: ['WetTillagePuddling FourWheelTracRotavator',\n",
              "  'FourWheelTracRotavator WetTillagePuddling'],\n",
              " 5: ['Other'],\n",
              " 50: ['TractorPlough FourWheelTracRotavator BullockPlough'],\n",
              " 24: ['WetTillagePuddling Other'],\n",
              " 19: ['TractorPlough Other']}"
            ]
          },
          "metadata": {},
          "execution_count": 205
        }
      ]
    },
    {
      "cell_type": "code",
      "source": [
        "prep_dict = {'TractorPlough FourWheelTracRotavator': 'TractorPlough FourWheelTracRotavator',\n",
        "             'FourWheelTracRotavator TractorPlough': 'TractorPlough FourWheelTracRotavator',\n",
        "             'TractorPlough WetTillagePuddling FourWheelTracRotavator': 'WetTillagePuddling TractorPlough FourWheelTracRotavator',\n",
        "             'WetTillagePuddling FourWheelTracRotavator TractorPlough': 'WetTillagePuddling TractorPlough FourWheelTracRotavator',\n",
        "             'TractorPlough FourWheelTracRotavator WetTillagePuddling': 'WetTillagePuddling TractorPlough FourWheelTracRotavator',\n",
        "             'FourWheelTracRotavator TractorPlough WetTillagePuddling': 'WetTillagePuddling TractorPlough FourWheelTracRotavator',\n",
        "             'FourWheelTracRotavator WetTillagePuddling TractorPlough': 'WetTillagePuddling TractorPlough FourWheelTracRotavator',\n",
        "             'WetTillagePuddling TractorPlough': 'TractorPlough WetTillagePuddling',\n",
        "             'WetTillagePuddling FourWheelTracRotavator BullockPlough TractorPlough': 'WetTillagePuddling TractorPlough FourWheelTracRotavator BullockPlough',\n",
        "             'WetTillagePuddling BullockPlough TractorPlough FourWheelTracRotavator': 'WetTillagePuddling TractorPlough FourWheelTracRotavator BullockPlough',\n",
        "             'BullockPlough TractorPlough WetTillagePuddling FourWheelTracRotavator': 'WetTillagePuddling TractorPlough FourWheelTracRotavator BullockPlough',\n",
        "             'WetTillagePuddling FourWheelTracRotavator TractorPlough BullockPlough': 'WetTillagePuddling TractorPlough FourWheelTracRotavator BullockPlough',\n",
        "             'TractorPlough WetTillagePuddling FourWheelTracRotavator BullockPlough': 'WetTillagePuddling TractorPlough FourWheelTracRotavator BullockPlough',\n",
        "             'WetTillagePuddling TractorPlough BullockPlough FourWheelTracRotavator': 'WetTillagePuddling TractorPlough FourWheelTracRotavator BullockPlough',\n",
        "             'BullockPlough FourWheelTracRotavator TractorPlough WetTillagePuddling': 'WetTillagePuddling TractorPlough FourWheelTracRotavator BullockPlough',\n",
        "             'WetTillagePuddling BullockPlough FourWheelTracRotavator TractorPlough': 'WetTillagePuddling TractorPlough FourWheelTracRotavator BullockPlough',\n",
        "             'FourWheelTracRotavator BullockPlough WetTillagePuddling TractorPlough': 'WetTillagePuddling TractorPlough FourWheelTracRotavator BullockPlough',\n",
        "             'FourWheelTracRotavator WetTillagePuddling BullockPlough TractorPlough': 'WetTillagePuddling TractorPlough FourWheelTracRotavator BullockPlough',\n",
        "             'TractorPlough WetTillagePuddling BullockPlough FourWheelTracRotavator': 'WetTillagePuddling TractorPlough FourWheelTracRotavator BullockPlough',\n",
        "             'TractorPlough FourWheelTracRotavator BullockPlough WetTillagePuddling': 'WetTillagePuddling TractorPlough FourWheelTracRotavator BullockPlough',\n",
        "             'TractorPlough FourWheelTracRotavator WetTillagePuddling BullockPlough': 'WetTillagePuddling TractorPlough FourWheelTracRotavator BullockPlough',\n",
        "             'TractorPlough WetTillagePuddling BullockPlough': 'WetTillagePuddling TractorPlough BullockPlough',\n",
        "             'WetTillagePuddling BullockPlough TractorPlough': 'WetTillagePuddling TractorPlough BullockPlough',\n",
        "             'TractorPlough BullockPlough WetTillagePuddling': 'WetTillagePuddling TractorPlough BullockPlough',\n",
        "             'BullockPlough TractorPlough WetTillagePuddling': 'WetTillagePuddling TractorPlough BullockPlough',\n",
        "             'WetTillagePuddling FourWheelTracRotavator': 'FourWheelTracRotavator WetTillagePuddling',\n",
        "             'Other': 'Other'\n",
        "             }"
      ],
      "metadata": {
        "id": "nT_1bpkXqS6t"
      },
      "execution_count": 206,
      "outputs": []
    },
    {
      "cell_type": "code",
      "source": [
        "train_cat['LandPreparationMethod'] = train_cat['LandPreparationMethod'].replace(prep_dict)\n",
        "\n",
        "len(list(train['LandPreparationMethod'].unique()))"
      ],
      "metadata": {
        "id": "nysc9-7Ih0Lv",
        "colab": {
          "base_uri": "https://localhost:8080/"
        },
        "outputId": "40d0fb3c-b015-4d69-b342-b1f8f21d40c0"
      },
      "execution_count": 207,
      "outputs": [
        {
          "output_type": "execute_result",
          "data": {
            "text/plain": [
              "43"
            ]
          },
          "metadata": {},
          "execution_count": 207
        }
      ]
    },
    {
      "cell_type": "code",
      "source": [
        "train_cat['TractorPlough'] = train_cat.LandPreparationMethod.apply(lambda x: 1 if 'TractorPlough' in x else 0)\n",
        "train_cat['WetTillagePuddling'] = train_cat.LandPreparationMethod.apply(lambda x: 1 if 'WetTillagePuddling' in x else 0)\n",
        "train_cat['FourWheelTracRotavator'] = train_cat.LandPreparationMethod.apply(lambda x: 1 if 'FourWheelTracRotavator' in x else 0)\n",
        "train_cat['BullockPlough'] = train_cat.LandPreparationMethod.apply(lambda x: 1 if 'BullockPlough' in x else 0)\n",
        "train_cat['Other'] = train_cat.LandPreparationMethod.apply(lambda x: 1 if 'Other' in x else 0)\n",
        "\n",
        "train_cat = train_cat.drop(columns = ['LandPreparationMethod'])"
      ],
      "metadata": {
        "id": "fZgoLH9Frm6p"
      },
      "execution_count": 208,
      "outputs": []
    },
    {
      "cell_type": "code",
      "source": [
        "\n",
        "train_cat.CropEstMethod.value_counts()"
      ],
      "metadata": {
        "id": "V08S-OBdn6j8",
        "colab": {
          "base_uri": "https://localhost:8080/"
        },
        "outputId": "4f0bbada-f071-4ab0-d911-872126269dc6"
      },
      "execution_count": 209,
      "outputs": [
        {
          "output_type": "execute_result",
          "data": {
            "text/plain": [
              "Manual_PuddledRandom      3346\n",
              "Manual_PuddledLine         235\n",
              "LineSowingAfterTillage     206\n",
              "Broadcasting                83\n",
              "Name: CropEstMethod, dtype: int64"
            ]
          },
          "metadata": {},
          "execution_count": 209
        }
      ]
    },
    {
      "cell_type": "code",
      "source": [
        "train_cat.info()"
      ],
      "metadata": {
        "id": "NlKYiHDspHYU",
        "colab": {
          "base_uri": "https://localhost:8080/"
        },
        "outputId": "d9e4b622-bcde-4232-f4bb-06dc5cee716c"
      },
      "execution_count": 210,
      "outputs": [
        {
          "output_type": "stream",
          "name": "stdout",
          "text": [
            "<class 'pandas.core.frame.DataFrame'>\n",
            "RangeIndex: 3870 entries, 0 to 3869\n",
            "Data columns (total 25 columns):\n",
            " #   Column                              Non-Null Count  Dtype \n",
            "---  ------                              --------------  ----- \n",
            " 0   ID                                  3870 non-null   object\n",
            " 1   District                            3870 non-null   object\n",
            " 2   Block                               3870 non-null   object\n",
            " 3   CropTillageDate                     3870 non-null   object\n",
            " 4   CropEstMethod                       3870 non-null   object\n",
            " 5   RcNursEstDate                       3870 non-null   object\n",
            " 6   SeedingSowingTransplanting          3870 non-null   object\n",
            " 7   NursDetFactor                       3870 non-null   object\n",
            " 8   TransDetFactor                      3870 non-null   object\n",
            " 9   TransplantingIrrigationSource       3870 non-null   object\n",
            " 10  TransplantingIrrigationPowerSource  3870 non-null   object\n",
            " 11  CropbasalFerts                      3870 non-null   object\n",
            " 12  MineralFertAppMethod                3870 non-null   object\n",
            " 13  FirstTopDressFert                   3870 non-null   object\n",
            " 14  MineralFertAppMethod.1              3870 non-null   object\n",
            " 15  Harv_method                         3870 non-null   object\n",
            " 16  Harv_date                           3870 non-null   object\n",
            " 17  Threshing_date                      3870 non-null   object\n",
            " 18  Threshing_method                    3870 non-null   object\n",
            " 19  Stubble_use                         3870 non-null   object\n",
            " 20  TractorPlough                       3870 non-null   int64 \n",
            " 21  WetTillagePuddling                  3870 non-null   int64 \n",
            " 22  FourWheelTracRotavator              3870 non-null   int64 \n",
            " 23  BullockPlough                       3870 non-null   int64 \n",
            " 24  Other                               3870 non-null   int64 \n",
            "dtypes: int64(5), object(20)\n",
            "memory usage: 756.0+ KB\n"
          ]
        }
      ]
    },
    {
      "cell_type": "code",
      "source": [
        "train_cat.NursDetFactor.value_counts()"
      ],
      "metadata": {
        "id": "zg6RyLAfpTEz",
        "colab": {
          "base_uri": "https://localhost:8080/"
        },
        "outputId": "ee88b386-b0bb-440d-a37e-3dda51cf17ea"
      },
      "execution_count": 211,
      "outputs": [
        {
          "output_type": "execute_result",
          "data": {
            "text/plain": [
              "CalendarDate PreMonsoonShowers IrrigWaterAvailability LabourAvailability SeedAvailability    560\n",
              "CalendarDate IrrigWaterAvailability                                                          379\n",
              "CalendarDate                                                                                 324\n",
              "CalendarDate IrrigWaterAvailability SeedAvailability                                         306\n",
              "Unknown                                                                                      289\n",
              "                                                                                            ... \n",
              "IrrigWaterAvailability CalendarDate PreMonsoonShowers LabourAvailability                       1\n",
              "LabourAvailability SeedAvailability IrrigWaterAvailability PreMonsoonShowers                   1\n",
              "CalendarDate PreMonsoonShowers SeedAvailability IrrigWaterAvailability LabourAvailability      1\n",
              "CalendarDate SeedAvailability PreMonsoonShowers IrrigWaterAvailability                         1\n",
              "LabourAvailability IrrigWaterAvailability PreMonsoonShowers                                    1\n",
              "Name: NursDetFactor, Length: 126, dtype: int64"
            ]
          },
          "metadata": {},
          "execution_count": 211
        }
      ]
    },
    {
      "cell_type": "code",
      "source": [
        "group_by_length(list(train_cat.NursDetFactor.unique()))"
      ],
      "metadata": {
        "id": "-UKktmHkpX2g",
        "colab": {
          "base_uri": "https://localhost:8080/"
        },
        "outputId": "506ceae2-9fbb-4f09-b862-a5a134f563b4"
      },
      "execution_count": 212,
      "outputs": [
        {
          "output_type": "execute_result",
          "data": {
            "text/plain": [
              "{52: ['CalendarDate IrrigWaterAvailability SeedAvailability',\n",
              "  'CalendarDate SeedAvailability IrrigWaterAvailability',\n",
              "  'IrrigWaterAvailability CalendarDate SeedAvailability',\n",
              "  'IrrigWaterAvailability SeedAvailability CalendarDate',\n",
              "  'SeedAvailability IrrigWaterAvailability CalendarDate',\n",
              "  'SeedAvailability CalendarDate IrrigWaterAvailability'],\n",
              " 89: ['CalendarDate PreMonsoonShowers IrrigWaterAvailability LabourAvailability SeedAvailability',\n",
              "  'CalendarDate PreMonsoonShowers LabourAvailability IrrigWaterAvailability SeedAvailability',\n",
              "  'CalendarDate PreMonsoonShowers IrrigWaterAvailability SeedAvailability LabourAvailability',\n",
              "  'CalendarDate PreMonsoonShowers LabourAvailability SeedAvailability IrrigWaterAvailability',\n",
              "  'CalendarDate IrrigWaterAvailability LabourAvailability SeedAvailability PreMonsoonShowers',\n",
              "  'IrrigWaterAvailability LabourAvailability SeedAvailability PreMonsoonShowers CalendarDate',\n",
              "  'CalendarDate IrrigWaterAvailability PreMonsoonShowers LabourAvailability SeedAvailability',\n",
              "  'CalendarDate LabourAvailability SeedAvailability PreMonsoonShowers IrrigWaterAvailability',\n",
              "  'SeedAvailability LabourAvailability IrrigWaterAvailability PreMonsoonShowers CalendarDate',\n",
              "  'PreMonsoonShowers CalendarDate IrrigWaterAvailability LabourAvailability SeedAvailability',\n",
              "  'IrrigWaterAvailability PreMonsoonShowers CalendarDate LabourAvailability SeedAvailability',\n",
              "  'PreMonsoonShowers IrrigWaterAvailability LabourAvailability SeedAvailability CalendarDate',\n",
              "  'CalendarDate PreMonsoonShowers SeedAvailability IrrigWaterAvailability LabourAvailability',\n",
              "  'CalendarDate PreMonsoonShowers SeedAvailability LabourAvailability IrrigWaterAvailability',\n",
              "  'CalendarDate SeedAvailability LabourAvailability IrrigWaterAvailability PreMonsoonShowers',\n",
              "  'SeedAvailability IrrigWaterAvailability CalendarDate PreMonsoonShowers LabourAvailability',\n",
              "  'PreMonsoonShowers IrrigWaterAvailability SeedAvailability LabourAvailability CalendarDate'],\n",
              " 59: ['PreMonsoonShowers IrrigWaterAvailability LabourAvailability',\n",
              "  'IrrigWaterAvailability LabourAvailability PreMonsoonShowers',\n",
              "  'PreMonsoonShowers LabourAvailability IrrigWaterAvailability',\n",
              "  'LabourAvailability PreMonsoonShowers IrrigWaterAvailability',\n",
              "  'LabourAvailability IrrigWaterAvailability PreMonsoonShowers'],\n",
              " 29: ['CalendarDate SeedAvailability', 'SeedAvailability CalendarDate'],\n",
              " 7: ['Unknown'],\n",
              " 18: ['LabourAvailability'],\n",
              " 35: ['CalendarDate IrrigWaterAvailability',\n",
              "  'IrrigWaterAvailability CalendarDate',\n",
              "  'LabourAvailability SeedAvailability',\n",
              "  'SeedAvailability LabourAvailability'],\n",
              " 16: ['SeedAvailability'],\n",
              " 34: ['PreMonsoonShowers SeedAvailability'],\n",
              " 72: ['CalendarDate PreMonsoonShowers LabourAvailability IrrigWaterAvailability',\n",
              "  'CalendarDate IrrigWaterAvailability LabourAvailability PreMonsoonShowers',\n",
              "  'CalendarDate PreMonsoonShowers IrrigWaterAvailability LabourAvailability',\n",
              "  'CalendarDate LabourAvailability PreMonsoonShowers IrrigWaterAvailability',\n",
              "  'LabourAvailability IrrigWaterAvailability CalendarDate PreMonsoonShowers',\n",
              "  'PreMonsoonShowers CalendarDate IrrigWaterAvailability LabourAvailability',\n",
              "  'IrrigWaterAvailability LabourAvailability CalendarDate PreMonsoonShowers',\n",
              "  'CalendarDate IrrigWaterAvailability PreMonsoonShowers LabourAvailability',\n",
              "  'IrrigWaterAvailability LabourAvailability PreMonsoonShowers CalendarDate',\n",
              "  'IrrigWaterAvailability CalendarDate PreMonsoonShowers LabourAvailability',\n",
              "  'CalendarDate LabourAvailability IrrigWaterAvailability PreMonsoonShowers',\n",
              "  'PreMonsoonShowers LabourAvailability CalendarDate IrrigWaterAvailability'],\n",
              " 12: ['CalendarDate'],\n",
              " 41: ['IrrigWaterAvailability LabourAvailability',\n",
              "  'LabourAvailability IrrigWaterAvailability'],\n",
              " 39: ['IrrigWaterAvailability SeedAvailability',\n",
              "  'SeedAvailability IrrigWaterAvailability'],\n",
              " 76: ['PreMonsoonShowers IrrigWaterAvailability LabourAvailability SeedAvailability',\n",
              "  'LabourAvailability IrrigWaterAvailability PreMonsoonShowers SeedAvailability',\n",
              "  'IrrigWaterAvailability LabourAvailability PreMonsoonShowers SeedAvailability',\n",
              "  'PreMonsoonShowers IrrigWaterAvailability SeedAvailability LabourAvailability',\n",
              "  'LabourAvailability SeedAvailability PreMonsoonShowers IrrigWaterAvailability',\n",
              "  'IrrigWaterAvailability PreMonsoonShowers LabourAvailability SeedAvailability',\n",
              "  'IrrigWaterAvailability LabourAvailability SeedAvailability PreMonsoonShowers',\n",
              "  'IrrigWaterAvailability SeedAvailability LabourAvailability PreMonsoonShowers',\n",
              "  'SeedAvailability LabourAvailability IrrigWaterAvailability PreMonsoonShowers',\n",
              "  'LabourAvailability SeedAvailability IrrigWaterAvailability PreMonsoonShowers',\n",
              "  'PreMonsoonShowers LabourAvailability IrrigWaterAvailability SeedAvailability',\n",
              "  'PreMonsoonShowers SeedAvailability LabourAvailability IrrigWaterAvailability'],\n",
              " 48: ['CalendarDate LabourAvailability SeedAvailability',\n",
              "  'CalendarDate SeedAvailability LabourAvailability'],\n",
              " 71: ['CalendarDate IrrigWaterAvailability LabourAvailability SeedAvailability',\n",
              "  'CalendarDate LabourAvailability SeedAvailability IrrigWaterAvailability',\n",
              "  'CalendarDate IrrigWaterAvailability SeedAvailability LabourAvailability',\n",
              "  'CalendarDate LabourAvailability IrrigWaterAvailability SeedAvailability',\n",
              "  'CalendarDate SeedAvailability IrrigWaterAvailability LabourAvailability',\n",
              "  'IrrigWaterAvailability LabourAvailability SeedAvailability CalendarDate',\n",
              "  'IrrigWaterAvailability CalendarDate LabourAvailability SeedAvailability',\n",
              "  'CalendarDate SeedAvailability LabourAvailability IrrigWaterAvailability',\n",
              "  'IrrigWaterAvailability LabourAvailability CalendarDate SeedAvailability',\n",
              "  'SeedAvailability LabourAvailability CalendarDate IrrigWaterAvailability',\n",
              "  'IrrigWaterAvailability SeedAvailability CalendarDate LabourAvailability'],\n",
              " 70: ['CalendarDate PreMonsoonShowers IrrigWaterAvailability SeedAvailability',\n",
              "  'CalendarDate IrrigWaterAvailability SeedAvailability PreMonsoonShowers',\n",
              "  'PreMonsoonShowers IrrigWaterAvailability CalendarDate SeedAvailability',\n",
              "  'PreMonsoonShowers IrrigWaterAvailability SeedAvailability CalendarDate',\n",
              "  'CalendarDate IrrigWaterAvailability PreMonsoonShowers SeedAvailability',\n",
              "  'PreMonsoonShowers CalendarDate IrrigWaterAvailability SeedAvailability',\n",
              "  'CalendarDate SeedAvailability PreMonsoonShowers IrrigWaterAvailability',\n",
              "  'SeedAvailability IrrigWaterAvailability PreMonsoonShowers CalendarDate',\n",
              "  'IrrigWaterAvailability CalendarDate PreMonsoonShowers SeedAvailability'],\n",
              " 47: ['CalendarDate PreMonsoonShowers SeedAvailability',\n",
              "  'SeedAvailability CalendarDate PreMonsoonShowers',\n",
              "  'PreMonsoonShowers SeedAvailability CalendarDate'],\n",
              " 57: ['PreMonsoonShowers IrrigWaterAvailability SeedAvailability',\n",
              "  'IrrigWaterAvailability PreMonsoonShowers SeedAvailability',\n",
              "  'SeedAvailability IrrigWaterAvailability PreMonsoonShowers',\n",
              "  'IrrigWaterAvailability SeedAvailability PreMonsoonShowers'],\n",
              " 40: ['PreMonsoonShowers IrrigWaterAvailability',\n",
              "  'IrrigWaterAvailability PreMonsoonShowers'],\n",
              " 53: ['CalendarDate IrrigWaterAvailability PreMonsoonShowers',\n",
              "  'PreMonsoonShowers SeedAvailability LabourAvailability',\n",
              "  'CalendarDate PreMonsoonShowers IrrigWaterAvailability',\n",
              "  'PreMonsoonShowers CalendarDate IrrigWaterAvailability',\n",
              "  'PreMonsoonShowers IrrigWaterAvailability CalendarDate',\n",
              "  'PreMonsoonShowers LabourAvailability SeedAvailability',\n",
              "  'IrrigWaterAvailability PreMonsoonShowers CalendarDate'],\n",
              " 22: ['IrrigWaterAvailability'],\n",
              " 17: ['PreMonsoonShowers'],\n",
              " 30: ['PreMonsoonShowers CalendarDate', 'CalendarDate PreMonsoonShowers'],\n",
              " 58: ['IrrigWaterAvailability LabourAvailability SeedAvailability',\n",
              "  'LabourAvailability IrrigWaterAvailability SeedAvailability',\n",
              "  'IrrigWaterAvailability SeedAvailability LabourAvailability',\n",
              "  'LabourAvailability SeedAvailability IrrigWaterAvailability',\n",
              "  'SeedAvailability LabourAvailability IrrigWaterAvailability'],\n",
              " 49: ['CalendarDate PreMonsoonShowers LabourAvailability',\n",
              "  'PreMonsoonShowers CalendarDate LabourAvailability'],\n",
              " 31: ['CalendarDate LabourAvailability', 'LabourAvailability CalendarDate'],\n",
              " 54: ['CalendarDate IrrigWaterAvailability LabourAvailability',\n",
              "  'IrrigWaterAvailability LabourAvailability CalendarDate',\n",
              "  'LabourAvailability CalendarDate IrrigWaterAvailability',\n",
              "  'IrrigWaterAvailability CalendarDate LabourAvailability',\n",
              "  'CalendarDate LabourAvailability IrrigWaterAvailability',\n",
              "  'LabourAvailability IrrigWaterAvailability CalendarDate'],\n",
              " 66: ['CalendarDate PreMonsoonShowers LabourAvailability SeedAvailability'],\n",
              " 36: ['PreMonsoonShowers LabourAvailability']}"
            ]
          },
          "metadata": {},
          "execution_count": 212
        }
      ]
    },
    {
      "cell_type": "code",
      "source": [
        "train_cat['Nurs_CalendarDate'] = train_cat.NursDetFactor.apply(lambda x: 1 if 'CalendarDate' in x else 0)\n",
        "train_cat['Nurs_PreMonsoonShowers'] = train_cat.NursDetFactor.apply(lambda x: 1 if 'PreMonsoonShowers' in x else 0)\n",
        "train_cat['Nurs_LabourAvailability'] = train_cat.NursDetFactor.apply(lambda x: 1 if 'LabourAvailability' in x else 0)\n",
        "train_cat['Nurs_IrrigWaterAvailability'] = train_cat.NursDetFactor.apply(lambda x: 1 if 'IrrigWaterAvailability' in x else 0)\n",
        "train_cat['Nurs_SeedAvailability'] = train_cat.NursDetFactor.apply(lambda x: 1 if 'SeedAvailability' in x else 0)\n",
        "train_cat['Nurs_Unknown'] = train_cat.NursDetFactor.apply(lambda x: 1 if 'Unknown' in x else 0)\n",
        "\n",
        "\n",
        "train_cat = train_cat.drop(columns = ['NursDetFactor'])"
      ],
      "metadata": {
        "id": "7hv_-FRlppf4"
      },
      "execution_count": 213,
      "outputs": []
    },
    {
      "cell_type": "code",
      "source": [
        "train_cat.info()"
      ],
      "metadata": {
        "id": "IVpeQTdXsa7H",
        "colab": {
          "base_uri": "https://localhost:8080/"
        },
        "outputId": "db5e6405-416d-4d75-dc79-e2baa94b8a7d"
      },
      "execution_count": 214,
      "outputs": [
        {
          "output_type": "stream",
          "name": "stdout",
          "text": [
            "<class 'pandas.core.frame.DataFrame'>\n",
            "RangeIndex: 3870 entries, 0 to 3869\n",
            "Data columns (total 30 columns):\n",
            " #   Column                              Non-Null Count  Dtype \n",
            "---  ------                              --------------  ----- \n",
            " 0   ID                                  3870 non-null   object\n",
            " 1   District                            3870 non-null   object\n",
            " 2   Block                               3870 non-null   object\n",
            " 3   CropTillageDate                     3870 non-null   object\n",
            " 4   CropEstMethod                       3870 non-null   object\n",
            " 5   RcNursEstDate                       3870 non-null   object\n",
            " 6   SeedingSowingTransplanting          3870 non-null   object\n",
            " 7   TransDetFactor                      3870 non-null   object\n",
            " 8   TransplantingIrrigationSource       3870 non-null   object\n",
            " 9   TransplantingIrrigationPowerSource  3870 non-null   object\n",
            " 10  CropbasalFerts                      3870 non-null   object\n",
            " 11  MineralFertAppMethod                3870 non-null   object\n",
            " 12  FirstTopDressFert                   3870 non-null   object\n",
            " 13  MineralFertAppMethod.1              3870 non-null   object\n",
            " 14  Harv_method                         3870 non-null   object\n",
            " 15  Harv_date                           3870 non-null   object\n",
            " 16  Threshing_date                      3870 non-null   object\n",
            " 17  Threshing_method                    3870 non-null   object\n",
            " 18  Stubble_use                         3870 non-null   object\n",
            " 19  TractorPlough                       3870 non-null   int64 \n",
            " 20  WetTillagePuddling                  3870 non-null   int64 \n",
            " 21  FourWheelTracRotavator              3870 non-null   int64 \n",
            " 22  BullockPlough                       3870 non-null   int64 \n",
            " 23  Other                               3870 non-null   int64 \n",
            " 24  Nurs_CalendarDate                   3870 non-null   int64 \n",
            " 25  Nurs_PreMonsoonShowers              3870 non-null   int64 \n",
            " 26  Nurs_LabourAvailability             3870 non-null   int64 \n",
            " 27  Nurs_IrrigWaterAvailability         3870 non-null   int64 \n",
            " 28  Nurs_SeedAvailability               3870 non-null   int64 \n",
            " 29  Nurs_Unknown                        3870 non-null   int64 \n",
            "dtypes: int64(11), object(19)\n",
            "memory usage: 907.2+ KB\n"
          ]
        }
      ]
    },
    {
      "cell_type": "code",
      "source": [
        "group_by_length(list(train_cat['TransDetFactor'].unique()))\n",
        "\n"
      ],
      "metadata": {
        "id": "VjbAmfh2sebK",
        "colab": {
          "base_uri": "https://localhost:8080/"
        },
        "outputId": "edeeae01-c38a-4187-98ec-3135b7e9ad23"
      },
      "execution_count": 215,
      "outputs": [
        {
          "output_type": "execute_result",
          "data": {
            "text/plain": [
              "{77: ['CalendarDate SeedlingAge RainArrival IrrigWaterAvailability LaborAvailability',\n",
              "  'CalendarDate RainArrival IrrigWaterAvailability LaborAvailability SeedlingAge',\n",
              "  'SeedlingAge CalendarDate RainArrival IrrigWaterAvailability LaborAvailability',\n",
              "  'CalendarDate SeedlingAge RainArrival LaborAvailability IrrigWaterAvailability',\n",
              "  'CalendarDate SeedlingAge IrrigWaterAvailability LaborAvailability RainArrival',\n",
              "  'CalendarDate IrrigWaterAvailability RainArrival SeedlingAge LaborAvailability',\n",
              "  'LaborAvailability IrrigWaterAvailability RainArrival SeedlingAge CalendarDate',\n",
              "  'RainArrival IrrigWaterAvailability LaborAvailability SeedlingAge CalendarDate',\n",
              "  'SeedlingAge RainArrival IrrigWaterAvailability LaborAvailability CalendarDate',\n",
              "  'CalendarDate SeedlingAge IrrigWaterAvailability RainArrival LaborAvailability',\n",
              "  'CalendarDate RainArrival LaborAvailability SeedlingAge IrrigWaterAvailability',\n",
              "  'CalendarDate IrrigWaterAvailability LaborAvailability SeedlingAge RainArrival',\n",
              "  'CalendarDate RainArrival IrrigWaterAvailability SeedlingAge LaborAvailability',\n",
              "  'CalendarDate SeedlingAge LaborAvailability IrrigWaterAvailability RainArrival',\n",
              "  'IrrigWaterAvailability RainArrival SeedlingAge CalendarDate LaborAvailability',\n",
              "  'CalendarDate RainArrival SeedlingAge LaborAvailability IrrigWaterAvailability',\n",
              "  'CalendarDate RainArrival SeedlingAge IrrigWaterAvailability LaborAvailability',\n",
              "  'RainArrival SeedlingAge CalendarDate IrrigWaterAvailability LaborAvailability',\n",
              "  'SeedlingAge IrrigWaterAvailability CalendarDate RainArrival LaborAvailability',\n",
              "  'SeedlingAge RainArrival CalendarDate IrrigWaterAvailability LaborAvailability',\n",
              "  'RainArrival SeedlingAge CalendarDate LaborAvailability IrrigWaterAvailability',\n",
              "  'LaborAvailability IrrigWaterAvailability SeedlingAge RainArrival CalendarDate',\n",
              "  'IrrigWaterAvailability LaborAvailability RainArrival CalendarDate SeedlingAge',\n",
              "  'CalendarDate IrrigWaterAvailability SeedlingAge RainArrival LaborAvailability',\n",
              "  'RainArrival IrrigWaterAvailability CalendarDate SeedlingAge LaborAvailability',\n",
              "  'SeedlingAge CalendarDate RainArrival LaborAvailability IrrigWaterAvailability',\n",
              "  'CalendarDate LaborAvailability IrrigWaterAvailability SeedlingAge RainArrival',\n",
              "  'CalendarDate IrrigWaterAvailability LaborAvailability RainArrival SeedlingAge',\n",
              "  'CalendarDate SeedlingAge LaborAvailability RainArrival IrrigWaterAvailability',\n",
              "  'LaborAvailability IrrigWaterAvailability CalendarDate SeedlingAge RainArrival',\n",
              "  'LaborAvailability IrrigWaterAvailability RainArrival CalendarDate SeedlingAge',\n",
              "  'IrrigWaterAvailability LaborAvailability RainArrival SeedlingAge CalendarDate'],\n",
              " 52: ['SeedlingAge IrrigWaterAvailability LaborAvailability',\n",
              "  'RainArrival IrrigWaterAvailability LaborAvailability',\n",
              "  'LaborAvailability IrrigWaterAvailability RainArrival',\n",
              "  'IrrigWaterAvailability SeedlingAge LaborAvailability',\n",
              "  'IrrigWaterAvailability LaborAvailability RainArrival',\n",
              "  'IrrigWaterAvailability RainArrival LaborAvailability',\n",
              "  'IrrigWaterAvailability LaborAvailability SeedlingAge',\n",
              "  'LaborAvailability SeedlingAge IrrigWaterAvailability',\n",
              "  'LaborAvailability IrrigWaterAvailability SeedlingAge'],\n",
              " 64: ['SeedlingAge RainArrival IrrigWaterAvailability LaborAvailability',\n",
              "  'SeedlingAge LaborAvailability RainArrival IrrigWaterAvailability',\n",
              "  'SeedlingAge IrrigWaterAvailability LaborAvailability RainArrival',\n",
              "  'LaborAvailability IrrigWaterAvailability RainArrival SeedlingAge',\n",
              "  'SeedlingAge RainArrival LaborAvailability IrrigWaterAvailability',\n",
              "  'IrrigWaterAvailability LaborAvailability RainArrival SeedlingAge',\n",
              "  'RainArrival IrrigWaterAvailability SeedlingAge LaborAvailability',\n",
              "  'SeedlingAge IrrigWaterAvailability RainArrival LaborAvailability',\n",
              "  'SeedlingAge LaborAvailability IrrigWaterAvailability RainArrival',\n",
              "  'RainArrival SeedlingAge IrrigWaterAvailability LaborAvailability',\n",
              "  'RainArrival LaborAvailability SeedlingAge IrrigWaterAvailability',\n",
              "  'IrrigWaterAvailability RainArrival LaborAvailability SeedlingAge',\n",
              "  'RainArrival IrrigWaterAvailability LaborAvailability SeedlingAge'],\n",
              " 59: ['CalendarDate SeedlingAge RainArrival IrrigWaterAvailability',\n",
              "  'CalendarDate IrrigWaterAvailability SeedlingAge RainArrival',\n",
              "  'CalendarDate RainArrival SeedlingAge IrrigWaterAvailability',\n",
              "  'CalendarDate RainArrival IrrigWaterAvailability SeedlingAge',\n",
              "  'SeedlingAge CalendarDate IrrigWaterAvailability RainArrival',\n",
              "  'CalendarDate SeedlingAge IrrigWaterAvailability RainArrival',\n",
              "  'CalendarDate IrrigWaterAvailability RainArrival SeedlingAge',\n",
              "  'SeedlingAge IrrigWaterAvailability RainArrival CalendarDate',\n",
              "  'SeedlingAge CalendarDate RainArrival IrrigWaterAvailability',\n",
              "  'SeedlingAge RainArrival CalendarDate IrrigWaterAvailability',\n",
              "  'IrrigWaterAvailability RainArrival SeedlingAge CalendarDate',\n",
              "  'SeedlingAge RainArrival IrrigWaterAvailability CalendarDate',\n",
              "  'RainArrival CalendarDate SeedlingAge IrrigWaterAvailability',\n",
              "  'IrrigWaterAvailability SeedlingAge RainArrival CalendarDate',\n",
              "  'RainArrival SeedlingAge CalendarDate IrrigWaterAvailability'],\n",
              " 7: ['Unknown'],\n",
              " 24: ['CalendarDate RainArrival',\n",
              "  'CalendarDate SeedlingAge',\n",
              "  'RainArrival CalendarDate',\n",
              "  'SeedlingAge CalendarDate'],\n",
              " 34: ['SeedlingAge IrrigWaterAvailability',\n",
              "  'RainArrival IrrigWaterAvailability',\n",
              "  'IrrigWaterAvailability SeedlingAge',\n",
              "  'IrrigWaterAvailability RainArrival'],\n",
              " 36: ['CalendarDate SeedlingAge RainArrival',\n",
              "  'RainArrival SeedlingAge CalendarDate',\n",
              "  'SeedlingAge CalendarDate RainArrival',\n",
              "  'CalendarDate RainArrival SeedlingAge',\n",
              "  'RainArrival CalendarDate SeedlingAge',\n",
              "  'SeedlingAge RainArrival CalendarDate'],\n",
              " 65: ['CalendarDate SeedlingAge IrrigWaterAvailability LaborAvailability',\n",
              "  'CalendarDate RainArrival IrrigWaterAvailability LaborAvailability',\n",
              "  'CalendarDate IrrigWaterAvailability LaborAvailability SeedlingAge',\n",
              "  'SeedlingAge CalendarDate IrrigWaterAvailability LaborAvailability',\n",
              "  'CalendarDate IrrigWaterAvailability LaborAvailability RainArrival',\n",
              "  'CalendarDate LaborAvailability IrrigWaterAvailability RainArrival',\n",
              "  'CalendarDate SeedlingAge LaborAvailability IrrigWaterAvailability',\n",
              "  'LaborAvailability IrrigWaterAvailability SeedlingAge CalendarDate',\n",
              "  'LaborAvailability IrrigWaterAvailability RainArrival CalendarDate',\n",
              "  'SeedlingAge CalendarDate LaborAvailability IrrigWaterAvailability',\n",
              "  'CalendarDate IrrigWaterAvailability SeedlingAge LaborAvailability',\n",
              "  'CalendarDate LaborAvailability RainArrival IrrigWaterAvailability',\n",
              "  'LaborAvailability IrrigWaterAvailability CalendarDate SeedlingAge',\n",
              "  'SeedlingAge IrrigWaterAvailability CalendarDate LaborAvailability',\n",
              "  'CalendarDate RainArrival LaborAvailability IrrigWaterAvailability',\n",
              "  'IrrigWaterAvailability LaborAvailability CalendarDate SeedlingAge',\n",
              "  'IrrigWaterAvailability LaborAvailability RainArrival CalendarDate',\n",
              "  'IrrigWaterAvailability RainArrival CalendarDate LaborAvailability',\n",
              "  'CalendarDate IrrigWaterAvailability RainArrival LaborAvailability',\n",
              "  'SeedlingAge LaborAvailability IrrigWaterAvailability CalendarDate',\n",
              "  'SeedlingAge IrrigWaterAvailability LaborAvailability CalendarDate',\n",
              "  'SeedlingAge LaborAvailability CalendarDate IrrigWaterAvailability'],\n",
              " 11: ['RainArrival', 'SeedlingAge'],\n",
              " 12: ['CalendarDate'],\n",
              " 46: ['IrrigWaterAvailability RainArrival SeedlingAge',\n",
              "  'SeedlingAge RainArrival IrrigWaterAvailability',\n",
              "  'RainArrival IrrigWaterAvailability SeedlingAge',\n",
              "  'SeedlingAge IrrigWaterAvailability RainArrival',\n",
              "  'RainArrival SeedlingAge IrrigWaterAvailability',\n",
              "  'IrrigWaterAvailability SeedlingAge RainArrival'],\n",
              " 53: ['LaborAvailability IrrigWaterAvailability CalendarDate',\n",
              "  'LaborAvailability CalendarDate IrrigWaterAvailability',\n",
              "  'CalendarDate IrrigWaterAvailability LaborAvailability',\n",
              "  'IrrigWaterAvailability CalendarDate LaborAvailability',\n",
              "  'CalendarDate LaborAvailability IrrigWaterAvailability'],\n",
              " 54: ['CalendarDate SeedlingAge RainArrival LaborAvailability',\n",
              "  'SeedlingAge RainArrival LaborAvailability CalendarDate',\n",
              "  'LaborAvailability RainArrival SeedlingAge CalendarDate',\n",
              "  'CalendarDate LaborAvailability SeedlingAge RainArrival',\n",
              "  'CalendarDate SeedlingAge LaborAvailability RainArrival',\n",
              "  'RainArrival SeedlingAge CalendarDate LaborAvailability'],\n",
              " 23: ['SeedlingAge RainArrival', 'RainArrival SeedlingAge'],\n",
              " 42: ['CalendarDate RainArrival LaborAvailability',\n",
              "  'LaborAvailability CalendarDate SeedlingAge',\n",
              "  'CalendarDate SeedlingAge LaborAvailability',\n",
              "  'SeedlingAge CalendarDate LaborAvailability',\n",
              "  'RainArrival LaborAvailability CalendarDate'],\n",
              " 17: ['LaborAvailability'],\n",
              " 47: ['CalendarDate SeedlingAge IrrigWaterAvailability',\n",
              "  'RainArrival CalendarDate IrrigWaterAvailability',\n",
              "  'IrrigWaterAvailability SeedlingAge CalendarDate',\n",
              "  'CalendarDate RainArrival IrrigWaterAvailability',\n",
              "  'CalendarDate IrrigWaterAvailability RainArrival',\n",
              "  'SeedlingAge CalendarDate IrrigWaterAvailability',\n",
              "  'CalendarDate IrrigWaterAvailability SeedlingAge',\n",
              "  'SeedlingAge IrrigWaterAvailability CalendarDate',\n",
              "  'IrrigWaterAvailability CalendarDate SeedlingAge'],\n",
              " 22: ['IrrigWaterAvailability'],\n",
              " 40: ['IrrigWaterAvailability LaborAvailability',\n",
              "  'LaborAvailability IrrigWaterAvailability'],\n",
              " 35: ['CalendarDate IrrigWaterAvailability',\n",
              "  'IrrigWaterAvailability CalendarDate'],\n",
              " 29: ['RainArrival LaborAvailability',\n",
              "  'SeedlingAge LaborAvailability',\n",
              "  'LaborAvailability SeedlingAge',\n",
              "  'LaborAvailability RainArrival'],\n",
              " 30: ['CalendarDate LaborAvailability'],\n",
              " 41: ['LaborAvailability RainArrival SeedlingAge',\n",
              "  'SeedlingAge RainArrival LaborAvailability',\n",
              "  'RainArrival SeedlingAge LaborAvailability']}"
            ]
          },
          "metadata": {},
          "execution_count": 215
        }
      ]
    },
    {
      "cell_type": "code",
      "source": [
        "train_cat['Trans_CalendarDate'] = train_cat.TransDetFactor.apply(lambda x: 1 if 'CalendarDate' in x else 0)\n",
        "train_cat['Trans_PreMonsoonShowers'] = train_cat.TransDetFactor.apply(lambda x: 1 if 'PreMonsoonShowers' in x else 0)\n",
        "train_cat['Trans_LabourAvailability'] = train_cat.TransDetFactor.apply(lambda x: 1 if 'LabourAvailability' in x else 0)\n",
        "train_cat['Trans_IrrigWaterAvailability'] = train_cat.TransDetFactor.apply(lambda x: 1 if 'IrrigWaterAvailability' in x else 0)\n",
        "train_cat['Trans_SeedAvailability'] = train_cat.TransDetFactor.apply(lambda x: 1 if 'SeedAvailability' in x else 0)\n",
        "train_cat['Trans_Unknown'] = train_cat.TransDetFactor.apply(lambda x: 1 if 'Unknown' in x else 0)\n",
        "\n",
        "\n",
        "train_cat = train_cat.drop(columns = ['TransDetFactor'])"
      ],
      "metadata": {
        "id": "mbPe2YyGspc_"
      },
      "execution_count": 216,
      "outputs": []
    },
    {
      "cell_type": "code",
      "source": [
        "train_cat.TransplantingIrrigationSource.value_counts()"
      ],
      "metadata": {
        "id": "CsE-8-CPtdMq",
        "colab": {
          "base_uri": "https://localhost:8080/"
        },
        "outputId": "916540c5-4fb2-4956-f141-2f4f7d35257f"
      },
      "execution_count": 217,
      "outputs": [
        {
          "output_type": "execute_result",
          "data": {
            "text/plain": [
              "Boring      3228\n",
              "Canal        373\n",
              "Unknown      115\n",
              "Rainfed      103\n",
              "Pond          36\n",
              "TubeWell      12\n",
              "Well           3\n",
              "Name: TransplantingIrrigationSource, dtype: int64"
            ]
          },
          "metadata": {},
          "execution_count": 217
        }
      ]
    },
    {
      "cell_type": "code",
      "source": [
        "train_cat.TransplantingIrrigationPowerSource.value_counts()"
      ],
      "metadata": {
        "id": "gZVfFkkdtwcA",
        "colab": {
          "base_uri": "https://localhost:8080/"
        },
        "outputId": "c4660c3a-23d0-4cbd-8563-72de01db47de"
      },
      "execution_count": 218,
      "outputs": [
        {
          "output_type": "execute_result",
          "data": {
            "text/plain": [
              "Electric    2645\n",
              "Diesel       720\n",
              "Unknown      503\n",
              "Solar          2\n",
              "Name: TransplantingIrrigationPowerSource, dtype: int64"
            ]
          },
          "metadata": {},
          "execution_count": 218
        }
      ]
    },
    {
      "cell_type": "code",
      "source": [
        "train_cat.CropbasalFerts.value_counts()"
      ],
      "metadata": {
        "id": "49P6L5Uqt1gY",
        "colab": {
          "base_uri": "https://localhost:8080/"
        },
        "outputId": "3dc895e5-b5b2-4bd1-ca0c-10c937f5f029"
      },
      "execution_count": 219,
      "outputs": [
        {
          "output_type": "execute_result",
          "data": {
            "text/plain": [
              "DAP Urea             1640\n",
              "DAP                  1379\n",
              "Urea                  308\n",
              "Unknown               188\n",
              "Urea DAP              134\n",
              "DAP Other              70\n",
              "DAP Urea SSP           51\n",
              "NPK                    29\n",
              "DAP Urea NPKS          18\n",
              "NPK Urea                8\n",
              "Urea DAP SSP            7\n",
              "Urea NPKS               6\n",
              "Urea DAP NPKS           3\n",
              "DAP NPKS                3\n",
              "DAP SSP                 3\n",
              "Urea NPKS DAP           3\n",
              "DAP NPK Urea            2\n",
              "DAP Urea NPK            1\n",
              "Urea DAP MoP            1\n",
              "SSP Urea                1\n",
              "NPKS                    1\n",
              "DAP NPKS Urea           1\n",
              "NPKS DAP Urea           1\n",
              "DAP Urea NPKS MoP       1\n",
              "DAP NPKS Urea SSP       1\n",
              "Urea SSP                1\n",
              "Urea NPK                1\n",
              "DAP NPKS Other          1\n",
              "NPK DAP Urea            1\n",
              "DAP Urea SSP MoP        1\n",
              "DAP MoP                 1\n",
              "DAP Urea NPKS SSP       1\n",
              "DAP Urea MoP            1\n",
              "Urea SSP DAP            1\n",
              "Urea Other DAP          1\n",
              "Name: CropbasalFerts, dtype: int64"
            ]
          },
          "metadata": {},
          "execution_count": 219
        }
      ]
    },
    {
      "cell_type": "code",
      "source": [
        "train_cat['DAP'] = train_cat.CropbasalFerts.apply(lambda x: 1 if 'DAP' in x else 0)\n",
        "train_cat['MoP'] = train_cat.CropbasalFerts.apply(lambda x: 1 if 'MoP' in x else 0)\n",
        "train_cat['NPKS'] = train_cat.CropbasalFerts.apply(lambda x: 1 if 'NPKS' in x else 0)\n",
        "train_cat['Other'] = train_cat.CropbasalFerts.apply(lambda x: 1 if 'Other' in x else 0)\n",
        "train_cat['SSP'] = train_cat.CropbasalFerts.apply(lambda x: 1 if 'SSP' in x else 0)\n",
        "train_cat['Urea'] = train_cat.CropbasalFerts.apply(lambda x: 1 if 'Urea' in x else 0)\n",
        "\n",
        "train_cat = train_cat.drop(columns = ['CropbasalFerts'])"
      ],
      "metadata": {
        "id": "_HXQLBnzt5Rc"
      },
      "execution_count": 220,
      "outputs": []
    },
    {
      "cell_type": "code",
      "source": [
        "train_cat.MineralFertAppMethod.value_counts()"
      ],
      "metadata": {
        "id": "UbKZnmWQucAa",
        "colab": {
          "base_uri": "https://localhost:8080/"
        },
        "outputId": "4179e89e-4cb8-470f-bf3a-bb86c3afab03"
      },
      "execution_count": 221,
      "outputs": [
        {
          "output_type": "execute_result",
          "data": {
            "text/plain": [
              "Broadcasting       3214\n",
              "SoilApplied         638\n",
              "RootApplication      18\n",
              "Name: MineralFertAppMethod, dtype: int64"
            ]
          },
          "metadata": {},
          "execution_count": 221
        }
      ]
    },
    {
      "cell_type": "code",
      "source": [
        "train_cat.FirstTopDressFert.value_counts()"
      ],
      "metadata": {
        "id": "J__gBxsfuiqF",
        "colab": {
          "base_uri": "https://localhost:8080/"
        },
        "outputId": "3d452fa7-9c8b-4a6e-9729-2b5b9f9713fc"
      },
      "execution_count": 222,
      "outputs": [
        {
          "output_type": "execute_result",
          "data": {
            "text/plain": [
              "Urea            2798\n",
              "Unknown          485\n",
              "DAP Urea         322\n",
              "Urea DAP         177\n",
              "DAP               64\n",
              "NPKS Urea          6\n",
              "Urea NPKS          5\n",
              "NPK                3\n",
              "DAP NPKS           3\n",
              "NPK Urea           2\n",
              "DAP NPK Urea       1\n",
              "Urea NPK           1\n",
              "DAP NPK            1\n",
              "Urea SSP           1\n",
              "Other Urea         1\n",
              "Name: FirstTopDressFert, dtype: int64"
            ]
          },
          "metadata": {},
          "execution_count": 222
        }
      ]
    },
    {
      "cell_type": "code",
      "source": [
        "train_cat['TopDress_DAP'] = train_cat.FirstTopDressFert.apply(lambda x: 1 if 'DAP' in x else 0)\n",
        "train_cat['TopDress_NPKS'] = train_cat.FirstTopDressFert.apply(lambda x: 1 if 'NPKS' in x else 0)\n",
        "train_cat['TopDress_Other'] = train_cat.FirstTopDressFert.apply(lambda x: 1 if 'Other' in x else 0)\n",
        "train_cat['TopDress_SSP'] = train_cat.FirstTopDressFert.apply(lambda x: 1 if 'SSP' in x else 0)\n",
        "train_cat['TopDress_Urea'] = train_cat.FirstTopDressFert.apply(lambda x: 1 if 'Urea' in x else 0)\n",
        "\n",
        "train_cat = train_cat.drop(columns = ['FirstTopDressFert'])"
      ],
      "metadata": {
        "id": "MWsUIreGutiB"
      },
      "execution_count": 223,
      "outputs": []
    },
    {
      "cell_type": "code",
      "source": [
        "train_cat['MineralFertAppMethod.1'].value_counts()"
      ],
      "metadata": {
        "id": "iswBgrxLvFKn",
        "colab": {
          "base_uri": "https://localhost:8080/"
        },
        "outputId": "dc231f20-4bb6-4da8-cdac-a1119fdb18ee"
      },
      "execution_count": 224,
      "outputs": [
        {
          "output_type": "execute_result",
          "data": {
            "text/plain": [
              "Broadcasting       3288\n",
              "Unknown             481\n",
              "SoilApplied          64\n",
              "RootApplication      37\n",
              "Name: MineralFertAppMethod.1, dtype: int64"
            ]
          },
          "metadata": {},
          "execution_count": 224
        }
      ]
    },
    {
      "cell_type": "code",
      "source": [
        "train_cat['Harv_method'].value_counts()"
      ],
      "metadata": {
        "id": "QfTyQZRVvOQl",
        "colab": {
          "base_uri": "https://localhost:8080/"
        },
        "outputId": "97fc7ae8-4fb2-4b52-d35d-80be37c6e43f"
      },
      "execution_count": 225,
      "outputs": [
        {
          "output_type": "execute_result",
          "data": {
            "text/plain": [
              "hand       3642\n",
              "machine     228\n",
              "Name: Harv_method, dtype: int64"
            ]
          },
          "metadata": {},
          "execution_count": 225
        }
      ]
    },
    {
      "cell_type": "code",
      "source": [
        "train_cat['Threshing_method'].value_counts()"
      ],
      "metadata": {
        "id": "_22zNw50vScv",
        "colab": {
          "base_uri": "https://localhost:8080/"
        },
        "outputId": "48b8df2b-62df-450a-eb72-117e5b5887c8"
      },
      "execution_count": 226,
      "outputs": [
        {
          "output_type": "execute_result",
          "data": {
            "text/plain": [
              "machine    2098\n",
              "hand       1772\n",
              "Name: Threshing_method, dtype: int64"
            ]
          },
          "metadata": {},
          "execution_count": 226
        }
      ]
    },
    {
      "cell_type": "code",
      "source": [
        "train_cat['Stubble_use'].value_counts()"
      ],
      "metadata": {
        "id": "H1PA2cI1vVtY",
        "colab": {
          "base_uri": "https://localhost:8080/"
        },
        "outputId": "257bceb3-9e0c-4d6a-c8d8-4b794bae4fea"
      },
      "execution_count": 227,
      "outputs": [
        {
          "output_type": "execute_result",
          "data": {
            "text/plain": [
              "plowed_in_soil    3846\n",
              "burned              24\n",
              "Name: Stubble_use, dtype: int64"
            ]
          },
          "metadata": {},
          "execution_count": 227
        }
      ]
    },
    {
      "cell_type": "code",
      "source": [
        "train_cat['Stubble_use'].value_counts()"
      ],
      "metadata": {
        "id": "j7A9To7oviHS",
        "colab": {
          "base_uri": "https://localhost:8080/"
        },
        "outputId": "556969a4-8497-446d-cde1-0de7794169c9"
      },
      "execution_count": 228,
      "outputs": [
        {
          "output_type": "execute_result",
          "data": {
            "text/plain": [
              "plowed_in_soil    3846\n",
              "burned              24\n",
              "Name: Stubble_use, dtype: int64"
            ]
          },
          "metadata": {},
          "execution_count": 228
        }
      ]
    },
    {
      "cell_type": "code",
      "source": [
        "train_cat.info()"
      ],
      "metadata": {
        "id": "ERPwci-Xv88U",
        "colab": {
          "base_uri": "https://localhost:8080/"
        },
        "outputId": "7d6123da-2782-4967-afc9-ab0b6519d6c4"
      },
      "execution_count": 229,
      "outputs": [
        {
          "output_type": "stream",
          "name": "stdout",
          "text": [
            "<class 'pandas.core.frame.DataFrame'>\n",
            "RangeIndex: 3870 entries, 0 to 3869\n",
            "Data columns (total 43 columns):\n",
            " #   Column                              Non-Null Count  Dtype \n",
            "---  ------                              --------------  ----- \n",
            " 0   ID                                  3870 non-null   object\n",
            " 1   District                            3870 non-null   object\n",
            " 2   Block                               3870 non-null   object\n",
            " 3   CropTillageDate                     3870 non-null   object\n",
            " 4   CropEstMethod                       3870 non-null   object\n",
            " 5   RcNursEstDate                       3870 non-null   object\n",
            " 6   SeedingSowingTransplanting          3870 non-null   object\n",
            " 7   TransplantingIrrigationSource       3870 non-null   object\n",
            " 8   TransplantingIrrigationPowerSource  3870 non-null   object\n",
            " 9   MineralFertAppMethod                3870 non-null   object\n",
            " 10  MineralFertAppMethod.1              3870 non-null   object\n",
            " 11  Harv_method                         3870 non-null   object\n",
            " 12  Harv_date                           3870 non-null   object\n",
            " 13  Threshing_date                      3870 non-null   object\n",
            " 14  Threshing_method                    3870 non-null   object\n",
            " 15  Stubble_use                         3870 non-null   object\n",
            " 16  TractorPlough                       3870 non-null   int64 \n",
            " 17  WetTillagePuddling                  3870 non-null   int64 \n",
            " 18  FourWheelTracRotavator              3870 non-null   int64 \n",
            " 19  BullockPlough                       3870 non-null   int64 \n",
            " 20  Other                               3870 non-null   int64 \n",
            " 21  Nurs_CalendarDate                   3870 non-null   int64 \n",
            " 22  Nurs_PreMonsoonShowers              3870 non-null   int64 \n",
            " 23  Nurs_LabourAvailability             3870 non-null   int64 \n",
            " 24  Nurs_IrrigWaterAvailability         3870 non-null   int64 \n",
            " 25  Nurs_SeedAvailability               3870 non-null   int64 \n",
            " 26  Nurs_Unknown                        3870 non-null   int64 \n",
            " 27  Trans_CalendarDate                  3870 non-null   int64 \n",
            " 28  Trans_PreMonsoonShowers             3870 non-null   int64 \n",
            " 29  Trans_LabourAvailability            3870 non-null   int64 \n",
            " 30  Trans_IrrigWaterAvailability        3870 non-null   int64 \n",
            " 31  Trans_SeedAvailability              3870 non-null   int64 \n",
            " 32  Trans_Unknown                       3870 non-null   int64 \n",
            " 33  DAP                                 3870 non-null   int64 \n",
            " 34  MoP                                 3870 non-null   int64 \n",
            " 35  NPKS                                3870 non-null   int64 \n",
            " 36  SSP                                 3870 non-null   int64 \n",
            " 37  Urea                                3870 non-null   int64 \n",
            " 38  TopDress_DAP                        3870 non-null   int64 \n",
            " 39  TopDress_NPKS                       3870 non-null   int64 \n",
            " 40  TopDress_Other                      3870 non-null   int64 \n",
            " 41  TopDress_SSP                        3870 non-null   int64 \n",
            " 42  TopDress_Urea                       3870 non-null   int64 \n",
            "dtypes: int64(27), object(16)\n",
            "memory usage: 1.3+ MB\n"
          ]
        }
      ]
    },
    {
      "cell_type": "markdown",
      "source": [
        "## One Hot Encode"
      ],
      "metadata": {
        "id": "guqVIl1HED1A"
      }
    },
    {
      "cell_type": "code",
      "source": [
        "train_cat_ohe = train_cat.iloc[: , : 15]\n",
        "train_cat_preOHE = train_cat.iloc[: , 16:]\n",
        "\n",
        "train_cat_ohe = train_cat_ohe.drop(columns = ['CropTillageDate', 'RcNursEstDate','Harv_date', 'Threshing_date', 'SeedingSowingTransplanting' ])\n",
        "train_cat_ohe.info()\n",
        "id_column = train_cat_ohe['ID']\n",
        "train_cat_preOHE = pd.concat([id_column, train_cat_preOHE], axis=1)\n",
        "train_num = pd.concat([id_column, train_num], axis=1)\n",
        "encoded_df = train_cat_ohe.drop(columns = ['ID'])\n",
        "train_cat_preOHE.info()"
      ],
      "metadata": {
        "id": "rQ4d2Eb4yf1O",
        "colab": {
          "base_uri": "https://localhost:8080/"
        },
        "outputId": "c7b5036a-db84-4c28-dcfa-0d87ac5d19bc"
      },
      "execution_count": 230,
      "outputs": [
        {
          "output_type": "stream",
          "name": "stdout",
          "text": [
            "<class 'pandas.core.frame.DataFrame'>\n",
            "RangeIndex: 3870 entries, 0 to 3869\n",
            "Data columns (total 10 columns):\n",
            " #   Column                              Non-Null Count  Dtype \n",
            "---  ------                              --------------  ----- \n",
            " 0   ID                                  3870 non-null   object\n",
            " 1   District                            3870 non-null   object\n",
            " 2   Block                               3870 non-null   object\n",
            " 3   CropEstMethod                       3870 non-null   object\n",
            " 4   TransplantingIrrigationSource       3870 non-null   object\n",
            " 5   TransplantingIrrigationPowerSource  3870 non-null   object\n",
            " 6   MineralFertAppMethod                3870 non-null   object\n",
            " 7   MineralFertAppMethod.1              3870 non-null   object\n",
            " 8   Harv_method                         3870 non-null   object\n",
            " 9   Threshing_method                    3870 non-null   object\n",
            "dtypes: object(10)\n",
            "memory usage: 302.5+ KB\n",
            "<class 'pandas.core.frame.DataFrame'>\n",
            "RangeIndex: 3870 entries, 0 to 3869\n",
            "Data columns (total 28 columns):\n",
            " #   Column                        Non-Null Count  Dtype \n",
            "---  ------                        --------------  ----- \n",
            " 0   ID                            3870 non-null   object\n",
            " 1   TractorPlough                 3870 non-null   int64 \n",
            " 2   WetTillagePuddling            3870 non-null   int64 \n",
            " 3   FourWheelTracRotavator        3870 non-null   int64 \n",
            " 4   BullockPlough                 3870 non-null   int64 \n",
            " 5   Other                         3870 non-null   int64 \n",
            " 6   Nurs_CalendarDate             3870 non-null   int64 \n",
            " 7   Nurs_PreMonsoonShowers        3870 non-null   int64 \n",
            " 8   Nurs_LabourAvailability       3870 non-null   int64 \n",
            " 9   Nurs_IrrigWaterAvailability   3870 non-null   int64 \n",
            " 10  Nurs_SeedAvailability         3870 non-null   int64 \n",
            " 11  Nurs_Unknown                  3870 non-null   int64 \n",
            " 12  Trans_CalendarDate            3870 non-null   int64 \n",
            " 13  Trans_PreMonsoonShowers       3870 non-null   int64 \n",
            " 14  Trans_LabourAvailability      3870 non-null   int64 \n",
            " 15  Trans_IrrigWaterAvailability  3870 non-null   int64 \n",
            " 16  Trans_SeedAvailability        3870 non-null   int64 \n",
            " 17  Trans_Unknown                 3870 non-null   int64 \n",
            " 18  DAP                           3870 non-null   int64 \n",
            " 19  MoP                           3870 non-null   int64 \n",
            " 20  NPKS                          3870 non-null   int64 \n",
            " 21  SSP                           3870 non-null   int64 \n",
            " 22  Urea                          3870 non-null   int64 \n",
            " 23  TopDress_DAP                  3870 non-null   int64 \n",
            " 24  TopDress_NPKS                 3870 non-null   int64 \n",
            " 25  TopDress_Other                3870 non-null   int64 \n",
            " 26  TopDress_SSP                  3870 non-null   int64 \n",
            " 27  TopDress_Urea                 3870 non-null   int64 \n",
            "dtypes: int64(27), object(1)\n",
            "memory usage: 846.7+ KB\n"
          ]
        }
      ]
    },
    {
      "cell_type": "code",
      "source": [
        "\n",
        "ohe = OneHotEncoder(sparse=False)\n",
        "\n",
        "encoded_data = ohe.fit_transform(encoded_df)\n",
        "\n",
        "new_column_names = ohe.get_feature_names_out(input_features=encoded_df.columns)\n",
        "\n",
        "train_cat_ohe = pd.DataFrame(encoded_data, columns=new_column_names, index=encoded_df.index)\n",
        "\n",
        "train_cat_ohe = pd.concat([id_column, train_cat_ohe], axis=1)\n",
        "print(train_cat_ohe.info())"
      ],
      "metadata": {
        "id": "C0e9X5ijzAiE",
        "colab": {
          "base_uri": "https://localhost:8080/"
        },
        "outputId": "5f4f4108-d515-4eef-d51f-64d4b30dba11"
      },
      "execution_count": 231,
      "outputs": [
        {
          "output_type": "stream",
          "name": "stdout",
          "text": [
            "<class 'pandas.core.frame.DataFrame'>\n",
            "RangeIndex: 3870 entries, 0 to 3869\n",
            "Data columns (total 40 columns):\n",
            " #   Column                                       Non-Null Count  Dtype  \n",
            "---  ------                                       --------------  -----  \n",
            " 0   ID                                           3870 non-null   object \n",
            " 1   District_Gaya                                3870 non-null   float64\n",
            " 2   District_Jamui                               3870 non-null   float64\n",
            " 3   District_Nalanda                             3870 non-null   float64\n",
            " 4   District_Vaishali                            3870 non-null   float64\n",
            " 5   Block_Chehrakala                             3870 non-null   float64\n",
            " 6   Block_Garoul                                 3870 non-null   float64\n",
            " 7   Block_Gurua                                  3870 non-null   float64\n",
            " 8   Block_Jamui                                  3870 non-null   float64\n",
            " 9   Block_Khaira                                 3870 non-null   float64\n",
            " 10  Block_Mahua                                  3870 non-null   float64\n",
            " 11  Block_Noorsarai                              3870 non-null   float64\n",
            " 12  Block_Rajgir                                 3870 non-null   float64\n",
            " 13  Block_Wazirganj                              3870 non-null   float64\n",
            " 14  CropEstMethod_Broadcasting                   3870 non-null   float64\n",
            " 15  CropEstMethod_LineSowingAfterTillage         3870 non-null   float64\n",
            " 16  CropEstMethod_Manual_PuddledLine             3870 non-null   float64\n",
            " 17  CropEstMethod_Manual_PuddledRandom           3870 non-null   float64\n",
            " 18  TransplantingIrrigationSource_Boring         3870 non-null   float64\n",
            " 19  TransplantingIrrigationSource_Canal          3870 non-null   float64\n",
            " 20  TransplantingIrrigationSource_Pond           3870 non-null   float64\n",
            " 21  TransplantingIrrigationSource_Rainfed        3870 non-null   float64\n",
            " 22  TransplantingIrrigationSource_TubeWell       3870 non-null   float64\n",
            " 23  TransplantingIrrigationSource_Unknown        3870 non-null   float64\n",
            " 24  TransplantingIrrigationSource_Well           3870 non-null   float64\n",
            " 25  TransplantingIrrigationPowerSource_Diesel    3870 non-null   float64\n",
            " 26  TransplantingIrrigationPowerSource_Electric  3870 non-null   float64\n",
            " 27  TransplantingIrrigationPowerSource_Solar     3870 non-null   float64\n",
            " 28  TransplantingIrrigationPowerSource_Unknown   3870 non-null   float64\n",
            " 29  MineralFertAppMethod_Broadcasting            3870 non-null   float64\n",
            " 30  MineralFertAppMethod_RootApplication         3870 non-null   float64\n",
            " 31  MineralFertAppMethod_SoilApplied             3870 non-null   float64\n",
            " 32  MineralFertAppMethod.1_Broadcasting          3870 non-null   float64\n",
            " 33  MineralFertAppMethod.1_RootApplication       3870 non-null   float64\n",
            " 34  MineralFertAppMethod.1_SoilApplied           3870 non-null   float64\n",
            " 35  MineralFertAppMethod.1_Unknown               3870 non-null   float64\n",
            " 36  Harv_method_hand                             3870 non-null   float64\n",
            " 37  Harv_method_machine                          3870 non-null   float64\n",
            " 38  Threshing_method_hand                        3870 non-null   float64\n",
            " 39  Threshing_method_machine                     3870 non-null   float64\n",
            "dtypes: float64(39), object(1)\n",
            "memory usage: 1.2+ MB\n",
            "None\n"
          ]
        },
        {
          "output_type": "stream",
          "name": "stderr",
          "text": [
            "/usr/local/lib/python3.10/dist-packages/sklearn/preprocessing/_encoders.py:868: FutureWarning: `sparse` was renamed to `sparse_output` in version 1.2 and will be removed in 1.4. `sparse_output` is ignored unless you leave `sparse` to its default value.\n",
            "  warnings.warn(\n"
          ]
        }
      ]
    },
    {
      "cell_type": "code",
      "source": [
        "train_cat_ohe.head()"
      ],
      "metadata": {
        "id": "orY_L3vtzr0X",
        "colab": {
          "base_uri": "https://localhost:8080/",
          "height": 253
        },
        "outputId": "9b809083-9385-4b59-c724-a691483e7f41"
      },
      "execution_count": 232,
      "outputs": [
        {
          "output_type": "execute_result",
          "data": {
            "text/plain": [
              "                ID  District_Gaya  District_Jamui  District_Nalanda  \\\n",
              "0  ID_GTFAC7PEVWQ9            0.0             0.0               1.0   \n",
              "1  ID_TK40ARLSPOKS            0.0             0.0               1.0   \n",
              "2  ID_1FJY2CRIMLZZ            1.0             0.0               0.0   \n",
              "3  ID_I3IPXS4DB7NE            1.0             0.0               0.0   \n",
              "4  ID_4T8YQWXWHB4A            0.0             0.0               1.0   \n",
              "\n",
              "   District_Vaishali  Block_Chehrakala  Block_Garoul  Block_Gurua  \\\n",
              "0                0.0               0.0           0.0          0.0   \n",
              "1                0.0               0.0           0.0          0.0   \n",
              "2                0.0               0.0           0.0          1.0   \n",
              "3                0.0               0.0           0.0          1.0   \n",
              "4                0.0               0.0           0.0          0.0   \n",
              "\n",
              "   Block_Jamui  Block_Khaira  ...  MineralFertAppMethod_RootApplication  \\\n",
              "0          0.0           0.0  ...                                   0.0   \n",
              "1          0.0           0.0  ...                                   0.0   \n",
              "2          0.0           0.0  ...                                   0.0   \n",
              "3          0.0           0.0  ...                                   0.0   \n",
              "4          0.0           0.0  ...                                   0.0   \n",
              "\n",
              "   MineralFertAppMethod_SoilApplied  MineralFertAppMethod.1_Broadcasting  \\\n",
              "0                               0.0                                  1.0   \n",
              "1                               0.0                                  1.0   \n",
              "2                               1.0                                  0.0   \n",
              "3                               0.0                                  1.0   \n",
              "4                               0.0                                  1.0   \n",
              "\n",
              "   MineralFertAppMethod.1_RootApplication  MineralFertAppMethod.1_SoilApplied  \\\n",
              "0                                     0.0                                 0.0   \n",
              "1                                     0.0                                 0.0   \n",
              "2                                     1.0                                 0.0   \n",
              "3                                     0.0                                 0.0   \n",
              "4                                     0.0                                 0.0   \n",
              "\n",
              "   MineralFertAppMethod.1_Unknown  Harv_method_hand  Harv_method_machine  \\\n",
              "0                             0.0               0.0                  1.0   \n",
              "1                             0.0               1.0                  0.0   \n",
              "2                             0.0               1.0                  0.0   \n",
              "3                             0.0               1.0                  0.0   \n",
              "4                             0.0               0.0                  1.0   \n",
              "\n",
              "   Threshing_method_hand  Threshing_method_machine  \n",
              "0                    0.0                       1.0  \n",
              "1                    0.0                       1.0  \n",
              "2                    0.0                       1.0  \n",
              "3                    1.0                       0.0  \n",
              "4                    0.0                       1.0  \n",
              "\n",
              "[5 rows x 40 columns]"
            ],
            "text/html": [
              "\n",
              "  <div id=\"df-ae168e34-fdbe-42a5-83be-fb6988ab90fc\" class=\"colab-df-container\">\n",
              "    <div>\n",
              "<style scoped>\n",
              "    .dataframe tbody tr th:only-of-type {\n",
              "        vertical-align: middle;\n",
              "    }\n",
              "\n",
              "    .dataframe tbody tr th {\n",
              "        vertical-align: top;\n",
              "    }\n",
              "\n",
              "    .dataframe thead th {\n",
              "        text-align: right;\n",
              "    }\n",
              "</style>\n",
              "<table border=\"1\" class=\"dataframe\">\n",
              "  <thead>\n",
              "    <tr style=\"text-align: right;\">\n",
              "      <th></th>\n",
              "      <th>ID</th>\n",
              "      <th>District_Gaya</th>\n",
              "      <th>District_Jamui</th>\n",
              "      <th>District_Nalanda</th>\n",
              "      <th>District_Vaishali</th>\n",
              "      <th>Block_Chehrakala</th>\n",
              "      <th>Block_Garoul</th>\n",
              "      <th>Block_Gurua</th>\n",
              "      <th>Block_Jamui</th>\n",
              "      <th>Block_Khaira</th>\n",
              "      <th>...</th>\n",
              "      <th>MineralFertAppMethod_RootApplication</th>\n",
              "      <th>MineralFertAppMethod_SoilApplied</th>\n",
              "      <th>MineralFertAppMethod.1_Broadcasting</th>\n",
              "      <th>MineralFertAppMethod.1_RootApplication</th>\n",
              "      <th>MineralFertAppMethod.1_SoilApplied</th>\n",
              "      <th>MineralFertAppMethod.1_Unknown</th>\n",
              "      <th>Harv_method_hand</th>\n",
              "      <th>Harv_method_machine</th>\n",
              "      <th>Threshing_method_hand</th>\n",
              "      <th>Threshing_method_machine</th>\n",
              "    </tr>\n",
              "  </thead>\n",
              "  <tbody>\n",
              "    <tr>\n",
              "      <th>0</th>\n",
              "      <td>ID_GTFAC7PEVWQ9</td>\n",
              "      <td>0.0</td>\n",
              "      <td>0.0</td>\n",
              "      <td>1.0</td>\n",
              "      <td>0.0</td>\n",
              "      <td>0.0</td>\n",
              "      <td>0.0</td>\n",
              "      <td>0.0</td>\n",
              "      <td>0.0</td>\n",
              "      <td>0.0</td>\n",
              "      <td>...</td>\n",
              "      <td>0.0</td>\n",
              "      <td>0.0</td>\n",
              "      <td>1.0</td>\n",
              "      <td>0.0</td>\n",
              "      <td>0.0</td>\n",
              "      <td>0.0</td>\n",
              "      <td>0.0</td>\n",
              "      <td>1.0</td>\n",
              "      <td>0.0</td>\n",
              "      <td>1.0</td>\n",
              "    </tr>\n",
              "    <tr>\n",
              "      <th>1</th>\n",
              "      <td>ID_TK40ARLSPOKS</td>\n",
              "      <td>0.0</td>\n",
              "      <td>0.0</td>\n",
              "      <td>1.0</td>\n",
              "      <td>0.0</td>\n",
              "      <td>0.0</td>\n",
              "      <td>0.0</td>\n",
              "      <td>0.0</td>\n",
              "      <td>0.0</td>\n",
              "      <td>0.0</td>\n",
              "      <td>...</td>\n",
              "      <td>0.0</td>\n",
              "      <td>0.0</td>\n",
              "      <td>1.0</td>\n",
              "      <td>0.0</td>\n",
              "      <td>0.0</td>\n",
              "      <td>0.0</td>\n",
              "      <td>1.0</td>\n",
              "      <td>0.0</td>\n",
              "      <td>0.0</td>\n",
              "      <td>1.0</td>\n",
              "    </tr>\n",
              "    <tr>\n",
              "      <th>2</th>\n",
              "      <td>ID_1FJY2CRIMLZZ</td>\n",
              "      <td>1.0</td>\n",
              "      <td>0.0</td>\n",
              "      <td>0.0</td>\n",
              "      <td>0.0</td>\n",
              "      <td>0.0</td>\n",
              "      <td>0.0</td>\n",
              "      <td>1.0</td>\n",
              "      <td>0.0</td>\n",
              "      <td>0.0</td>\n",
              "      <td>...</td>\n",
              "      <td>0.0</td>\n",
              "      <td>1.0</td>\n",
              "      <td>0.0</td>\n",
              "      <td>1.0</td>\n",
              "      <td>0.0</td>\n",
              "      <td>0.0</td>\n",
              "      <td>1.0</td>\n",
              "      <td>0.0</td>\n",
              "      <td>0.0</td>\n",
              "      <td>1.0</td>\n",
              "    </tr>\n",
              "    <tr>\n",
              "      <th>3</th>\n",
              "      <td>ID_I3IPXS4DB7NE</td>\n",
              "      <td>1.0</td>\n",
              "      <td>0.0</td>\n",
              "      <td>0.0</td>\n",
              "      <td>0.0</td>\n",
              "      <td>0.0</td>\n",
              "      <td>0.0</td>\n",
              "      <td>1.0</td>\n",
              "      <td>0.0</td>\n",
              "      <td>0.0</td>\n",
              "      <td>...</td>\n",
              "      <td>0.0</td>\n",
              "      <td>0.0</td>\n",
              "      <td>1.0</td>\n",
              "      <td>0.0</td>\n",
              "      <td>0.0</td>\n",
              "      <td>0.0</td>\n",
              "      <td>1.0</td>\n",
              "      <td>0.0</td>\n",
              "      <td>1.0</td>\n",
              "      <td>0.0</td>\n",
              "    </tr>\n",
              "    <tr>\n",
              "      <th>4</th>\n",
              "      <td>ID_4T8YQWXWHB4A</td>\n",
              "      <td>0.0</td>\n",
              "      <td>0.0</td>\n",
              "      <td>1.0</td>\n",
              "      <td>0.0</td>\n",
              "      <td>0.0</td>\n",
              "      <td>0.0</td>\n",
              "      <td>0.0</td>\n",
              "      <td>0.0</td>\n",
              "      <td>0.0</td>\n",
              "      <td>...</td>\n",
              "      <td>0.0</td>\n",
              "      <td>0.0</td>\n",
              "      <td>1.0</td>\n",
              "      <td>0.0</td>\n",
              "      <td>0.0</td>\n",
              "      <td>0.0</td>\n",
              "      <td>0.0</td>\n",
              "      <td>1.0</td>\n",
              "      <td>0.0</td>\n",
              "      <td>1.0</td>\n",
              "    </tr>\n",
              "  </tbody>\n",
              "</table>\n",
              "<p>5 rows × 40 columns</p>\n",
              "</div>\n",
              "    <div class=\"colab-df-buttons\">\n",
              "\n",
              "  <div class=\"colab-df-container\">\n",
              "    <button class=\"colab-df-convert\" onclick=\"convertToInteractive('df-ae168e34-fdbe-42a5-83be-fb6988ab90fc')\"\n",
              "            title=\"Convert this dataframe to an interactive table.\"\n",
              "            style=\"display:none;\">\n",
              "\n",
              "  <svg xmlns=\"http://www.w3.org/2000/svg\" height=\"24px\" viewBox=\"0 -960 960 960\">\n",
              "    <path d=\"M120-120v-720h720v720H120Zm60-500h600v-160H180v160Zm220 220h160v-160H400v160Zm0 220h160v-160H400v160ZM180-400h160v-160H180v160Zm440 0h160v-160H620v160ZM180-180h160v-160H180v160Zm440 0h160v-160H620v160Z\"/>\n",
              "  </svg>\n",
              "    </button>\n",
              "\n",
              "  <style>\n",
              "    .colab-df-container {\n",
              "      display:flex;\n",
              "      gap: 12px;\n",
              "    }\n",
              "\n",
              "    .colab-df-convert {\n",
              "      background-color: #E8F0FE;\n",
              "      border: none;\n",
              "      border-radius: 50%;\n",
              "      cursor: pointer;\n",
              "      display: none;\n",
              "      fill: #1967D2;\n",
              "      height: 32px;\n",
              "      padding: 0 0 0 0;\n",
              "      width: 32px;\n",
              "    }\n",
              "\n",
              "    .colab-df-convert:hover {\n",
              "      background-color: #E2EBFA;\n",
              "      box-shadow: 0px 1px 2px rgba(60, 64, 67, 0.3), 0px 1px 3px 1px rgba(60, 64, 67, 0.15);\n",
              "      fill: #174EA6;\n",
              "    }\n",
              "\n",
              "    .colab-df-buttons div {\n",
              "      margin-bottom: 4px;\n",
              "    }\n",
              "\n",
              "    [theme=dark] .colab-df-convert {\n",
              "      background-color: #3B4455;\n",
              "      fill: #D2E3FC;\n",
              "    }\n",
              "\n",
              "    [theme=dark] .colab-df-convert:hover {\n",
              "      background-color: #434B5C;\n",
              "      box-shadow: 0px 1px 3px 1px rgba(0, 0, 0, 0.15);\n",
              "      filter: drop-shadow(0px 1px 2px rgba(0, 0, 0, 0.3));\n",
              "      fill: #FFFFFF;\n",
              "    }\n",
              "  </style>\n",
              "\n",
              "    <script>\n",
              "      const buttonEl =\n",
              "        document.querySelector('#df-ae168e34-fdbe-42a5-83be-fb6988ab90fc button.colab-df-convert');\n",
              "      buttonEl.style.display =\n",
              "        google.colab.kernel.accessAllowed ? 'block' : 'none';\n",
              "\n",
              "      async function convertToInteractive(key) {\n",
              "        const element = document.querySelector('#df-ae168e34-fdbe-42a5-83be-fb6988ab90fc');\n",
              "        const dataTable =\n",
              "          await google.colab.kernel.invokeFunction('convertToInteractive',\n",
              "                                                    [key], {});\n",
              "        if (!dataTable) return;\n",
              "\n",
              "        const docLinkHtml = 'Like what you see? Visit the ' +\n",
              "          '<a target=\"_blank\" href=https://colab.research.google.com/notebooks/data_table.ipynb>data table notebook</a>'\n",
              "          + ' to learn more about interactive tables.';\n",
              "        element.innerHTML = '';\n",
              "        dataTable['output_type'] = 'display_data';\n",
              "        await google.colab.output.renderOutput(dataTable, element);\n",
              "        const docLink = document.createElement('div');\n",
              "        docLink.innerHTML = docLinkHtml;\n",
              "        element.appendChild(docLink);\n",
              "      }\n",
              "    </script>\n",
              "  </div>\n",
              "\n",
              "\n",
              "<div id=\"df-d1e28036-7f34-48ab-9dab-9269ffe3cc97\">\n",
              "  <button class=\"colab-df-quickchart\" onclick=\"quickchart('df-d1e28036-7f34-48ab-9dab-9269ffe3cc97')\"\n",
              "            title=\"Suggest charts\"\n",
              "            style=\"display:none;\">\n",
              "\n",
              "<svg xmlns=\"http://www.w3.org/2000/svg\" height=\"24px\"viewBox=\"0 0 24 24\"\n",
              "     width=\"24px\">\n",
              "    <g>\n",
              "        <path d=\"M19 3H5c-1.1 0-2 .9-2 2v14c0 1.1.9 2 2 2h14c1.1 0 2-.9 2-2V5c0-1.1-.9-2-2-2zM9 17H7v-7h2v7zm4 0h-2V7h2v10zm4 0h-2v-4h2v4z\"/>\n",
              "    </g>\n",
              "</svg>\n",
              "  </button>\n",
              "\n",
              "<style>\n",
              "  .colab-df-quickchart {\n",
              "      --bg-color: #E8F0FE;\n",
              "      --fill-color: #1967D2;\n",
              "      --hover-bg-color: #E2EBFA;\n",
              "      --hover-fill-color: #174EA6;\n",
              "      --disabled-fill-color: #AAA;\n",
              "      --disabled-bg-color: #DDD;\n",
              "  }\n",
              "\n",
              "  [theme=dark] .colab-df-quickchart {\n",
              "      --bg-color: #3B4455;\n",
              "      --fill-color: #D2E3FC;\n",
              "      --hover-bg-color: #434B5C;\n",
              "      --hover-fill-color: #FFFFFF;\n",
              "      --disabled-bg-color: #3B4455;\n",
              "      --disabled-fill-color: #666;\n",
              "  }\n",
              "\n",
              "  .colab-df-quickchart {\n",
              "    background-color: var(--bg-color);\n",
              "    border: none;\n",
              "    border-radius: 50%;\n",
              "    cursor: pointer;\n",
              "    display: none;\n",
              "    fill: var(--fill-color);\n",
              "    height: 32px;\n",
              "    padding: 0;\n",
              "    width: 32px;\n",
              "  }\n",
              "\n",
              "  .colab-df-quickchart:hover {\n",
              "    background-color: var(--hover-bg-color);\n",
              "    box-shadow: 0 1px 2px rgba(60, 64, 67, 0.3), 0 1px 3px 1px rgba(60, 64, 67, 0.15);\n",
              "    fill: var(--button-hover-fill-color);\n",
              "  }\n",
              "\n",
              "  .colab-df-quickchart-complete:disabled,\n",
              "  .colab-df-quickchart-complete:disabled:hover {\n",
              "    background-color: var(--disabled-bg-color);\n",
              "    fill: var(--disabled-fill-color);\n",
              "    box-shadow: none;\n",
              "  }\n",
              "\n",
              "  .colab-df-spinner {\n",
              "    border: 2px solid var(--fill-color);\n",
              "    border-color: transparent;\n",
              "    border-bottom-color: var(--fill-color);\n",
              "    animation:\n",
              "      spin 1s steps(1) infinite;\n",
              "  }\n",
              "\n",
              "  @keyframes spin {\n",
              "    0% {\n",
              "      border-color: transparent;\n",
              "      border-bottom-color: var(--fill-color);\n",
              "      border-left-color: var(--fill-color);\n",
              "    }\n",
              "    20% {\n",
              "      border-color: transparent;\n",
              "      border-left-color: var(--fill-color);\n",
              "      border-top-color: var(--fill-color);\n",
              "    }\n",
              "    30% {\n",
              "      border-color: transparent;\n",
              "      border-left-color: var(--fill-color);\n",
              "      border-top-color: var(--fill-color);\n",
              "      border-right-color: var(--fill-color);\n",
              "    }\n",
              "    40% {\n",
              "      border-color: transparent;\n",
              "      border-right-color: var(--fill-color);\n",
              "      border-top-color: var(--fill-color);\n",
              "    }\n",
              "    60% {\n",
              "      border-color: transparent;\n",
              "      border-right-color: var(--fill-color);\n",
              "    }\n",
              "    80% {\n",
              "      border-color: transparent;\n",
              "      border-right-color: var(--fill-color);\n",
              "      border-bottom-color: var(--fill-color);\n",
              "    }\n",
              "    90% {\n",
              "      border-color: transparent;\n",
              "      border-bottom-color: var(--fill-color);\n",
              "    }\n",
              "  }\n",
              "</style>\n",
              "\n",
              "  <script>\n",
              "    async function quickchart(key) {\n",
              "      const quickchartButtonEl =\n",
              "        document.querySelector('#' + key + ' button');\n",
              "      quickchartButtonEl.disabled = true;  // To prevent multiple clicks.\n",
              "      quickchartButtonEl.classList.add('colab-df-spinner');\n",
              "      try {\n",
              "        const charts = await google.colab.kernel.invokeFunction(\n",
              "            'suggestCharts', [key], {});\n",
              "      } catch (error) {\n",
              "        console.error('Error during call to suggestCharts:', error);\n",
              "      }\n",
              "      quickchartButtonEl.classList.remove('colab-df-spinner');\n",
              "      quickchartButtonEl.classList.add('colab-df-quickchart-complete');\n",
              "    }\n",
              "    (() => {\n",
              "      let quickchartButtonEl =\n",
              "        document.querySelector('#df-d1e28036-7f34-48ab-9dab-9269ffe3cc97 button');\n",
              "      quickchartButtonEl.style.display =\n",
              "        google.colab.kernel.accessAllowed ? 'block' : 'none';\n",
              "    })();\n",
              "  </script>\n",
              "</div>\n",
              "\n",
              "    </div>\n",
              "  </div>\n"
            ],
            "application/vnd.google.colaboratory.intrinsic+json": {
              "type": "dataframe",
              "variable_name": "train_cat_ohe"
            }
          },
          "metadata": {},
          "execution_count": 232
        }
      ]
    },
    {
      "cell_type": "code",
      "source": [
        "train_cat_ohe = pd.merge(train_cat_ohe, train_cat_preOHE)\n",
        "train_cat_ohe.info()"
      ],
      "metadata": {
        "id": "Y8mQrnspzzM4",
        "colab": {
          "base_uri": "https://localhost:8080/"
        },
        "outputId": "9e47cada-3cae-4e04-adef-99068d9e1f94"
      },
      "execution_count": 233,
      "outputs": [
        {
          "output_type": "stream",
          "name": "stdout",
          "text": [
            "<class 'pandas.core.frame.DataFrame'>\n",
            "Int64Index: 3870 entries, 0 to 3869\n",
            "Data columns (total 67 columns):\n",
            " #   Column                                       Non-Null Count  Dtype  \n",
            "---  ------                                       --------------  -----  \n",
            " 0   ID                                           3870 non-null   object \n",
            " 1   District_Gaya                                3870 non-null   float64\n",
            " 2   District_Jamui                               3870 non-null   float64\n",
            " 3   District_Nalanda                             3870 non-null   float64\n",
            " 4   District_Vaishali                            3870 non-null   float64\n",
            " 5   Block_Chehrakala                             3870 non-null   float64\n",
            " 6   Block_Garoul                                 3870 non-null   float64\n",
            " 7   Block_Gurua                                  3870 non-null   float64\n",
            " 8   Block_Jamui                                  3870 non-null   float64\n",
            " 9   Block_Khaira                                 3870 non-null   float64\n",
            " 10  Block_Mahua                                  3870 non-null   float64\n",
            " 11  Block_Noorsarai                              3870 non-null   float64\n",
            " 12  Block_Rajgir                                 3870 non-null   float64\n",
            " 13  Block_Wazirganj                              3870 non-null   float64\n",
            " 14  CropEstMethod_Broadcasting                   3870 non-null   float64\n",
            " 15  CropEstMethod_LineSowingAfterTillage         3870 non-null   float64\n",
            " 16  CropEstMethod_Manual_PuddledLine             3870 non-null   float64\n",
            " 17  CropEstMethod_Manual_PuddledRandom           3870 non-null   float64\n",
            " 18  TransplantingIrrigationSource_Boring         3870 non-null   float64\n",
            " 19  TransplantingIrrigationSource_Canal          3870 non-null   float64\n",
            " 20  TransplantingIrrigationSource_Pond           3870 non-null   float64\n",
            " 21  TransplantingIrrigationSource_Rainfed        3870 non-null   float64\n",
            " 22  TransplantingIrrigationSource_TubeWell       3870 non-null   float64\n",
            " 23  TransplantingIrrigationSource_Unknown        3870 non-null   float64\n",
            " 24  TransplantingIrrigationSource_Well           3870 non-null   float64\n",
            " 25  TransplantingIrrigationPowerSource_Diesel    3870 non-null   float64\n",
            " 26  TransplantingIrrigationPowerSource_Electric  3870 non-null   float64\n",
            " 27  TransplantingIrrigationPowerSource_Solar     3870 non-null   float64\n",
            " 28  TransplantingIrrigationPowerSource_Unknown   3870 non-null   float64\n",
            " 29  MineralFertAppMethod_Broadcasting            3870 non-null   float64\n",
            " 30  MineralFertAppMethod_RootApplication         3870 non-null   float64\n",
            " 31  MineralFertAppMethod_SoilApplied             3870 non-null   float64\n",
            " 32  MineralFertAppMethod.1_Broadcasting          3870 non-null   float64\n",
            " 33  MineralFertAppMethod.1_RootApplication       3870 non-null   float64\n",
            " 34  MineralFertAppMethod.1_SoilApplied           3870 non-null   float64\n",
            " 35  MineralFertAppMethod.1_Unknown               3870 non-null   float64\n",
            " 36  Harv_method_hand                             3870 non-null   float64\n",
            " 37  Harv_method_machine                          3870 non-null   float64\n",
            " 38  Threshing_method_hand                        3870 non-null   float64\n",
            " 39  Threshing_method_machine                     3870 non-null   float64\n",
            " 40  TractorPlough                                3870 non-null   int64  \n",
            " 41  WetTillagePuddling                           3870 non-null   int64  \n",
            " 42  FourWheelTracRotavator                       3870 non-null   int64  \n",
            " 43  BullockPlough                                3870 non-null   int64  \n",
            " 44  Other                                        3870 non-null   int64  \n",
            " 45  Nurs_CalendarDate                            3870 non-null   int64  \n",
            " 46  Nurs_PreMonsoonShowers                       3870 non-null   int64  \n",
            " 47  Nurs_LabourAvailability                      3870 non-null   int64  \n",
            " 48  Nurs_IrrigWaterAvailability                  3870 non-null   int64  \n",
            " 49  Nurs_SeedAvailability                        3870 non-null   int64  \n",
            " 50  Nurs_Unknown                                 3870 non-null   int64  \n",
            " 51  Trans_CalendarDate                           3870 non-null   int64  \n",
            " 52  Trans_PreMonsoonShowers                      3870 non-null   int64  \n",
            " 53  Trans_LabourAvailability                     3870 non-null   int64  \n",
            " 54  Trans_IrrigWaterAvailability                 3870 non-null   int64  \n",
            " 55  Trans_SeedAvailability                       3870 non-null   int64  \n",
            " 56  Trans_Unknown                                3870 non-null   int64  \n",
            " 57  DAP                                          3870 non-null   int64  \n",
            " 58  MoP                                          3870 non-null   int64  \n",
            " 59  NPKS                                         3870 non-null   int64  \n",
            " 60  SSP                                          3870 non-null   int64  \n",
            " 61  Urea                                         3870 non-null   int64  \n",
            " 62  TopDress_DAP                                 3870 non-null   int64  \n",
            " 63  TopDress_NPKS                                3870 non-null   int64  \n",
            " 64  TopDress_Other                               3870 non-null   int64  \n",
            " 65  TopDress_SSP                                 3870 non-null   int64  \n",
            " 66  TopDress_Urea                                3870 non-null   int64  \n",
            "dtypes: float64(39), int64(27), object(1)\n",
            "memory usage: 2.0+ MB\n"
          ]
        }
      ]
    },
    {
      "cell_type": "code",
      "source": [],
      "metadata": {
        "id": "ih5ccbhMbgYO"
      },
      "execution_count": 233,
      "outputs": []
    },
    {
      "cell_type": "code",
      "source": [
        "train = pd.merge(train_cat_ohe, train_num)"
      ],
      "metadata": {
        "id": "-Hg-ERcF4kZB"
      },
      "execution_count": 234,
      "outputs": []
    },
    {
      "cell_type": "code",
      "source": [],
      "metadata": {
        "id": "kBgylXoE6GMW"
      },
      "execution_count": 234,
      "outputs": []
    },
    {
      "cell_type": "markdown",
      "source": [
        "## Simple Linear Regression"
      ],
      "metadata": {
        "id": "c82CjHG0ESst"
      }
    },
    {
      "cell_type": "code",
      "source": [
        "from sklearn.pipeline import Pipeline\n",
        "from sklearn.preprocessing import MinMaxScaler\n",
        "from sklearn.linear_model import LinearRegression\n",
        "\n",
        "pipe = Pipeline([('mms', MinMaxScaler()), ('linreg', LinearRegression())])\n",
        "\n",
        "X_train = train.drop(columns = ['ID', 'Yield'])\n",
        "y = train['Yield']\n",
        "\n",
        "pipe.fit(X_train, y)\n",
        "\n",
        "\n",
        "\n"
      ],
      "metadata": {
        "id": "Hfc7XBoW6Hqx",
        "colab": {
          "base_uri": "https://localhost:8080/",
          "height": 124
        },
        "outputId": "5dee8222-ef68-4ed8-d0a1-847343b81e6c"
      },
      "execution_count": 235,
      "outputs": [
        {
          "output_type": "execute_result",
          "data": {
            "text/plain": [
              "Pipeline(steps=[('mms', MinMaxScaler()), ('linreg', LinearRegression())])"
            ],
            "text/html": [
              "<style>#sk-container-id-5 {color: black;background-color: white;}#sk-container-id-5 pre{padding: 0;}#sk-container-id-5 div.sk-toggleable {background-color: white;}#sk-container-id-5 label.sk-toggleable__label {cursor: pointer;display: block;width: 100%;margin-bottom: 0;padding: 0.3em;box-sizing: border-box;text-align: center;}#sk-container-id-5 label.sk-toggleable__label-arrow:before {content: \"▸\";float: left;margin-right: 0.25em;color: #696969;}#sk-container-id-5 label.sk-toggleable__label-arrow:hover:before {color: black;}#sk-container-id-5 div.sk-estimator:hover label.sk-toggleable__label-arrow:before {color: black;}#sk-container-id-5 div.sk-toggleable__content {max-height: 0;max-width: 0;overflow: hidden;text-align: left;background-color: #f0f8ff;}#sk-container-id-5 div.sk-toggleable__content pre {margin: 0.2em;color: black;border-radius: 0.25em;background-color: #f0f8ff;}#sk-container-id-5 input.sk-toggleable__control:checked~div.sk-toggleable__content {max-height: 200px;max-width: 100%;overflow: auto;}#sk-container-id-5 input.sk-toggleable__control:checked~label.sk-toggleable__label-arrow:before {content: \"▾\";}#sk-container-id-5 div.sk-estimator input.sk-toggleable__control:checked~label.sk-toggleable__label {background-color: #d4ebff;}#sk-container-id-5 div.sk-label input.sk-toggleable__control:checked~label.sk-toggleable__label {background-color: #d4ebff;}#sk-container-id-5 input.sk-hidden--visually {border: 0;clip: rect(1px 1px 1px 1px);clip: rect(1px, 1px, 1px, 1px);height: 1px;margin: -1px;overflow: hidden;padding: 0;position: absolute;width: 1px;}#sk-container-id-5 div.sk-estimator {font-family: monospace;background-color: #f0f8ff;border: 1px dotted black;border-radius: 0.25em;box-sizing: border-box;margin-bottom: 0.5em;}#sk-container-id-5 div.sk-estimator:hover {background-color: #d4ebff;}#sk-container-id-5 div.sk-parallel-item::after {content: \"\";width: 100%;border-bottom: 1px solid gray;flex-grow: 1;}#sk-container-id-5 div.sk-label:hover label.sk-toggleable__label {background-color: #d4ebff;}#sk-container-id-5 div.sk-serial::before {content: \"\";position: absolute;border-left: 1px solid gray;box-sizing: border-box;top: 0;bottom: 0;left: 50%;z-index: 0;}#sk-container-id-5 div.sk-serial {display: flex;flex-direction: column;align-items: center;background-color: white;padding-right: 0.2em;padding-left: 0.2em;position: relative;}#sk-container-id-5 div.sk-item {position: relative;z-index: 1;}#sk-container-id-5 div.sk-parallel {display: flex;align-items: stretch;justify-content: center;background-color: white;position: relative;}#sk-container-id-5 div.sk-item::before, #sk-container-id-5 div.sk-parallel-item::before {content: \"\";position: absolute;border-left: 1px solid gray;box-sizing: border-box;top: 0;bottom: 0;left: 50%;z-index: -1;}#sk-container-id-5 div.sk-parallel-item {display: flex;flex-direction: column;z-index: 1;position: relative;background-color: white;}#sk-container-id-5 div.sk-parallel-item:first-child::after {align-self: flex-end;width: 50%;}#sk-container-id-5 div.sk-parallel-item:last-child::after {align-self: flex-start;width: 50%;}#sk-container-id-5 div.sk-parallel-item:only-child::after {width: 0;}#sk-container-id-5 div.sk-dashed-wrapped {border: 1px dashed gray;margin: 0 0.4em 0.5em 0.4em;box-sizing: border-box;padding-bottom: 0.4em;background-color: white;}#sk-container-id-5 div.sk-label label {font-family: monospace;font-weight: bold;display: inline-block;line-height: 1.2em;}#sk-container-id-5 div.sk-label-container {text-align: center;}#sk-container-id-5 div.sk-container {/* jupyter's `normalize.less` sets `[hidden] { display: none; }` but bootstrap.min.css set `[hidden] { display: none !important; }` so we also need the `!important` here to be able to override the default hidden behavior on the sphinx rendered scikit-learn.org. See: https://github.com/scikit-learn/scikit-learn/issues/21755 */display: inline-block !important;position: relative;}#sk-container-id-5 div.sk-text-repr-fallback {display: none;}</style><div id=\"sk-container-id-5\" class=\"sk-top-container\"><div class=\"sk-text-repr-fallback\"><pre>Pipeline(steps=[(&#x27;mms&#x27;, MinMaxScaler()), (&#x27;linreg&#x27;, LinearRegression())])</pre><b>In a Jupyter environment, please rerun this cell to show the HTML representation or trust the notebook. <br />On GitHub, the HTML representation is unable to render, please try loading this page with nbviewer.org.</b></div><div class=\"sk-container\" hidden><div class=\"sk-item sk-dashed-wrapped\"><div class=\"sk-label-container\"><div class=\"sk-label sk-toggleable\"><input class=\"sk-toggleable__control sk-hidden--visually\" id=\"sk-estimator-id-11\" type=\"checkbox\" ><label for=\"sk-estimator-id-11\" class=\"sk-toggleable__label sk-toggleable__label-arrow\">Pipeline</label><div class=\"sk-toggleable__content\"><pre>Pipeline(steps=[(&#x27;mms&#x27;, MinMaxScaler()), (&#x27;linreg&#x27;, LinearRegression())])</pre></div></div></div><div class=\"sk-serial\"><div class=\"sk-item\"><div class=\"sk-estimator sk-toggleable\"><input class=\"sk-toggleable__control sk-hidden--visually\" id=\"sk-estimator-id-12\" type=\"checkbox\" ><label for=\"sk-estimator-id-12\" class=\"sk-toggleable__label sk-toggleable__label-arrow\">MinMaxScaler</label><div class=\"sk-toggleable__content\"><pre>MinMaxScaler()</pre></div></div></div><div class=\"sk-item\"><div class=\"sk-estimator sk-toggleable\"><input class=\"sk-toggleable__control sk-hidden--visually\" id=\"sk-estimator-id-13\" type=\"checkbox\" ><label for=\"sk-estimator-id-13\" class=\"sk-toggleable__label sk-toggleable__label-arrow\">LinearRegression</label><div class=\"sk-toggleable__content\"><pre>LinearRegression()</pre></div></div></div></div></div></div></div>"
            ]
          },
          "metadata": {},
          "execution_count": 235
        }
      ]
    },
    {
      "cell_type": "code",
      "source": [
        "pipe.score(X_train, y)"
      ],
      "metadata": {
        "id": "RUG3z1mW8Hte",
        "colab": {
          "base_uri": "https://localhost:8080/"
        },
        "outputId": "de49f624-6594-4c5b-ad4d-815096e0fbbd"
      },
      "execution_count": 237,
      "outputs": [
        {
          "output_type": "execute_result",
          "data": {
            "text/plain": [
              "0.47667984371249106"
            ]
          },
          "metadata": {},
          "execution_count": 237
        }
      ]
    },
    {
      "cell_type": "code",
      "source": [],
      "metadata": {
        "id": "f3Xa633kX5_T"
      },
      "execution_count": 237,
      "outputs": []
    },
    {
      "cell_type": "code",
      "source": [
        "train_num.hist(bins = 20, figsize=(10, 5))\n",
        "\n",
        "plt.tight_layout()\n",
        "plt.show()"
      ],
      "metadata": {
        "id": "E4DOuNGdX955",
        "colab": {
          "base_uri": "https://localhost:8080/",
          "height": 506
        },
        "outputId": "67c5eb66-6a1d-4e4a-f53e-6e0e6e060619"
      },
      "execution_count": 238,
      "outputs": [
        {
          "output_type": "display_data",
          "data": {
            "text/plain": [
              "<Figure size 1000x500 with 16 Axes>"
            ],
            "image/png": "[encoded data removed]"
          },
          "metadata": {}
        }
      ]
    },
    {
      "cell_type": "markdown",
      "source": [
        "## Log Transform Skewed Numerical Data"
      ],
      "metadata": {
        "id": "dZB7qvcxEdUx"
      }
    },
    {
      "cell_type": "code",
      "source": [
        "columns_to_transform = ['CultLand', 'CropCultLand', 'SeedlingsPerPit', 'TransplantingIrrigationHours', 'TransIrriCost', 'StandingWater',\n",
        "                        'Harv_hand_rent', 'Residue_length', 'Acre', 'Yield']\n",
        "\n",
        "# Perform log transformation\n",
        "train_num_log = train_num[columns_to_transform].apply(np.log)\n",
        "\n",
        "train_num_log.hist(bins = 20, figsize=(10, 5))\n",
        "\n",
        "plt.tight_layout()\n",
        "plt.show()\n"
      ],
      "metadata": {
        "id": "k7UqPh5o-8OD",
        "colab": {
          "base_uri": "https://localhost:8080/",
          "height": 506
        },
        "outputId": "341040f9-0ad5-47c6-caf9-fba08ad4435a"
      },
      "execution_count": 239,
      "outputs": [
        {
          "output_type": "display_data",
          "data": {
            "text/plain": [
              "<Figure size 1000x500 with 12 Axes>"
            ],
            "image/png": "[encoded data removed]"
          },
          "metadata": {}
        }
      ]
    },
    {
      "cell_type": "code",
      "source": [
        "train_num_log.head()"
      ],
      "metadata": {
        "id": "Li9miVsJPDXS",
        "colab": {
          "base_uri": "https://localhost:8080/",
          "height": 224
        },
        "outputId": "297ad7ea-5a38-4a0a-dc5d-d8b16e09b67d"
      },
      "execution_count": 240,
      "outputs": [
        {
          "output_type": "execute_result",
          "data": {
            "text/plain": [
              "   CultLand  CropCultLand  SeedlingsPerPit  TransplantingIrrigationHours  \\\n",
              "0  3.806662      3.688879         0.693147                      1.609438   \n",
              "1  3.258097      3.258097         0.693147                      1.609438   \n",
              "2  2.302585      2.302585         0.693147                      1.386294   \n",
              "3  2.708050      2.708050         0.693147                      1.386294   \n",
              "4  4.094345      4.094345         0.693147                      2.197225   \n",
              "\n",
              "   TransIrriCost  StandingWater  Harv_hand_rent  Residue_length      Acre  \\\n",
              "0       5.298317       0.693147        5.991465        3.401197 -1.163151   \n",
              "1       4.828314       1.098612        1.098612        3.178054 -1.163151   \n",
              "2       4.382027       0.693147        6.173786        3.401197 -1.909543   \n",
              "3       5.521461       1.098612        5.480639        3.258097 -1.504077   \n",
              "4       5.703782       0.693147        5.991465        3.178054 -0.757686   \n",
              "\n",
              "      Yield  \n",
              "0  6.396930  \n",
              "1  6.396930  \n",
              "2  5.416100  \n",
              "3  6.148468  \n",
              "4  6.309918  "
            ],
            "text/html": [
              "\n",
              "  <div id=\"df-e8fc40d3-864e-472b-9781-4f0efc9effd8\" class=\"colab-df-container\">\n",
              "    <div>\n",
              "<style scoped>\n",
              "    .dataframe tbody tr th:only-of-type {\n",
              "        vertical-align: middle;\n",
              "    }\n",
              "\n",
              "    .dataframe tbody tr th {\n",
              "        vertical-align: top;\n",
              "    }\n",
              "\n",
              "    .dataframe thead th {\n",
              "        text-align: right;\n",
              "    }\n",
              "</style>\n",
              "<table border=\"1\" class=\"dataframe\">\n",
              "  <thead>\n",
              "    <tr style=\"text-align: right;\">\n",
              "      <th></th>\n",
              "      <th>CultLand</th>\n",
              "      <th>CropCultLand</th>\n",
              "      <th>SeedlingsPerPit</th>\n",
              "      <th>TransplantingIrrigationHours</th>\n",
              "      <th>TransIrriCost</th>\n",
              "      <th>StandingWater</th>\n",
              "      <th>Harv_hand_rent</th>\n",
              "      <th>Residue_length</th>\n",
              "      <th>Acre</th>\n",
              "      <th>Yield</th>\n",
              "    </tr>\n",
              "  </thead>\n",
              "  <tbody>\n",
              "    <tr>\n",
              "      <th>0</th>\n",
              "      <td>3.806662</td>\n",
              "      <td>3.688879</td>\n",
              "      <td>0.693147</td>\n",
              "      <td>1.609438</td>\n",
              "      <td>5.298317</td>\n",
              "      <td>0.693147</td>\n",
              "      <td>5.991465</td>\n",
              "      <td>3.401197</td>\n",
              "      <td>-1.163151</td>\n",
              "      <td>6.396930</td>\n",
              "    </tr>\n",
              "    <tr>\n",
              "      <th>1</th>\n",
              "      <td>3.258097</td>\n",
              "      <td>3.258097</td>\n",
              "      <td>0.693147</td>\n",
              "      <td>1.609438</td>\n",
              "      <td>4.828314</td>\n",
              "      <td>1.098612</td>\n",
              "      <td>1.098612</td>\n",
              "      <td>3.178054</td>\n",
              "      <td>-1.163151</td>\n",
              "      <td>6.396930</td>\n",
              "    </tr>\n",
              "    <tr>\n",
              "      <th>2</th>\n",
              "      <td>2.302585</td>\n",
              "      <td>2.302585</td>\n",
              "      <td>0.693147</td>\n",
              "      <td>1.386294</td>\n",
              "      <td>4.382027</td>\n",
              "      <td>0.693147</td>\n",
              "      <td>6.173786</td>\n",
              "      <td>3.401197</td>\n",
              "      <td>-1.909543</td>\n",
              "      <td>5.416100</td>\n",
              "    </tr>\n",
              "    <tr>\n",
              "      <th>3</th>\n",
              "      <td>2.708050</td>\n",
              "      <td>2.708050</td>\n",
              "      <td>0.693147</td>\n",
              "      <td>1.386294</td>\n",
              "      <td>5.521461</td>\n",
              "      <td>1.098612</td>\n",
              "      <td>5.480639</td>\n",
              "      <td>3.258097</td>\n",
              "      <td>-1.504077</td>\n",
              "      <td>6.148468</td>\n",
              "    </tr>\n",
              "    <tr>\n",
              "      <th>4</th>\n",
              "      <td>4.094345</td>\n",
              "      <td>4.094345</td>\n",
              "      <td>0.693147</td>\n",
              "      <td>2.197225</td>\n",
              "      <td>5.703782</td>\n",
              "      <td>0.693147</td>\n",
              "      <td>5.991465</td>\n",
              "      <td>3.178054</td>\n",
              "      <td>-0.757686</td>\n",
              "      <td>6.309918</td>\n",
              "    </tr>\n",
              "  </tbody>\n",
              "</table>\n",
              "</div>\n",
              "    <div class=\"colab-df-buttons\">\n",
              "\n",
              "  <div class=\"colab-df-container\">\n",
              "    <button class=\"colab-df-convert\" onclick=\"convertToInteractive('df-e8fc40d3-864e-472b-9781-4f0efc9effd8')\"\n",
              "            title=\"Convert this dataframe to an interactive table.\"\n",
              "            style=\"display:none;\">\n",
              "\n",
              "  <svg xmlns=\"http://www.w3.org/2000/svg\" height=\"24px\" viewBox=\"0 -960 960 960\">\n",
              "    <path d=\"M120-120v-720h720v720H120Zm60-500h600v-160H180v160Zm220 220h160v-160H400v160Zm0 220h160v-160H400v160ZM180-400h160v-160H180v160Zm440 0h160v-160H620v160ZM180-180h160v-160H180v160Zm440 0h160v-160H620v160Z\"/>\n",
              "  </svg>\n",
              "    </button>\n",
              "\n",
              "  <style>\n",
              "    .colab-df-container {\n",
              "      display:flex;\n",
              "      gap: 12px;\n",
              "    }\n",
              "\n",
              "    .colab-df-convert {\n",
              "      background-color: #E8F0FE;\n",
              "      border: none;\n",
              "      border-radius: 50%;\n",
              "      cursor: pointer;\n",
              "      display: none;\n",
              "      fill: #1967D2;\n",
              "      height: 32px;\n",
              "      padding: 0 0 0 0;\n",
              "      width: 32px;\n",
              "    }\n",
              "\n",
              "    .colab-df-convert:hover {\n",
              "      background-color: #E2EBFA;\n",
              "      box-shadow: 0px 1px 2px rgba(60, 64, 67, 0.3), 0px 1px 3px 1px rgba(60, 64, 67, 0.15);\n",
              "      fill: #174EA6;\n",
              "    }\n",
              "\n",
              "    .colab-df-buttons div {\n",
              "      margin-bottom: 4px;\n",
              "    }\n",
              "\n",
              "    [theme=dark] .colab-df-convert {\n",
              "      background-color: #3B4455;\n",
              "      fill: #D2E3FC;\n",
              "    }\n",
              "\n",
              "    [theme=dark] .colab-df-convert:hover {\n",
              "      background-color: #434B5C;\n",
              "      box-shadow: 0px 1px 3px 1px rgba(0, 0, 0, 0.15);\n",
              "      filter: drop-shadow(0px 1px 2px rgba(0, 0, 0, 0.3));\n",
              "      fill: #FFFFFF;\n",
              "    }\n",
              "  </style>\n",
              "\n",
              "    <script>\n",
              "      const buttonEl =\n",
              "        document.querySelector('#df-e8fc40d3-864e-472b-9781-4f0efc9effd8 button.colab-df-convert');\n",
              "      buttonEl.style.display =\n",
              "        google.colab.kernel.accessAllowed ? 'block' : 'none';\n",
              "\n",
              "      async function convertToInteractive(key) {\n",
              "        const element = document.querySelector('#df-e8fc40d3-864e-472b-9781-4f0efc9effd8');\n",
              "        const dataTable =\n",
              "          await google.colab.kernel.invokeFunction('convertToInteractive',\n",
              "                                                    [key], {});\n",
              "        if (!dataTable) return;\n",
              "\n",
              "        const docLinkHtml = 'Like what you see? Visit the ' +\n",
              "          '<a target=\"_blank\" href=https://colab.research.google.com/notebooks/data_table.ipynb>data table notebook</a>'\n",
              "          + ' to learn more about interactive tables.';\n",
              "        element.innerHTML = '';\n",
              "        dataTable['output_type'] = 'display_data';\n",
              "        await google.colab.output.renderOutput(dataTable, element);\n",
              "        const docLink = document.createElement('div');\n",
              "        docLink.innerHTML = docLinkHtml;\n",
              "        element.appendChild(docLink);\n",
              "      }\n",
              "    </script>\n",
              "  </div>\n",
              "\n",
              "\n",
              "<div id=\"df-1c5fd5bb-f8ec-47b3-8214-20775b3c6135\">\n",
              "  <button class=\"colab-df-quickchart\" onclick=\"quickchart('df-1c5fd5bb-f8ec-47b3-8214-20775b3c6135')\"\n",
              "            title=\"Suggest charts\"\n",
              "            style=\"display:none;\">\n",
              "\n",
              "<svg xmlns=\"http://www.w3.org/2000/svg\" height=\"24px\"viewBox=\"0 0 24 24\"\n",
              "     width=\"24px\">\n",
              "    <g>\n",
              "        <path d=\"M19 3H5c-1.1 0-2 .9-2 2v14c0 1.1.9 2 2 2h14c1.1 0 2-.9 2-2V5c0-1.1-.9-2-2-2zM9 17H7v-7h2v7zm4 0h-2V7h2v10zm4 0h-2v-4h2v4z\"/>\n",
              "    </g>\n",
              "</svg>\n",
              "  </button>\n",
              "\n",
              "<style>\n",
              "  .colab-df-quickchart {\n",
              "      --bg-color: #E8F0FE;\n",
              "      --fill-color: #1967D2;\n",
              "      --hover-bg-color: #E2EBFA;\n",
              "      --hover-fill-color: #174EA6;\n",
              "      --disabled-fill-color: #AAA;\n",
              "      --disabled-bg-color: #DDD;\n",
              "  }\n",
              "\n",
              "  [theme=dark] .colab-df-quickchart {\n",
              "      --bg-color: #3B4455;\n",
              "      --fill-color: #D2E3FC;\n",
              "      --hover-bg-color: #434B5C;\n",
              "      --hover-fill-color: #FFFFFF;\n",
              "      --disabled-bg-color: #3B4455;\n",
              "      --disabled-fill-color: #666;\n",
              "  }\n",
              "\n",
              "  .colab-df-quickchart {\n",
              "    background-color: var(--bg-color);\n",
              "    border: none;\n",
              "    border-radius: 50%;\n",
              "    cursor: pointer;\n",
              "    display: none;\n",
              "    fill: var(--fill-color);\n",
              "    height: 32px;\n",
              "    padding: 0;\n",
              "    width: 32px;\n",
              "  }\n",
              "\n",
              "  .colab-df-quickchart:hover {\n",
              "    background-color: var(--hover-bg-color);\n",
              "    box-shadow: 0 1px 2px rgba(60, 64, 67, 0.3), 0 1px 3px 1px rgba(60, 64, 67, 0.15);\n",
              "    fill: var(--button-hover-fill-color);\n",
              "  }\n",
              "\n",
              "  .colab-df-quickchart-complete:disabled,\n",
              "  .colab-df-quickchart-complete:disabled:hover {\n",
              "    background-color: var(--disabled-bg-color);\n",
              "    fill: var(--disabled-fill-color);\n",
              "    box-shadow: none;\n",
              "  }\n",
              "\n",
              "  .colab-df-spinner {\n",
              "    border: 2px solid var(--fill-color);\n",
              "    border-color: transparent;\n",
              "    border-bottom-color: var(--fill-color);\n",
              "    animation:\n",
              "      spin 1s steps(1) infinite;\n",
              "  }\n",
              "\n",
              "  @keyframes spin {\n",
              "    0% {\n",
              "      border-color: transparent;\n",
              "      border-bottom-color: var(--fill-color);\n",
              "      border-left-color: var(--fill-color);\n",
              "    }\n",
              "    20% {\n",
              "      border-color: transparent;\n",
              "      border-left-color: var(--fill-color);\n",
              "      border-top-color: var(--fill-color);\n",
              "    }\n",
              "    30% {\n",
              "      border-color: transparent;\n",
              "      border-left-color: var(--fill-color);\n",
              "      border-top-color: var(--fill-color);\n",
              "      border-right-color: var(--fill-color);\n",
              "    }\n",
              "    40% {\n",
              "      border-color: transparent;\n",
              "      border-right-color: var(--fill-color);\n",
              "      border-top-color: var(--fill-color);\n",
              "    }\n",
              "    60% {\n",
              "      border-color: transparent;\n",
              "      border-right-color: var(--fill-color);\n",
              "    }\n",
              "    80% {\n",
              "      border-color: transparent;\n",
              "      border-right-color: var(--fill-color);\n",
              "      border-bottom-color: var(--fill-color);\n",
              "    }\n",
              "    90% {\n",
              "      border-color: transparent;\n",
              "      border-bottom-color: var(--fill-color);\n",
              "    }\n",
              "  }\n",
              "</style>\n",
              "\n",
              "  <script>\n",
              "    async function quickchart(key) {\n",
              "      const quickchartButtonEl =\n",
              "        document.querySelector('#' + key + ' button');\n",
              "      quickchartButtonEl.disabled = true;  // To prevent multiple clicks.\n",
              "      quickchartButtonEl.classList.add('colab-df-spinner');\n",
              "      try {\n",
              "        const charts = await google.colab.kernel.invokeFunction(\n",
              "            'suggestCharts', [key], {});\n",
              "      } catch (error) {\n",
              "        console.error('Error during call to suggestCharts:', error);\n",
              "      }\n",
              "      quickchartButtonEl.classList.remove('colab-df-spinner');\n",
              "      quickchartButtonEl.classList.add('colab-df-quickchart-complete');\n",
              "    }\n",
              "    (() => {\n",
              "      let quickchartButtonEl =\n",
              "        document.querySelector('#df-1c5fd5bb-f8ec-47b3-8214-20775b3c6135 button');\n",
              "      quickchartButtonEl.style.display =\n",
              "        google.colab.kernel.accessAllowed ? 'block' : 'none';\n",
              "    })();\n",
              "  </script>\n",
              "</div>\n",
              "\n",
              "    </div>\n",
              "  </div>\n"
            ],
            "application/vnd.google.colaboratory.intrinsic+json": {
              "type": "dataframe",
              "variable_name": "train_num_log",
              "summary": "{\n  \"name\": \"train_num_log\",\n  \"rows\": 3870,\n  \"fields\": [\n    {\n      \"column\": \"CultLand\",\n      \"properties\": {\n        \"dtype\": \"number\",\n        \"std\": 0.7867330139657304,\n        \"min\": 0.0,\n        \"max\": 6.684611727667927,\n        \"num_unique_values\": 95,\n        \"samples\": [\n          3.828641396489095,\n          4.248495242049359,\n          5.560681631015528\n        ],\n        \"semantic_type\": \"\",\n        \"description\": \"\"\n      }\n    },\n    {\n      \"column\": \"CropCultLand\",\n      \"properties\": {\n        \"dtype\": \"number\",\n        \"std\": 0.8500582752743002,\n        \"min\": 0.0,\n        \"max\": 6.684611727667927,\n        \"num_unique_values\": 91,\n        \"samples\": [\n          4.007333185232471,\n          1.3862943611198906,\n          4.553876891600541\n        ],\n        \"semantic_type\": \"\",\n        \"description\": \"\"\n      }\n    },\n    {\n      \"column\": \"SeedlingsPerPit\",\n      \"properties\": {\n        \"dtype\": \"number\",\n        \"std\": 0.5574070804773001,\n        \"min\": 0.0,\n        \"max\": 6.091309882077698,\n        \"num_unique_values\": 21,\n        \"samples\": [\n          0.6931471805599453,\n          3.091042453358316,\n          2.772588722239781\n        ],\n        \"semantic_type\": \"\",\n        \"description\": \"\"\n      }\n    },\n    {\n      \"column\": \"TransplantingIrrigationHours\",\n      \"properties\": {\n        \"dtype\": \"number\",\n        \"std\": 0.7945484874600819,\n        \"min\": 0.0,\n        \"max\": 7.600902459542082,\n        \"num_unique_values\": 43,\n        \"samples\": [\n          4.0943445622221,\n          3.6888794541139363,\n          2.3978952727983707\n        ],\n        \"semantic_type\": \"\",\n        \"description\": \"\"\n      }\n    },\n    {\n      \"column\": \"TransIrriCost\",\n      \"properties\": {\n        \"dtype\": \"number\",\n        \"std\": 0.8339528255969443,\n        \"min\": 0.0,\n        \"max\": 8.699514748210191,\n        \"num_unique_values\": 100,\n        \"samples\": [\n          7.649692623711514,\n          4.0943445622221,\n          5.66988092298052\n        ],\n        \"semantic_type\": \"\",\n        \"description\": \"\"\n      }\n    },\n    {\n      \"column\": \"StandingWater\",\n      \"properties\": {\n        \"dtype\": \"number\",\n        \"std\": 0.5843963279688074,\n        \"min\": 0.0,\n        \"max\": 2.70805020110221,\n        \"num_unique_values\": 14,\n        \"samples\": [\n          1.9459101490553132,\n          2.302585092994046,\n          0.6931471805599453\n        ],\n        \"semantic_type\": \"\",\n        \"description\": \"\"\n      }\n    },\n    {\n      \"column\": \"Harv_hand_rent\",\n      \"properties\": {\n        \"dtype\": \"number\",\n        \"std\": 0.9848453837904826,\n        \"min\": 0.0,\n        \"max\": 11.002099841204238,\n        \"num_unique_values\": 131,\n        \"samples\": [\n          8.294049640102028,\n          6.272877006546167,\n          7.649692623711514\n        ],\n        \"semantic_type\": \"\",\n        \"description\": \"\"\n      }\n    },\n    {\n      \"column\": \"Residue_length\",\n      \"properties\": {\n        \"dtype\": \"number\",\n        \"std\": 0.16686057194098314,\n        \"min\": 0.6931471805599453,\n        \"max\": 3.4011973816621555,\n        \"num_unique_values\": 22,\n        \"samples\": [\n          3.4011973816621555,\n          0.6931471805599453,\n          3.332204510175204\n        ],\n        \"semantic_type\": \"\",\n        \"description\": \"\"\n      }\n    },\n    {\n      \"column\": \"Acre\",\n      \"properties\": {\n        \"dtype\": \"number\",\n        \"std\": 0.6264438152947247,\n        \"min\": -3.091042453358317,\n        \"max\": 0.7827593392496325,\n        \"num_unique_values\": 77,\n        \"samples\": [\n          -1.9924301646902058,\n          -0.6567795363890705,\n          -0.7884573603642703\n        ],\n        \"semantic_type\": \"\",\n        \"description\": \"\"\n      }\n    },\n    {\n      \"column\": \"Yield\",\n      \"properties\": {\n        \"dtype\": \"number\",\n        \"std\": 1.0378730801083402,\n        \"min\": 1.3862943611198906,\n        \"max\": 9.72913416539135,\n        \"num_unique_values\": 379,\n        \"samples\": [\n          6.222576268071369,\n          5.375278407684165,\n          7.590852123688581\n        ],\n        \"semantic_type\": \"\",\n        \"description\": \"\"\n      }\n    }\n  ]\n}"
            }
          },
          "metadata": {},
          "execution_count": 240
        }
      ]
    },
    {
      "cell_type": "markdown",
      "source": [
        "## Linear Regression with Log Transformation"
      ],
      "metadata": {
        "id": "Qsirpjl0E9PE"
      }
    },
    {
      "cell_type": "code",
      "source": [
        "pipe_log = Pipeline([('ss', StandardScaler()), ('linreg', LinearRegression())])\n"
      ],
      "metadata": {
        "id": "Bf4Ce4AdWYjZ"
      },
      "execution_count": 241,
      "outputs": []
    },
    {
      "cell_type": "code",
      "source": [
        "train_num_log = pd.concat([id_column, train_num_log], axis=1)\n",
        "train_log = pd.merge(train_cat_ohe, train_num_log)\n",
        "\n",
        "X_train_log = train.drop(columns = ['ID', 'Yield'])\n",
        "y = train['Yield']\n",
        "\n",
        "pipe.fit(X_train_log, y)\n"
      ],
      "metadata": {
        "id": "t7dAl3tLYeBQ",
        "colab": {
          "base_uri": "https://localhost:8080/",
          "height": 124
        },
        "outputId": "1b57b212-2181-49dc-8dbf-12a8363c7e3e"
      },
      "execution_count": 242,
      "outputs": [
        {
          "output_type": "execute_result",
          "data": {
            "text/plain": [
              "Pipeline(steps=[('mms', MinMaxScaler()), ('linreg', LinearRegression())])"
            ],
            "text/html": [
              "<style>#sk-container-id-6 {color: black;background-color: white;}#sk-container-id-6 pre{padding: 0;}#sk-container-id-6 div.sk-toggleable {background-color: white;}#sk-container-id-6 label.sk-toggleable__label {cursor: pointer;display: block;width: 100%;margin-bottom: 0;padding: 0.3em;box-sizing: border-box;text-align: center;}#sk-container-id-6 label.sk-toggleable__label-arrow:before {content: \"▸\";float: left;margin-right: 0.25em;color: #696969;}#sk-container-id-6 label.sk-toggleable__label-arrow:hover:before {color: black;}#sk-container-id-6 div.sk-estimator:hover label.sk-toggleable__label-arrow:before {color: black;}#sk-container-id-6 div.sk-toggleable__content {max-height: 0;max-width: 0;overflow: hidden;text-align: left;background-color: #f0f8ff;}#sk-container-id-6 div.sk-toggleable__content pre {margin: 0.2em;color: black;border-radius: 0.25em;background-color: #f0f8ff;}#sk-container-id-6 input.sk-toggleable__control:checked~div.sk-toggleable__content {max-height: 200px;max-width: 100%;overflow: auto;}#sk-container-id-6 input.sk-toggleable__control:checked~label.sk-toggleable__label-arrow:before {content: \"▾\";}#sk-container-id-6 div.sk-estimator input.sk-toggleable__control:checked~label.sk-toggleable__label {background-color: #d4ebff;}#sk-container-id-6 div.sk-label input.sk-toggleable__control:checked~label.sk-toggleable__label {background-color: #d4ebff;}#sk-container-id-6 input.sk-hidden--visually {border: 0;clip: rect(1px 1px 1px 1px);clip: rect(1px, 1px, 1px, 1px);height: 1px;margin: -1px;overflow: hidden;padding: 0;position: absolute;width: 1px;}#sk-container-id-6 div.sk-estimator {font-family: monospace;background-color: #f0f8ff;border: 1px dotted black;border-radius: 0.25em;box-sizing: border-box;margin-bottom: 0.5em;}#sk-container-id-6 div.sk-estimator:hover {background-color: #d4ebff;}#sk-container-id-6 div.sk-parallel-item::after {content: \"\";width: 100%;border-bottom: 1px solid gray;flex-grow: 1;}#sk-container-id-6 div.sk-label:hover label.sk-toggleable__label {background-color: #d4ebff;}#sk-container-id-6 div.sk-serial::before {content: \"\";position: absolute;border-left: 1px solid gray;box-sizing: border-box;top: 0;bottom: 0;left: 50%;z-index: 0;}#sk-container-id-6 div.sk-serial {display: flex;flex-direction: column;align-items: center;background-color: white;padding-right: 0.2em;padding-left: 0.2em;position: relative;}#sk-container-id-6 div.sk-item {position: relative;z-index: 1;}#sk-container-id-6 div.sk-parallel {display: flex;align-items: stretch;justify-content: center;background-color: white;position: relative;}#sk-container-id-6 div.sk-item::before, #sk-container-id-6 div.sk-parallel-item::before {content: \"\";position: absolute;border-left: 1px solid gray;box-sizing: border-box;top: 0;bottom: 0;left: 50%;z-index: -1;}#sk-container-id-6 div.sk-parallel-item {display: flex;flex-direction: column;z-index: 1;position: relative;background-color: white;}#sk-container-id-6 div.sk-parallel-item:first-child::after {align-self: flex-end;width: 50%;}#sk-container-id-6 div.sk-parallel-item:last-child::after {align-self: flex-start;width: 50%;}#sk-container-id-6 div.sk-parallel-item:only-child::after {width: 0;}#sk-container-id-6 div.sk-dashed-wrapped {border: 1px dashed gray;margin: 0 0.4em 0.5em 0.4em;box-sizing: border-box;padding-bottom: 0.4em;background-color: white;}#sk-container-id-6 div.sk-label label {font-family: monospace;font-weight: bold;display: inline-block;line-height: 1.2em;}#sk-container-id-6 div.sk-label-container {text-align: center;}#sk-container-id-6 div.sk-container {/* jupyter's `normalize.less` sets `[hidden] { display: none; }` but bootstrap.min.css set `[hidden] { display: none !important; }` so we also need the `!important` here to be able to override the default hidden behavior on the sphinx rendered scikit-learn.org. See: https://github.com/scikit-learn/scikit-learn/issues/21755 */display: inline-block !important;position: relative;}#sk-container-id-6 div.sk-text-repr-fallback {display: none;}</style><div id=\"sk-container-id-6\" class=\"sk-top-container\"><div class=\"sk-text-repr-fallback\"><pre>Pipeline(steps=[(&#x27;mms&#x27;, MinMaxScaler()), (&#x27;linreg&#x27;, LinearRegression())])</pre><b>In a Jupyter environment, please rerun this cell to show the HTML representation or trust the notebook. <br />On GitHub, the HTML representation is unable to render, please try loading this page with nbviewer.org.</b></div><div class=\"sk-container\" hidden><div class=\"sk-item sk-dashed-wrapped\"><div class=\"sk-label-container\"><div class=\"sk-label sk-toggleable\"><input class=\"sk-toggleable__control sk-hidden--visually\" id=\"sk-estimator-id-14\" type=\"checkbox\" ><label for=\"sk-estimator-id-14\" class=\"sk-toggleable__label sk-toggleable__label-arrow\">Pipeline</label><div class=\"sk-toggleable__content\"><pre>Pipeline(steps=[(&#x27;mms&#x27;, MinMaxScaler()), (&#x27;linreg&#x27;, LinearRegression())])</pre></div></div></div><div class=\"sk-serial\"><div class=\"sk-item\"><div class=\"sk-estimator sk-toggleable\"><input class=\"sk-toggleable__control sk-hidden--visually\" id=\"sk-estimator-id-15\" type=\"checkbox\" ><label for=\"sk-estimator-id-15\" class=\"sk-toggleable__label sk-toggleable__label-arrow\">MinMaxScaler</label><div class=\"sk-toggleable__content\"><pre>MinMaxScaler()</pre></div></div></div><div class=\"sk-item\"><div class=\"sk-estimator sk-toggleable\"><input class=\"sk-toggleable__control sk-hidden--visually\" id=\"sk-estimator-id-16\" type=\"checkbox\" ><label for=\"sk-estimator-id-16\" class=\"sk-toggleable__label sk-toggleable__label-arrow\">LinearRegression</label><div class=\"sk-toggleable__content\"><pre>LinearRegression()</pre></div></div></div></div></div></div></div>"
            ]
          },
          "metadata": {},
          "execution_count": 242
        }
      ]
    },
    {
      "cell_type": "code",
      "source": [
        "pipe.fit(X_train_log, y)\n",
        "pipe.score(X_train_log, y)"
      ],
      "metadata": {
        "colab": {
          "base_uri": "https://localhost:8080/"
        },
        "id": "Y93WnOfxHPFS",
        "outputId": "1cd5fc0e-8b90-4aab-ae5b-09265e46ffe4"
      },
      "execution_count": 243,
      "outputs": [
        {
          "output_type": "execute_result",
          "data": {
            "text/plain": [
              "0.47667984371249106"
            ]
          },
          "metadata": {},
          "execution_count": 243
        }
      ]
    },
    {
      "cell_type": "code",
      "source": [
        "pipe_log.fit(X_train_log, y)\n",
        "pipe_log.score(X_train_log, y)"
      ],
      "metadata": {
        "id": "wBOue65cOiRg",
        "colab": {
          "base_uri": "https://localhost:8080/"
        },
        "outputId": "fc1ffe48-f22a-4a78-987a-66d42e353306"
      },
      "execution_count": 244,
      "outputs": [
        {
          "output_type": "execute_result",
          "data": {
            "text/plain": [
              "0.4860376683551211"
            ]
          },
          "metadata": {},
          "execution_count": 244
        }
      ]
    },
    {
      "cell_type": "markdown",
      "source": [],
      "metadata": {
        "id": "2Lq8_8qsbM3n"
      }
    },
    {
      "cell_type": "markdown",
      "source": [
        "## Lasso Regression"
      ],
      "metadata": {
        "id": "CumsJkXBFEBL"
      }
    },
    {
      "cell_type": "code",
      "source": [
        "pipe_log_lasso = Pipeline([('ss', StandardScaler()), ('Lasso', Lasso(alpha = 0.5))])\n",
        "\n"
      ],
      "metadata": {
        "id": "T5VQSDcGPu0J"
      },
      "execution_count": 245,
      "outputs": []
    },
    {
      "cell_type": "code",
      "source": [
        "pipe_log_lasso.fit(X_train_log, y)"
      ],
      "metadata": {
        "id": "yU75EYgzSwBQ",
        "colab": {
          "base_uri": "https://localhost:8080/",
          "height": 124
        },
        "outputId": "44c51588-1e7a-4626-ccb4-067c5ef8eec5"
      },
      "execution_count": 246,
      "outputs": [
        {
          "output_type": "execute_result",
          "data": {
            "text/plain": [
              "Pipeline(steps=[('ss', StandardScaler()), ('Lasso', Lasso(alpha=0.5))])"
            ],
            "text/html": [
              "<style>#sk-container-id-7 {color: black;background-color: white;}#sk-container-id-7 pre{padding: 0;}#sk-container-id-7 div.sk-toggleable {background-color: white;}#sk-container-id-7 label.sk-toggleable__label {cursor: pointer;display: block;width: 100%;margin-bottom: 0;padding: 0.3em;box-sizing: border-box;text-align: center;}#sk-container-id-7 label.sk-toggleable__label-arrow:before {content: \"▸\";float: left;margin-right: 0.25em;color: #696969;}#sk-container-id-7 label.sk-toggleable__label-arrow:hover:before {color: black;}#sk-container-id-7 div.sk-estimator:hover label.sk-toggleable__label-arrow:before {color: black;}#sk-container-id-7 div.sk-toggleable__content {max-height: 0;max-width: 0;overflow: hidden;text-align: left;background-color: #f0f8ff;}#sk-container-id-7 div.sk-toggleable__content pre {margin: 0.2em;color: black;border-radius: 0.25em;background-color: #f0f8ff;}#sk-container-id-7 input.sk-toggleable__control:checked~div.sk-toggleable__content {max-height: 200px;max-width: 100%;overflow: auto;}#sk-container-id-7 input.sk-toggleable__control:checked~label.sk-toggleable__label-arrow:before {content: \"▾\";}#sk-container-id-7 div.sk-estimator input.sk-toggleable__control:checked~label.sk-toggleable__label {background-color: #d4ebff;}#sk-container-id-7 div.sk-label input.sk-toggleable__control:checked~label.sk-toggleable__label {background-color: #d4ebff;}#sk-container-id-7 input.sk-hidden--visually {border: 0;clip: rect(1px 1px 1px 1px);clip: rect(1px, 1px, 1px, 1px);height: 1px;margin: -1px;overflow: hidden;padding: 0;position: absolute;width: 1px;}#sk-container-id-7 div.sk-estimator {font-family: monospace;background-color: #f0f8ff;border: 1px dotted black;border-radius: 0.25em;box-sizing: border-box;margin-bottom: 0.5em;}#sk-container-id-7 div.sk-estimator:hover {background-color: #d4ebff;}#sk-container-id-7 div.sk-parallel-item::after {content: \"\";width: 100%;border-bottom: 1px solid gray;flex-grow: 1;}#sk-container-id-7 div.sk-label:hover label.sk-toggleable__label {background-color: #d4ebff;}#sk-container-id-7 div.sk-serial::before {content: \"\";position: absolute;border-left: 1px solid gray;box-sizing: border-box;top: 0;bottom: 0;left: 50%;z-index: 0;}#sk-container-id-7 div.sk-serial {display: flex;flex-direction: column;align-items: center;background-color: white;padding-right: 0.2em;padding-left: 0.2em;position: relative;}#sk-container-id-7 div.sk-item {position: relative;z-index: 1;}#sk-container-id-7 div.sk-parallel {display: flex;align-items: stretch;justify-content: center;background-color: white;position: relative;}#sk-container-id-7 div.sk-item::before, #sk-container-id-7 div.sk-parallel-item::before {content: \"\";position: absolute;border-left: 1px solid gray;box-sizing: border-box;top: 0;bottom: 0;left: 50%;z-index: -1;}#sk-container-id-7 div.sk-parallel-item {display: flex;flex-direction: column;z-index: 1;position: relative;background-color: white;}#sk-container-id-7 div.sk-parallel-item:first-child::after {align-self: flex-end;width: 50%;}#sk-container-id-7 div.sk-parallel-item:last-child::after {align-self: flex-start;width: 50%;}#sk-container-id-7 div.sk-parallel-item:only-child::after {width: 0;}#sk-container-id-7 div.sk-dashed-wrapped {border: 1px dashed gray;margin: 0 0.4em 0.5em 0.4em;box-sizing: border-box;padding-bottom: 0.4em;background-color: white;}#sk-container-id-7 div.sk-label label {font-family: monospace;font-weight: bold;display: inline-block;line-height: 1.2em;}#sk-container-id-7 div.sk-label-container {text-align: center;}#sk-container-id-7 div.sk-container {/* jupyter's `normalize.less` sets `[hidden] { display: none; }` but bootstrap.min.css set `[hidden] { display: none !important; }` so we also need the `!important` here to be able to override the default hidden behavior on the sphinx rendered scikit-learn.org. See: https://github.com/scikit-learn/scikit-learn/issues/21755 */display: inline-block !important;position: relative;}#sk-container-id-7 div.sk-text-repr-fallback {display: none;}</style><div id=\"sk-container-id-7\" class=\"sk-top-container\"><div class=\"sk-text-repr-fallback\"><pre>Pipeline(steps=[(&#x27;ss&#x27;, StandardScaler()), (&#x27;Lasso&#x27;, Lasso(alpha=0.5))])</pre><b>In a Jupyter environment, please rerun this cell to show the HTML representation or trust the notebook. <br />On GitHub, the HTML representation is unable to render, please try loading this page with nbviewer.org.</b></div><div class=\"sk-container\" hidden><div class=\"sk-item sk-dashed-wrapped\"><div class=\"sk-label-container\"><div class=\"sk-label sk-toggleable\"><input class=\"sk-toggleable__control sk-hidden--visually\" id=\"sk-estimator-id-17\" type=\"checkbox\" ><label for=\"sk-estimator-id-17\" class=\"sk-toggleable__label sk-toggleable__label-arrow\">Pipeline</label><div class=\"sk-toggleable__content\"><pre>Pipeline(steps=[(&#x27;ss&#x27;, StandardScaler()), (&#x27;Lasso&#x27;, Lasso(alpha=0.5))])</pre></div></div></div><div class=\"sk-serial\"><div class=\"sk-item\"><div class=\"sk-estimator sk-toggleable\"><input class=\"sk-toggleable__control sk-hidden--visually\" id=\"sk-estimator-id-18\" type=\"checkbox\" ><label for=\"sk-estimator-id-18\" class=\"sk-toggleable__label sk-toggleable__label-arrow\">StandardScaler</label><div class=\"sk-toggleable__content\"><pre>StandardScaler()</pre></div></div></div><div class=\"sk-item\"><div class=\"sk-estimator sk-toggleable\"><input class=\"sk-toggleable__control sk-hidden--visually\" id=\"sk-estimator-id-19\" type=\"checkbox\" ><label for=\"sk-estimator-id-19\" class=\"sk-toggleable__label sk-toggleable__label-arrow\">Lasso</label><div class=\"sk-toggleable__content\"><pre>Lasso(alpha=0.5)</pre></div></div></div></div></div></div></div>"
            ]
          },
          "metadata": {},
          "execution_count": 246
        }
      ]
    },
    {
      "cell_type": "code",
      "source": [
        "pipe_log_lasso.score(X_train_log, y)"
      ],
      "metadata": {
        "colab": {
          "base_uri": "https://localhost:8080/"
        },
        "id": "Pm06ySguG_io",
        "outputId": "29d74090-7c83-40b6-bb76-ba539b6a2140"
      },
      "execution_count": 247,
      "outputs": [
        {
          "output_type": "execute_result",
          "data": {
            "text/plain": [
              "0.4878977093458947"
            ]
          },
          "metadata": {},
          "execution_count": 247
        }
      ]
    },
    {
      "cell_type": "markdown",
      "source": [
        "## Random Forest"
      ],
      "metadata": {
        "id": "AWsPT8ioWdUD"
      }
    },
    {
      "cell_type": "code",
      "source": [
        "regressor = RandomForestRegressor(n_estimators=10, random_state=42, oob_score=True)\n",
        "\n",
        "regressor.fit(X_train_log, y)"
      ],
      "metadata": {
        "colab": {
          "base_uri": "https://localhost:8080/",
          "height": 128
        },
        "id": "-sXn5GgAWfGS",
        "outputId": "12e44397-604a-4bf3-d45f-d8082404a49c"
      },
      "execution_count": 248,
      "outputs": [
        {
          "output_type": "stream",
          "name": "stderr",
          "text": [
            "/usr/local/lib/python3.10/dist-packages/sklearn/ensemble/_forest.py:583: UserWarning: Some inputs do not have OOB scores. This probably means too few trees were used to compute any reliable OOB estimates.\n",
            "  warn(\n"
          ]
        },
        {
          "output_type": "execute_result",
          "data": {
            "text/plain": [
              "RandomForestRegressor(n_estimators=10, oob_score=True, random_state=42)"
            ],
            "text/html": [
              "<style>#sk-container-id-8 {color: black;background-color: white;}#sk-container-id-8 pre{padding: 0;}#sk-container-id-8 div.sk-toggleable {background-color: white;}#sk-container-id-8 label.sk-toggleable__label {cursor: pointer;display: block;width: 100%;margin-bottom: 0;padding: 0.3em;box-sizing: border-box;text-align: center;}#sk-container-id-8 label.sk-toggleable__label-arrow:before {content: \"▸\";float: left;margin-right: 0.25em;color: #696969;}#sk-container-id-8 label.sk-toggleable__label-arrow:hover:before {color: black;}#sk-container-id-8 div.sk-estimator:hover label.sk-toggleable__label-arrow:before {color: black;}#sk-container-id-8 div.sk-toggleable__content {max-height: 0;max-width: 0;overflow: hidden;text-align: left;background-color: #f0f8ff;}#sk-container-id-8 div.sk-toggleable__content pre {margin: 0.2em;color: black;border-radius: 0.25em;background-color: #f0f8ff;}#sk-container-id-8 input.sk-toggleable__control:checked~div.sk-toggleable__content {max-height: 200px;max-width: 100%;overflow: auto;}#sk-container-id-8 input.sk-toggleable__control:checked~label.sk-toggleable__label-arrow:before {content: \"▾\";}#sk-container-id-8 div.sk-estimator input.sk-toggleable__control:checked~label.sk-toggleable__label {background-color: #d4ebff;}#sk-container-id-8 div.sk-label input.sk-toggleable__control:checked~label.sk-toggleable__label {background-color: #d4ebff;}#sk-container-id-8 input.sk-hidden--visually {border: 0;clip: rect(1px 1px 1px 1px);clip: rect(1px, 1px, 1px, 1px);height: 1px;margin: -1px;overflow: hidden;padding: 0;position: absolute;width: 1px;}#sk-container-id-8 div.sk-estimator {font-family: monospace;background-color: #f0f8ff;border: 1px dotted black;border-radius: 0.25em;box-sizing: border-box;margin-bottom: 0.5em;}#sk-container-id-8 div.sk-estimator:hover {background-color: #d4ebff;}#sk-container-id-8 div.sk-parallel-item::after {content: \"\";width: 100%;border-bottom: 1px solid gray;flex-grow: 1;}#sk-container-id-8 div.sk-label:hover label.sk-toggleable__label {background-color: #d4ebff;}#sk-container-id-8 div.sk-serial::before {content: \"\";position: absolute;border-left: 1px solid gray;box-sizing: border-box;top: 0;bottom: 0;left: 50%;z-index: 0;}#sk-container-id-8 div.sk-serial {display: flex;flex-direction: column;align-items: center;background-color: white;padding-right: 0.2em;padding-left: 0.2em;position: relative;}#sk-container-id-8 div.sk-item {position: relative;z-index: 1;}#sk-container-id-8 div.sk-parallel {display: flex;align-items: stretch;justify-content: center;background-color: white;position: relative;}#sk-container-id-8 div.sk-item::before, #sk-container-id-8 div.sk-parallel-item::before {content: \"\";position: absolute;border-left: 1px solid gray;box-sizing: border-box;top: 0;bottom: 0;left: 50%;z-index: -1;}#sk-container-id-8 div.sk-parallel-item {display: flex;flex-direction: column;z-index: 1;position: relative;background-color: white;}#sk-container-id-8 div.sk-parallel-item:first-child::after {align-self: flex-end;width: 50%;}#sk-container-id-8 div.sk-parallel-item:last-child::after {align-self: flex-start;width: 50%;}#sk-container-id-8 div.sk-parallel-item:only-child::after {width: 0;}#sk-container-id-8 div.sk-dashed-wrapped {border: 1px dashed gray;margin: 0 0.4em 0.5em 0.4em;box-sizing: border-box;padding-bottom: 0.4em;background-color: white;}#sk-container-id-8 div.sk-label label {font-family: monospace;font-weight: bold;display: inline-block;line-height: 1.2em;}#sk-container-id-8 div.sk-label-container {text-align: center;}#sk-container-id-8 div.sk-container {/* jupyter's `normalize.less` sets `[hidden] { display: none; }` but bootstrap.min.css set `[hidden] { display: none !important; }` so we also need the `!important` here to be able to override the default hidden behavior on the sphinx rendered scikit-learn.org. See: https://github.com/scikit-learn/scikit-learn/issues/21755 */display: inline-block !important;position: relative;}#sk-container-id-8 div.sk-text-repr-fallback {display: none;}</style><div id=\"sk-container-id-8\" class=\"sk-top-container\"><div class=\"sk-text-repr-fallback\"><pre>RandomForestRegressor(n_estimators=10, oob_score=True, random_state=42)</pre><b>In a Jupyter environment, please rerun this cell to show the HTML representation or trust the notebook. <br />On GitHub, the HTML representation is unable to render, please try loading this page with nbviewer.org.</b></div><div class=\"sk-container\" hidden><div class=\"sk-item\"><div class=\"sk-estimator sk-toggleable\"><input class=\"sk-toggleable__control sk-hidden--visually\" id=\"sk-estimator-id-20\" type=\"checkbox\" checked><label for=\"sk-estimator-id-20\" class=\"sk-toggleable__label sk-toggleable__label-arrow\">RandomForestRegressor</label><div class=\"sk-toggleable__content\"><pre>RandomForestRegressor(n_estimators=10, oob_score=True, random_state=42)</pre></div></div></div></div></div>"
            ]
          },
          "metadata": {},
          "execution_count": 248
        }
      ]
    },
    {
      "cell_type": "code",
      "source": [
        "oob_score = regressor.oob_score_\n",
        "print(f'Out-of-Bag Score: {oob_score}')\n",
        "\n",
        "predictions = regressor.predict(X_train_log)\n",
        "\n",
        "mse = mean_squared_error(y, predictions)\n",
        "print(f'Mean Squared Error: {mse}')\n",
        "\n",
        "r2 = r2_score(y, predictions)\n",
        "print(f'R-squared: {r2}')"
      ],
      "metadata": {
        "colab": {
          "base_uri": "https://localhost:8080/"
        },
        "id": "S4Pgoql2X2nP",
        "outputId": "23838531-edd2-4a68-bb42-62e4acb6e1ac"
      },
      "execution_count": 249,
      "outputs": [
        {
          "output_type": "stream",
          "name": "stdout",
          "text": [
            "Out-of-Bag Score: 0.1616779432134925\n",
            "Mean Squared Error: 47180.712153628985\n",
            "R-squared: 0.8889567467405397\n"
          ]
        }
      ]
    },
    {
      "cell_type": "code",
      "source": [
        "importances = regressor.feature_importances_\n",
        "\n",
        "# Sort them in descending order and select the top 10\n",
        "sorted_indices = np.argsort(importances)[::-1]\n",
        "top_sorted_indices = sorted_indices[:20]\n",
        "\n",
        "\n",
        "# Get the top feature names if available (here using dummy names)\n",
        "feature_names = X_train_log.columns\n",
        "top_feature_names = feature_names[top_sorted_indices]\n",
        "\n",
        "# Plotting\n",
        "plt.figure(figsize=(15, 5))\n",
        "plt.title(\"Feature Importances\")\n",
        "plt.bar(range(len(top_sorted_indices)), importances[top_sorted_indices], color=\"r\", align=\"center\")\n",
        "plt.xticks(range(len(top_sorted_indices)), top_feature_names, rotation=90)\n",
        "plt.xlim([-1, len(top_sorted_indices)])\n",
        "plt.show()"
      ],
      "metadata": {
        "colab": {
          "base_uri": "https://localhost:8080/",
          "height": 715
        },
        "id": "7GHEtWCDYBBU",
        "outputId": "70aefddf-6331-4610-98f3-6ee6a8cee022"
      },
      "execution_count": 253,
      "outputs": [
        {
          "output_type": "display_data",
          "data": {
            "text/plain": [
              "<Figure size 1500x500 with 1 Axes>"
            ],
            "image/png": "[encoded data removed]"
          },
          "metadata": {}
        }
      ]
    },
    {
      "cell_type": "code",
      "source": [],
      "metadata": {
        "id": "HhJ_Yqhde1x1"
      },
      "execution_count": null,
      "outputs": []
    }
  ]
}